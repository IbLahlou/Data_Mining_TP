{
 "cells": [
  {
   "cell_type": "code",
   "execution_count": 2,
   "metadata": {},
   "outputs": [
    {
     "data": {
      "text/plain": [
       "'c:\\\\Users\\\\P52s\\\\Documents\\\\Obsidian\\\\Semestre 1 IDSCC5\\\\5eme année\\\\Data mining\\\\TPs\\\\Dev1_ANN_for_churn_modeling\\\\utils'"
      ]
     },
     "execution_count": 2,
     "metadata": {},
     "output_type": "execute_result"
    }
   ],
   "source": [
    "import os\n",
    "\n",
    "os.chdir(\"./utils\")\n",
    "\n",
    "%pwd"
   ]
  },
  {
   "cell_type": "code",
   "execution_count": 3,
   "metadata": {},
   "outputs": [],
   "source": [
    "import pandas as pd\n",
    "from decision_tree_functions import decision_tree_algorithm, calculate_accuracy, make_predictions, predict_example\n",
    "from helper_functions import create_plot\n",
    "import numpy as np \n",
    "import pandas as pd\n",
    "import matplotlib.pyplot as plt\n",
    "import seaborn as sns"
   ]
  },
  {
   "cell_type": "code",
   "execution_count": 4,
   "metadata": {},
   "outputs": [
    {
     "data": {
      "text/plain": [
       "'c:\\\\Users\\\\P52s\\\\Documents\\\\Obsidian\\\\Semestre 1 IDSCC5\\\\5eme année\\\\Data mining\\\\TPs\\\\data'"
      ]
     },
     "execution_count": 4,
     "metadata": {},
     "output_type": "execute_result"
    }
   ],
   "source": [
    "os.chdir(\"../../data\")\n",
    "\n",
    "%pwd"
   ]
  },
  {
   "cell_type": "markdown",
   "id": "c355ec96",
   "metadata": {},
   "source": [
    "## 1. Importation et preparation des données : "
   ]
  },
  {
   "cell_type": "code",
   "execution_count": 26,
   "id": "6ed1e063",
   "metadata": {},
   "outputs": [],
   "source": [
    "df = pd.read_csv(\"Churn_Modelling.csv\")"
   ]
  },
  {
   "cell_type": "code",
   "execution_count": 27,
   "id": "a0f44ac0",
   "metadata": {
    "scrolled": true
   },
   "outputs": [
    {
     "data": {
      "text/html": [
       "<div>\n",
       "<style scoped>\n",
       "    .dataframe tbody tr th:only-of-type {\n",
       "        vertical-align: middle;\n",
       "    }\n",
       "\n",
       "    .dataframe tbody tr th {\n",
       "        vertical-align: top;\n",
       "    }\n",
       "\n",
       "    .dataframe thead th {\n",
       "        text-align: right;\n",
       "    }\n",
       "</style>\n",
       "<table border=\"1\" class=\"dataframe\">\n",
       "  <thead>\n",
       "    <tr style=\"text-align: right;\">\n",
       "      <th></th>\n",
       "      <th>RowNumber</th>\n",
       "      <th>CustomerId</th>\n",
       "      <th>Surname</th>\n",
       "      <th>CreditScore</th>\n",
       "      <th>Geography</th>\n",
       "      <th>Gender</th>\n",
       "      <th>Age</th>\n",
       "      <th>Tenure</th>\n",
       "      <th>Balance</th>\n",
       "      <th>NumOfProducts</th>\n",
       "      <th>HasCrCard</th>\n",
       "      <th>IsActiveMember</th>\n",
       "      <th>EstimatedSalary</th>\n",
       "      <th>Exited</th>\n",
       "    </tr>\n",
       "  </thead>\n",
       "  <tbody>\n",
       "    <tr>\n",
       "      <th>0</th>\n",
       "      <td>1</td>\n",
       "      <td>15634602</td>\n",
       "      <td>Hargrave</td>\n",
       "      <td>619</td>\n",
       "      <td>France</td>\n",
       "      <td>Female</td>\n",
       "      <td>42</td>\n",
       "      <td>2</td>\n",
       "      <td>0.00</td>\n",
       "      <td>1</td>\n",
       "      <td>1</td>\n",
       "      <td>1</td>\n",
       "      <td>101348.88</td>\n",
       "      <td>1</td>\n",
       "    </tr>\n",
       "    <tr>\n",
       "      <th>1</th>\n",
       "      <td>2</td>\n",
       "      <td>15647311</td>\n",
       "      <td>Hill</td>\n",
       "      <td>608</td>\n",
       "      <td>Spain</td>\n",
       "      <td>Female</td>\n",
       "      <td>41</td>\n",
       "      <td>1</td>\n",
       "      <td>83807.86</td>\n",
       "      <td>1</td>\n",
       "      <td>0</td>\n",
       "      <td>1</td>\n",
       "      <td>112542.58</td>\n",
       "      <td>0</td>\n",
       "    </tr>\n",
       "    <tr>\n",
       "      <th>2</th>\n",
       "      <td>3</td>\n",
       "      <td>15619304</td>\n",
       "      <td>Onio</td>\n",
       "      <td>502</td>\n",
       "      <td>France</td>\n",
       "      <td>Female</td>\n",
       "      <td>42</td>\n",
       "      <td>8</td>\n",
       "      <td>159660.80</td>\n",
       "      <td>3</td>\n",
       "      <td>1</td>\n",
       "      <td>0</td>\n",
       "      <td>113931.57</td>\n",
       "      <td>1</td>\n",
       "    </tr>\n",
       "    <tr>\n",
       "      <th>3</th>\n",
       "      <td>4</td>\n",
       "      <td>15701354</td>\n",
       "      <td>Boni</td>\n",
       "      <td>699</td>\n",
       "      <td>France</td>\n",
       "      <td>Female</td>\n",
       "      <td>39</td>\n",
       "      <td>1</td>\n",
       "      <td>0.00</td>\n",
       "      <td>2</td>\n",
       "      <td>0</td>\n",
       "      <td>0</td>\n",
       "      <td>93826.63</td>\n",
       "      <td>0</td>\n",
       "    </tr>\n",
       "    <tr>\n",
       "      <th>4</th>\n",
       "      <td>5</td>\n",
       "      <td>15737888</td>\n",
       "      <td>Mitchell</td>\n",
       "      <td>850</td>\n",
       "      <td>Spain</td>\n",
       "      <td>Female</td>\n",
       "      <td>43</td>\n",
       "      <td>2</td>\n",
       "      <td>125510.82</td>\n",
       "      <td>1</td>\n",
       "      <td>1</td>\n",
       "      <td>1</td>\n",
       "      <td>79084.10</td>\n",
       "      <td>0</td>\n",
       "    </tr>\n",
       "  </tbody>\n",
       "</table>\n",
       "</div>"
      ],
      "text/plain": [
       "   RowNumber  CustomerId   Surname  CreditScore Geography  Gender  Age  \\\n",
       "0          1    15634602  Hargrave          619    France  Female   42   \n",
       "1          2    15647311      Hill          608     Spain  Female   41   \n",
       "2          3    15619304      Onio          502    France  Female   42   \n",
       "3          4    15701354      Boni          699    France  Female   39   \n",
       "4          5    15737888  Mitchell          850     Spain  Female   43   \n",
       "\n",
       "   Tenure    Balance  NumOfProducts  HasCrCard  IsActiveMember  \\\n",
       "0       2       0.00              1          1               1   \n",
       "1       1   83807.86              1          0               1   \n",
       "2       8  159660.80              3          1               0   \n",
       "3       1       0.00              2          0               0   \n",
       "4       2  125510.82              1          1               1   \n",
       "\n",
       "   EstimatedSalary  Exited  \n",
       "0        101348.88       1  \n",
       "1        112542.58       0  \n",
       "2        113931.57       1  \n",
       "3         93826.63       0  \n",
       "4         79084.10       0  "
      ]
     },
     "execution_count": 27,
     "metadata": {},
     "output_type": "execute_result"
    }
   ],
   "source": [
    "df.head()"
   ]
  },
  {
   "cell_type": "code",
   "execution_count": 28,
   "id": "ba7d2f23",
   "metadata": {},
   "outputs": [],
   "source": [
    "df = df.drop(columns=[\"RowNumber\", \"CustomerId\", \"Surname\"])"
   ]
  },
  {
   "cell_type": "code",
   "execution_count": 29,
   "id": "6acbb15d",
   "metadata": {},
   "outputs": [],
   "source": [
    "from sklearn.preprocessing import LabelEncoder\n",
    "le = LabelEncoder()\n",
    "df['Gender'] = le.fit_transform(df['Gender'])"
   ]
  },
  {
   "cell_type": "code",
   "execution_count": 30,
   "id": "56032038",
   "metadata": {},
   "outputs": [],
   "source": [
    "df = pd.get_dummies(df, columns=['Geography'], dtype =int)"
   ]
  },
  {
   "cell_type": "code",
   "execution_count": 31,
   "id": "9471254e",
   "metadata": {},
   "outputs": [],
   "source": [
    "cols_to_move = df.filter(like='Geography').columns.tolist()\n",
    "df = df[cols_to_move + [col for col in df if col not in cols_to_move]]"
   ]
  },
  {
   "cell_type": "code",
   "execution_count": 32,
   "id": "24b761d3",
   "metadata": {},
   "outputs": [
    {
     "data": {
      "text/html": [
       "<div>\n",
       "<style scoped>\n",
       "    .dataframe tbody tr th:only-of-type {\n",
       "        vertical-align: middle;\n",
       "    }\n",
       "\n",
       "    .dataframe tbody tr th {\n",
       "        vertical-align: top;\n",
       "    }\n",
       "\n",
       "    .dataframe thead th {\n",
       "        text-align: right;\n",
       "    }\n",
       "</style>\n",
       "<table border=\"1\" class=\"dataframe\">\n",
       "  <thead>\n",
       "    <tr style=\"text-align: right;\">\n",
       "      <th></th>\n",
       "      <th>Geography_France</th>\n",
       "      <th>Geography_Germany</th>\n",
       "      <th>Geography_Spain</th>\n",
       "      <th>CreditScore</th>\n",
       "      <th>Gender</th>\n",
       "      <th>Age</th>\n",
       "      <th>Tenure</th>\n",
       "      <th>Balance</th>\n",
       "      <th>NumOfProducts</th>\n",
       "      <th>HasCrCard</th>\n",
       "      <th>IsActiveMember</th>\n",
       "      <th>EstimatedSalary</th>\n",
       "      <th>Exited</th>\n",
       "    </tr>\n",
       "  </thead>\n",
       "  <tbody>\n",
       "    <tr>\n",
       "      <th>0</th>\n",
       "      <td>1</td>\n",
       "      <td>0</td>\n",
       "      <td>0</td>\n",
       "      <td>619</td>\n",
       "      <td>0</td>\n",
       "      <td>42</td>\n",
       "      <td>2</td>\n",
       "      <td>0.00</td>\n",
       "      <td>1</td>\n",
       "      <td>1</td>\n",
       "      <td>1</td>\n",
       "      <td>101348.88</td>\n",
       "      <td>1</td>\n",
       "    </tr>\n",
       "    <tr>\n",
       "      <th>1</th>\n",
       "      <td>0</td>\n",
       "      <td>0</td>\n",
       "      <td>1</td>\n",
       "      <td>608</td>\n",
       "      <td>0</td>\n",
       "      <td>41</td>\n",
       "      <td>1</td>\n",
       "      <td>83807.86</td>\n",
       "      <td>1</td>\n",
       "      <td>0</td>\n",
       "      <td>1</td>\n",
       "      <td>112542.58</td>\n",
       "      <td>0</td>\n",
       "    </tr>\n",
       "    <tr>\n",
       "      <th>2</th>\n",
       "      <td>1</td>\n",
       "      <td>0</td>\n",
       "      <td>0</td>\n",
       "      <td>502</td>\n",
       "      <td>0</td>\n",
       "      <td>42</td>\n",
       "      <td>8</td>\n",
       "      <td>159660.80</td>\n",
       "      <td>3</td>\n",
       "      <td>1</td>\n",
       "      <td>0</td>\n",
       "      <td>113931.57</td>\n",
       "      <td>1</td>\n",
       "    </tr>\n",
       "    <tr>\n",
       "      <th>3</th>\n",
       "      <td>1</td>\n",
       "      <td>0</td>\n",
       "      <td>0</td>\n",
       "      <td>699</td>\n",
       "      <td>0</td>\n",
       "      <td>39</td>\n",
       "      <td>1</td>\n",
       "      <td>0.00</td>\n",
       "      <td>2</td>\n",
       "      <td>0</td>\n",
       "      <td>0</td>\n",
       "      <td>93826.63</td>\n",
       "      <td>0</td>\n",
       "    </tr>\n",
       "    <tr>\n",
       "      <th>4</th>\n",
       "      <td>0</td>\n",
       "      <td>0</td>\n",
       "      <td>1</td>\n",
       "      <td>850</td>\n",
       "      <td>0</td>\n",
       "      <td>43</td>\n",
       "      <td>2</td>\n",
       "      <td>125510.82</td>\n",
       "      <td>1</td>\n",
       "      <td>1</td>\n",
       "      <td>1</td>\n",
       "      <td>79084.10</td>\n",
       "      <td>0</td>\n",
       "    </tr>\n",
       "  </tbody>\n",
       "</table>\n",
       "</div>"
      ],
      "text/plain": [
       "   Geography_France  Geography_Germany  Geography_Spain  CreditScore  Gender  \\\n",
       "0                 1                  0                0          619       0   \n",
       "1                 0                  0                1          608       0   \n",
       "2                 1                  0                0          502       0   \n",
       "3                 1                  0                0          699       0   \n",
       "4                 0                  0                1          850       0   \n",
       "\n",
       "   Age  Tenure    Balance  NumOfProducts  HasCrCard  IsActiveMember  \\\n",
       "0   42       2       0.00              1          1               1   \n",
       "1   41       1   83807.86              1          0               1   \n",
       "2   42       8  159660.80              3          1               0   \n",
       "3   39       1       0.00              2          0               0   \n",
       "4   43       2  125510.82              1          1               1   \n",
       "\n",
       "   EstimatedSalary  Exited  \n",
       "0        101348.88       1  \n",
       "1        112542.58       0  \n",
       "2        113931.57       1  \n",
       "3         93826.63       0  \n",
       "4         79084.10       0  "
      ]
     },
     "execution_count": 32,
     "metadata": {},
     "output_type": "execute_result"
    }
   ],
   "source": [
    "df.head()"
   ]
  },
  {
   "cell_type": "markdown",
   "id": "81ab1850",
   "metadata": {},
   "source": [
    "## 2. Visualisation des données : "
   ]
  },
  {
   "cell_type": "markdown",
   "id": "6872b179",
   "metadata": {},
   "source": [
    "### Distribution du target :  "
   ]
  },
  {
   "cell_type": "code",
   "execution_count": 33,
   "id": "a13af53c",
   "metadata": {
    "scrolled": true
   },
   "outputs": [
    {
     "data": {
      "image/png": "[encoded data removed]",
      "text/plain": [
       "<Figure size 576x432 with 1 Axes>"
      ]
     },
     "metadata": {},
     "output_type": "display_data"
    }
   ],
   "source": [
    "plt.figure(figsize=(8, 6))\n",
    "sns.countplot(x='Exited', data=df)\n",
    "plt.title('Distribution des classes')\n",
    "plt.xlabel('Exited?')\n",
    "plt.ylabel('Nombre')\n",
    "plt.show()"
   ]
  },
  {
   "cell_type": "markdown",
   "id": "66f936cc",
   "metadata": {},
   "source": [
    "On constate que la classe \"1\" est minoritaire, donc on doit faire du upsampling "
   ]
  },
  {
   "cell_type": "code",
   "execution_count": 34,
   "id": "2ef7b756",
   "metadata": {},
   "outputs": [],
   "source": [
    "from imblearn.over_sampling import RandomOverSampler\n",
    "\n",
    "oversample = RandomOverSampler(sampling_strategy='minority', random_state=42)\n",
    "X_upsampled, y_upsampled = oversample.fit_resample(df.drop('Exited', axis=1), df['Exited'])\n",
    "X_upsampled_df = pd.DataFrame(X_upsampled, columns=df.drop('Exited', axis=1).columns)\n",
    "y_upsampled_df = pd.Series(y_upsampled, name='Exited')\n",
    "\n",
    "df = pd.concat([X_upsampled_df, y_upsampled_df], axis=1)\n"
   ]
  },
  {
   "cell_type": "code",
   "execution_count": 35,
   "id": "dd43539c",
   "metadata": {},
   "outputs": [
    {
     "data": {
      "image/png": "[encoded data removed]",
      "text/plain": [
       "<Figure size 576x432 with 1 Axes>"
      ]
     },
     "metadata": {},
     "output_type": "display_data"
    }
   ],
   "source": [
    "plt.figure(figsize=(8, 6))\n",
    "sns.countplot(x='Exited', data=df)\n",
    "plt.title('Distribution des classes')\n",
    "plt.xlabel('Exited?')\n",
    "plt.ylabel('Nombre')\n",
    "plt.show()"
   ]
  },
  {
   "cell_type": "markdown",
   "id": "c94318da",
   "metadata": {},
   "source": [
    "### Variable Continu : "
   ]
  },
  {
   "cell_type": "markdown",
   "id": "b3c5530b",
   "metadata": {},
   "source": [
    "Distribution du salaire en selon la classe "
   ]
  },
  {
   "cell_type": "code",
   "execution_count": 36,
   "id": "4e3753b0",
   "metadata": {
    "scrolled": true
   },
   "outputs": [
    {
     "data": {
      "image/png": "[encoded data removed]",
      "text/plain": [
       "<Figure size 720x432 with 1 Axes>"
      ]
     },
     "metadata": {},
     "output_type": "display_data"
    }
   ],
   "source": [
    "plt.figure(figsize=(10, 6))\n",
    "sns.boxplot(x='Exited', y='EstimatedSalary', data=df)\n",
    "plt.title('Distribution des classes en fonction du salaire')\n",
    "plt.show()"
   ]
  },
  {
   "cell_type": "markdown",
   "id": "587d251d",
   "metadata": {},
   "source": [
    "Distribution du salaire : "
   ]
  },
  {
   "cell_type": "code",
   "execution_count": 37,
   "id": "06d2b20e",
   "metadata": {
    "scrolled": true
   },
   "outputs": [
    {
     "data": {
      "image/png": "[encoded data removed]",
      "text/plain": [
       "<Figure size 1080x360 with 1 Axes>"
      ]
     },
     "metadata": {},
     "output_type": "display_data"
    }
   ],
   "source": [
    "df[\"EstimatedSalary\"].hist(bins=20, figsize=(15,5))\n",
    "plt.show()"
   ]
  },
  {
   "cell_type": "markdown",
   "id": "193d2ac7",
   "metadata": {},
   "source": [
    "Distribution de \"Balance\" : "
   ]
  },
  {
   "cell_type": "code",
   "execution_count": 38,
   "id": "a267a8ef",
   "metadata": {
    "scrolled": true
   },
   "outputs": [
    {
     "data": {
      "image/png": "[encoded data removed]",
      "text/plain": [
       "<Figure size 720x432 with 1 Axes>"
      ]
     },
     "metadata": {},
     "output_type": "display_data"
    }
   ],
   "source": [
    "plt.figure(figsize=(10, 6))\n",
    "sns.boxplot(x='Exited', y='Balance', data=df)\n",
    "plt.title('Distribution des classes en fonction de Balance')\n",
    "plt.show()"
   ]
  },
  {
   "cell_type": "markdown",
   "id": "c238d961",
   "metadata": {},
   "source": [
    "Voyons la distribution de balance des clients de cette banque : "
   ]
  },
  {
   "cell_type": "code",
   "execution_count": 39,
   "id": "b810c3fa",
   "metadata": {},
   "outputs": [
    {
     "data": {
      "image/png": "[encoded data removed]",
      "text/plain": [
       "<Figure size 1080x360 with 1 Axes>"
      ]
     },
     "metadata": {},
     "output_type": "display_data"
    }
   ],
   "source": [
    "df[\"Balance\"].hist(bins=30, figsize=(15,5))\n",
    "plt.show()"
   ]
  },
  {
   "cell_type": "markdown",
   "id": "0216b143",
   "metadata": {},
   "source": [
    "Distribution selon l'age :"
   ]
  },
  {
   "cell_type": "code",
   "execution_count": 40,
   "id": "3aec5e14",
   "metadata": {},
   "outputs": [
    {
     "data": {
      "image/png": "[encoded data removed]",
      "text/plain": [
       "<Figure size 720x432 with 1 Axes>"
      ]
     },
     "metadata": {},
     "output_type": "display_data"
    }
   ],
   "source": [
    "plt.figure(figsize=(10, 6))\n",
    "sns.boxplot(x='Exited', y='Age', data=df)\n",
    "plt.title(\"Distribution des classes en fonction de l'age\")\n",
    "plt.show()"
   ]
  },
  {
   "cell_type": "markdown",
   "id": "0634259d",
   "metadata": {},
   "source": [
    "Distribution de l'age des clients : "
   ]
  },
  {
   "cell_type": "code",
   "execution_count": 41,
   "id": "f28f5e58",
   "metadata": {},
   "outputs": [
    {
     "data": {
      "image/png": "[encoded data removed]",
      "text/plain": [
       "<Figure size 1080x360 with 1 Axes>"
      ]
     },
     "metadata": {},
     "output_type": "display_data"
    }
   ],
   "source": [
    "df[\"Age\"].hist(bins=30, figsize=(15,5))\n",
    "plt.show()"
   ]
  },
  {
   "cell_type": "markdown",
   "id": "37ecc070",
   "metadata": {},
   "source": [
    "### Variables discretes : "
   ]
  },
  {
   "cell_type": "markdown",
   "id": "7e17eed5",
   "metadata": {},
   "source": [
    "Voyons par exemples la distribution des clients qui ont une credit card ou non qui reste ou quitte :"
   ]
  },
  {
   "cell_type": "code",
   "execution_count": 42,
   "id": "60a54c30",
   "metadata": {},
   "outputs": [
    {
     "data": {
      "image/png": "[encoded data removed]",
      "text/plain": [
       "<Figure size 720x432 with 1 Axes>"
      ]
     },
     "metadata": {},
     "output_type": "display_data"
    }
   ],
   "source": [
    "plt.figure(figsize=(10, 6))\n",
    "sns.countplot(x='HasCrCard', hue='Exited', data=df)\n",
    "plt.title('Distribution des classes en fonction de la géographie')\n",
    "plt.xlabel('Credit Card')\n",
    "plt.ylabel('Exited')\n",
    "plt.show()"
   ]
  },
  {
   "cell_type": "markdown",
   "id": "486c24e2",
   "metadata": {},
   "source": [
    " ## 3. Preparation des données à utiliser par le modèle : "
   ]
  },
  {
   "cell_type": "markdown",
   "id": "23881e24",
   "metadata": {},
   "source": [
    "On scale nos données : "
   ]
  },
  {
   "cell_type": "code",
   "execution_count": 43,
   "id": "b01664a5",
   "metadata": {},
   "outputs": [],
   "source": [
    "from sklearn.preprocessing import MinMaxScaler\n",
    "\n",
    "columns_to_scale = [col for col in df.columns if col != 'Exited']\n",
    "\n",
    "data_to_scale = df[columns_to_scale]\n",
    "\n",
    "scaler = MinMaxScaler()\n",
    "scaled_data = scaler.fit_transform(data_to_scale)\n",
    "\n",
    "scaled_df = pd.DataFrame(scaled_data, columns=columns_to_scale)\n",
    "scaled_df['Exited'] = df['Exited'] "
   ]
  },
  {
   "cell_type": "markdown",
   "id": "fe1f97b7",
   "metadata": {},
   "source": [
    "Divisant nos données en train et test : 80% pour le train et 20% pour le test : "
   ]
  },
  {
   "cell_type": "code",
   "execution_count": 44,
   "id": "0791b45f",
   "metadata": {},
   "outputs": [],
   "source": [
    "from sklearn.model_selection import train_test_split\n",
    "train_df, test_df = train_test_split(scaled_df, test_size=0.2, random_state=42)"
   ]
  },
  {
   "cell_type": "markdown",
   "id": "340d4d34",
   "metadata": {},
   "source": [
    "Mettons nos données au même échelle puisqu'il y a une grande difference d'echelle entre eux : "
   ]
  },
  {
   "cell_type": "code",
   "execution_count": 45,
   "id": "89134d40",
   "metadata": {},
   "outputs": [
    {
     "data": {
      "text/html": [
       "<div>\n",
       "<style scoped>\n",
       "    .dataframe tbody tr th:only-of-type {\n",
       "        vertical-align: middle;\n",
       "    }\n",
       "\n",
       "    .dataframe tbody tr th {\n",
       "        vertical-align: top;\n",
       "    }\n",
       "\n",
       "    .dataframe thead th {\n",
       "        text-align: right;\n",
       "    }\n",
       "</style>\n",
       "<table border=\"1\" class=\"dataframe\">\n",
       "  <thead>\n",
       "    <tr style=\"text-align: right;\">\n",
       "      <th></th>\n",
       "      <th>Geography_France</th>\n",
       "      <th>Geography_Germany</th>\n",
       "      <th>Geography_Spain</th>\n",
       "      <th>CreditScore</th>\n",
       "      <th>Gender</th>\n",
       "      <th>Age</th>\n",
       "      <th>Tenure</th>\n",
       "      <th>Balance</th>\n",
       "      <th>NumOfProducts</th>\n",
       "      <th>HasCrCard</th>\n",
       "      <th>IsActiveMember</th>\n",
       "      <th>EstimatedSalary</th>\n",
       "      <th>Exited</th>\n",
       "    </tr>\n",
       "  </thead>\n",
       "  <tbody>\n",
       "    <tr>\n",
       "      <th>13555</th>\n",
       "      <td>0.0</td>\n",
       "      <td>1.0</td>\n",
       "      <td>0.0</td>\n",
       "      <td>0.882</td>\n",
       "      <td>0.0</td>\n",
       "      <td>0.324324</td>\n",
       "      <td>1.0</td>\n",
       "      <td>0.453002</td>\n",
       "      <td>0.333333</td>\n",
       "      <td>0.0</td>\n",
       "      <td>1.0</td>\n",
       "      <td>0.699742</td>\n",
       "      <td>1</td>\n",
       "    </tr>\n",
       "    <tr>\n",
       "      <th>1665</th>\n",
       "      <td>1.0</td>\n",
       "      <td>0.0</td>\n",
       "      <td>0.0</td>\n",
       "      <td>0.798</td>\n",
       "      <td>1.0</td>\n",
       "      <td>0.324324</td>\n",
       "      <td>0.1</td>\n",
       "      <td>0.517249</td>\n",
       "      <td>0.333333</td>\n",
       "      <td>0.0</td>\n",
       "      <td>1.0</td>\n",
       "      <td>0.717703</td>\n",
       "      <td>0</td>\n",
       "    </tr>\n",
       "    <tr>\n",
       "      <th>14878</th>\n",
       "      <td>1.0</td>\n",
       "      <td>0.0</td>\n",
       "      <td>0.0</td>\n",
       "      <td>0.698</td>\n",
       "      <td>1.0</td>\n",
       "      <td>0.297297</td>\n",
       "      <td>0.7</td>\n",
       "      <td>0.000000</td>\n",
       "      <td>0.000000</td>\n",
       "      <td>0.0</td>\n",
       "      <td>1.0</td>\n",
       "      <td>0.764396</td>\n",
       "      <td>1</td>\n",
       "    </tr>\n",
       "    <tr>\n",
       "      <th>7471</th>\n",
       "      <td>0.0</td>\n",
       "      <td>1.0</td>\n",
       "      <td>0.0</td>\n",
       "      <td>0.616</td>\n",
       "      <td>0.0</td>\n",
       "      <td>0.500000</td>\n",
       "      <td>0.8</td>\n",
       "      <td>0.475603</td>\n",
       "      <td>0.000000</td>\n",
       "      <td>0.0</td>\n",
       "      <td>1.0</td>\n",
       "      <td>0.597197</td>\n",
       "      <td>0</td>\n",
       "    </tr>\n",
       "    <tr>\n",
       "      <th>2582</th>\n",
       "      <td>1.0</td>\n",
       "      <td>0.0</td>\n",
       "      <td>0.0</td>\n",
       "      <td>0.612</td>\n",
       "      <td>0.0</td>\n",
       "      <td>0.378378</td>\n",
       "      <td>0.5</td>\n",
       "      <td>0.451985</td>\n",
       "      <td>0.333333</td>\n",
       "      <td>1.0</td>\n",
       "      <td>1.0</td>\n",
       "      <td>0.694254</td>\n",
       "      <td>0</td>\n",
       "    </tr>\n",
       "  </tbody>\n",
       "</table>\n",
       "</div>"
      ],
      "text/plain": [
       "       Geography_France  Geography_Germany  Geography_Spain  CreditScore  \\\n",
       "13555               0.0                1.0              0.0        0.882   \n",
       "1665                1.0                0.0              0.0        0.798   \n",
       "14878               1.0                0.0              0.0        0.698   \n",
       "7471                0.0                1.0              0.0        0.616   \n",
       "2582                1.0                0.0              0.0        0.612   \n",
       "\n",
       "       Gender       Age  Tenure   Balance  NumOfProducts  HasCrCard  \\\n",
       "13555     0.0  0.324324     1.0  0.453002       0.333333        0.0   \n",
       "1665      1.0  0.324324     0.1  0.517249       0.333333        0.0   \n",
       "14878     1.0  0.297297     0.7  0.000000       0.000000        0.0   \n",
       "7471      0.0  0.500000     0.8  0.475603       0.000000        0.0   \n",
       "2582      0.0  0.378378     0.5  0.451985       0.333333        1.0   \n",
       "\n",
       "       IsActiveMember  EstimatedSalary  Exited  \n",
       "13555             1.0         0.699742       1  \n",
       "1665              1.0         0.717703       0  \n",
       "14878             1.0         0.764396       1  \n",
       "7471              1.0         0.597197       0  \n",
       "2582              1.0         0.694254       0  "
      ]
     },
     "execution_count": 45,
     "metadata": {},
     "output_type": "execute_result"
    }
   ],
   "source": [
    "train_df.head()"
   ]
  },
  {
   "cell_type": "code",
   "execution_count": 46,
   "id": "9be537ea",
   "metadata": {},
   "outputs": [],
   "source": [
    "train_df = train_df.rename(columns = {\"Exited\" : \"label\"})\n",
    "test_df =  test_df.rename(columns = {\"Exited\" : \"label\"})"
   ]
  },
  {
   "cell_type": "markdown",
   "id": "c468725c",
   "metadata": {},
   "source": [
    "## 4. Entrainement du modèle : "
   ]
  },
  {
   "cell_type": "markdown",
   "id": "24bf3282",
   "metadata": {},
   "source": [
    "Créons maintenant notre modèle en utilisant les fonctions du module \"decision_tree_algorithm\""
   ]
  },
  {
   "cell_type": "code",
   "execution_count": 47,
   "id": "4d100d75",
   "metadata": {},
   "outputs": [],
   "source": [
    "tree = decision_tree_algorithm(train_df, ml_task='classification', max_depth=10)"
   ]
  },
  {
   "cell_type": "markdown",
   "id": "f5840a70",
   "metadata": {},
   "source": [
    "## 5. Grid Search : "
   ]
  },
  {
   "cell_type": "markdown",
   "id": "6bceeec2",
   "metadata": {},
   "source": [
    "Cherchons le meilleur max_depth pour notre modèle : "
   ]
  },
  {
   "cell_type": "code",
   "execution_count": 24,
   "id": "aedaf976",
   "metadata": {},
   "outputs": [],
   "source": [
    "metrics = {\"max_depth\": [], \"acc_tree\": []}\n",
    "scaled_df = scaled_df.rename(columns = {'Exited' : 'label'})\n",
    "for n in range(10, 26):\n",
    "    df_train, df_test = train_test_split(scaled_df, test_size=0.15)\n",
    "    df_train, df_val = train_test_split(df_train, test_size=0.15)\n",
    "\n",
    "    tree = decision_tree_algorithm(df_train, ml_task=\"classification\", max_depth=n)\n",
    "    \n",
    "    metrics[\"max_depth\"].append(n)\n",
    "    metrics[\"acc_tree\"].append(calculate_accuracy(df_test, tree))\n",
    "    \n",
    "df_metrics = pd.DataFrame(metrics)\n",
    "df_metrics = df_metrics.set_index(\"max_depth\")"
   ]
  },
  {
   "cell_type": "markdown",
   "id": "f4d2c548",
   "metadata": {},
   "source": [
    "Voyons maintenant le max_depth qui donne la meilleure accuracy : "
   ]
  },
  {
   "cell_type": "code",
   "execution_count": 25,
   "id": "767844eb",
   "metadata": {
    "scrolled": false
   },
   "outputs": [
    {
     "data": {
      "text/html": [
       "<div>\n",
       "<style scoped>\n",
       "    .dataframe tbody tr th:only-of-type {\n",
       "        vertical-align: middle;\n",
       "    }\n",
       "\n",
       "    .dataframe tbody tr th {\n",
       "        vertical-align: top;\n",
       "    }\n",
       "\n",
       "    .dataframe thead th {\n",
       "        text-align: right;\n",
       "    }\n",
       "</style>\n",
       "<table border=\"1\" class=\"dataframe\">\n",
       "  <thead>\n",
       "    <tr style=\"text-align: right;\">\n",
       "      <th></th>\n",
       "      <th>acc_tree</th>\n",
       "    </tr>\n",
       "    <tr>\n",
       "      <th>max_depth</th>\n",
       "      <th></th>\n",
       "    </tr>\n",
       "  </thead>\n",
       "  <tbody>\n",
       "    <tr>\n",
       "      <th>21</th>\n",
       "      <td>0.913353</td>\n",
       "    </tr>\n",
       "  </tbody>\n",
       "</table>\n",
       "</div>"
      ],
      "text/plain": [
       "           acc_tree\n",
       "max_depth          \n",
       "21         0.913353"
      ]
     },
     "execution_count": 25,
     "metadata": {},
     "output_type": "execute_result"
    }
   ],
   "source": [
    "df_metrics.loc[df_metrics['acc_tree'] == df_metrics['acc_tree'].max()]"
   ]
  },
  {
   "cell_type": "markdown",
   "id": "c0a31c01",
   "metadata": {},
   "source": [
    "Donc le meilleur max_depth à utiliser est 21"
   ]
  },
  {
   "cell_type": "markdown",
   "id": "70338756",
   "metadata": {},
   "source": [
    "## 6. Entrainement 2 : "
   ]
  },
  {
   "cell_type": "code",
   "execution_count": 27,
   "id": "2845bd3c",
   "metadata": {},
   "outputs": [],
   "source": [
    "tree = decision_tree_algorithm(train_df, ml_task='classification', max_depth=21)"
   ]
  },
  {
   "cell_type": "markdown",
   "id": "3fd83f85",
   "metadata": {},
   "source": [
    "## 7. Evaluation : "
   ]
  },
  {
   "cell_type": "code",
   "execution_count": 28,
   "id": "ac12569b",
   "metadata": {
    "scrolled": true
   },
   "outputs": [
    {
     "name": "stdout",
     "output_type": "stream",
     "text": [
      "Accuracy de l'arbre de décision: 0.91\n"
     ]
    }
   ],
   "source": [
    "accuracy = calculate_accuracy(test_df, tree)\n",
    "print(f\"Accuracy de l'arbre de décision: {accuracy:.2f}\")"
   ]
  },
  {
   "cell_type": "code",
   "execution_count": 29,
   "id": "e3614bc6",
   "metadata": {},
   "outputs": [],
   "source": [
    "def calculate_confusion_matrix(df, tree):\n",
    "    predictions = make_predictions(df, tree)\n",
    "    TP = sum((predictions == 1) & (df['label'] == 1))\n",
    "    TN = sum((predictions == 0) & (df['label'] == 0))\n",
    "    FP = sum((predictions == 1) & (df['label'] == 0))\n",
    "    FN = sum((predictions == 0) & (df['label'] == 1))\n",
    "    return np.array([[TP, FP], [FN, TN]])\n",
    "\n",
    "confusion_matrix = calculate_confusion_matrix(test_df, tree)"
   ]
  },
  {
   "cell_type": "code",
   "execution_count": 30,
   "id": "20f87fa6",
   "metadata": {},
   "outputs": [
    {
     "data": {
      "image/png": "[encoded data removed]",
      "text/plain": [
       "<Figure size 432x288 with 2 Axes>"
      ]
     },
     "metadata": {},
     "output_type": "display_data"
    }
   ],
   "source": [
    "def plot_confusion_matrix(confusion_matrix):\n",
    "    plt.figure(figsize=(6, 4))\n",
    "    sns.heatmap(confusion_matrix, annot=True, cmap='Blues', fmt='g', \n",
    "                xticklabels=['Predicted 1', 'Predicted 0'], \n",
    "                yticklabels=['Actual 1', 'Actual 0'])\n",
    "    plt.xlabel('Predicted label')\n",
    "    plt.ylabel('True label')\n",
    "    plt.title('Matrice de confusion')\n",
    "    plt.show()\n",
    "\n",
    "confusion_matrix = calculate_confusion_matrix(test_df, tree)\n",
    "plot_confusion_matrix(confusion_matrix)"
   ]
  },
  {
   "cell_type": "markdown",
   "id": "88c98bde",
   "metadata": {},
   "source": [
    "## 8. Prediction : "
   ]
  },
  {
   "cell_type": "code",
   "execution_count": 31,
   "id": "b8574214",
   "metadata": {},
   "outputs": [],
   "source": [
    "indiv = [1,0,0,600,1,40,3,60000,2,1,1,50000]"
   ]
  },
  {
   "cell_type": "code",
   "execution_count": 32,
   "id": "79a1098e",
   "metadata": {},
   "outputs": [],
   "source": [
    "min_vals = df.min()  \n",
    "max_vals = df.max() \n",
    "indiv = [(x - min_val) / (max_val - min_val) for x, min_val, max_val in zip(indiv, min_vals, max_vals)]"
   ]
  },
  {
   "cell_type": "code",
   "execution_count": 33,
   "id": "4ccfb2f4",
   "metadata": {
    "scrolled": true
   },
   "outputs": [
    {
     "data": {
      "text/plain": [
       "[1.0,\n",
       " 0.0,\n",
       " 0.0,\n",
       " 0.5,\n",
       " 1.0,\n",
       " 0.2972972972972973,\n",
       " 0.3,\n",
       " 0.2391409197256145,\n",
       " 0.3333333333333333,\n",
       " 1.0,\n",
       " 1.0,\n",
       " 0.2499659717503021]"
      ]
     },
     "execution_count": 33,
     "metadata": {},
     "output_type": "execute_result"
    }
   ],
   "source": [
    "indiv"
   ]
  },
  {
   "cell_type": "code",
   "execution_count": 34,
   "id": "d2796b08",
   "metadata": {},
   "outputs": [],
   "source": [
    "column_names = [\n",
    "    'Geography_France', 'Geography_Germany', 'Geography_Spain',\n",
    "    'CreditScore', 'Gender', 'Age', 'Tenure', 'Balance',\n",
    "    'NumOfProducts', 'HasCrCard', 'IsActiveMember', 'EstimatedSalary'\n",
    "]"
   ]
  },
  {
   "cell_type": "code",
   "execution_count": 35,
   "id": "086eb199",
   "metadata": {},
   "outputs": [],
   "source": [
    "df_indiv = pd.DataFrame([indiv], columns=column_names)"
   ]
  },
  {
   "cell_type": "code",
   "execution_count": 36,
   "id": "4ee4fb36",
   "metadata": {},
   "outputs": [
    {
     "data": {
      "text/plain": [
       "0    0.0\n",
       "dtype: float64"
      ]
     },
     "execution_count": 36,
     "metadata": {},
     "output_type": "execute_result"
    }
   ],
   "source": [
    "df_indiv.apply(predict_example, args=(tree,), axis=1)"
   ]
  },
  {
   "cell_type": "markdown",
   "id": "459043c8",
   "metadata": {},
   "source": [
    "Donc le client ne va pas quitter la banque "
   ]
  }
 ],
 "metadata": {
  "kernelspec": {
   "display_name": "Python 3 (ipykernel)",
   "language": "python",
   "name": "python3"
  },
  "language_info": {
   "codemirror_mode": {
    "name": "ipython",
    "version": 3
   },
   "file_extension": ".py",
   "mimetype": "text/x-python",
   "name": "python",
   "nbconvert_exporter": "python",
   "pygments_lexer": "ipython3",
   "version": "3.6.13"
  }
 },
 "nbformat": 4,
 "nbformat_minor": 5
}
