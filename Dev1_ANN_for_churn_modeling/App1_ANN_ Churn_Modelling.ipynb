{
 "cells": [
  {
   "cell_type": "markdown",
   "metadata": {},
   "source": [
    "## Objectif\n",
    "\n",
    "Entraîner notre premier réseau neuronal pour prédire la résiliation de clients\n",
    "Dans ce notebook, notre objectif principal est d’acquérir une expérience pratique des réseaux neuronaux et de leur application à la résolution de problèmes réels. Nous travaillerons avec un ensemble de données de résiliation de clients, visant à comprendre les fondamentaux de la création et de l’entraînement d’un réseau neuronal pour la modélisation prédictive.\n",
    "\n",
    "### Objectifs clés :\n",
    "- Prétraiter et explorer l’ensemble de données de résiliation de clients.\n",
    "- Apprendre les bases de l’architecture des réseaux neuronaux.\n",
    "- Entraîner un modèle de réseau neuronal pour prédire la résiliation de clients.\n",
    "- Évaluer l’exactitude et les performances du modèle.\n",
    "- Prédire si le client suivant va abandonner ou non la banque "
   ]
  },
  {
   "cell_type": "code",
   "execution_count": null,
   "metadata": {},
   "outputs": [],
   "source": [
    "# Execute this just once or restart the kernel to avoid errors\n",
    "import os \n",
    "\n",
    "os.chdir(\"../data\")\n",
    "%pwd"
   ]
  },
  {
   "cell_type": "code",
   "execution_count": 3,
   "metadata": {},
   "outputs": [
    {
     "name": "stdout",
     "output_type": "stream",
     "text": [
      "Setup Completed\n"
     ]
    }
   ],
   "source": [
    "#Import the libraries\n",
    "import numpy as np\n",
    "import pandas as pd \n",
    "\n",
    "# Importing the Keras libraries and packages\n",
    "import keras\n",
    "from keras.models import Sequential\n",
    "from keras.layers import Dense\n",
    "from keras.layers import LeakyReLU,PReLU,ELU\n",
    "from keras.layers import Dropout\n",
    "\n",
    "import seaborn as sns\n",
    "import matplotlib.pyplot as plt\n",
    "\n",
    "print(\"Setup Completed\")"
   ]
  },
  {
   "cell_type": "markdown",
   "metadata": {},
   "source": [
    "1. Préparer le dataset \n",
    "\n",
    "- Data Importation\n",
    "- Data Cleaning\n",
    "- Data Visualization\n",
    "- Feature Engineering\n",
    "- Data Preparation and Preprocessing "
   ]
  },
  {
   "cell_type": "code",
   "execution_count": 84,
   "metadata": {},
   "outputs": [
    {
     "data": {
      "text/html": [
       "<div>\n",
       "<style scoped>\n",
       "    .dataframe tbody tr th:only-of-type {\n",
       "        vertical-align: middle;\n",
       "    }\n",
       "\n",
       "    .dataframe tbody tr th {\n",
       "        vertical-align: top;\n",
       "    }\n",
       "\n",
       "    .dataframe thead th {\n",
       "        text-align: right;\n",
       "    }\n",
       "</style>\n",
       "<table border=\"1\" class=\"dataframe\">\n",
       "  <thead>\n",
       "    <tr style=\"text-align: right;\">\n",
       "      <th></th>\n",
       "      <th>RowNumber</th>\n",
       "      <th>CustomerId</th>\n",
       "      <th>Surname</th>\n",
       "      <th>CreditScore</th>\n",
       "      <th>Geography</th>\n",
       "      <th>Gender</th>\n",
       "      <th>Age</th>\n",
       "      <th>Tenure</th>\n",
       "      <th>Balance</th>\n",
       "      <th>NumOfProducts</th>\n",
       "      <th>HasCrCard</th>\n",
       "      <th>IsActiveMember</th>\n",
       "      <th>EstimatedSalary</th>\n",
       "      <th>Exited</th>\n",
       "    </tr>\n",
       "  </thead>\n",
       "  <tbody>\n",
       "    <tr>\n",
       "      <th>0</th>\n",
       "      <td>1</td>\n",
       "      <td>15634602</td>\n",
       "      <td>Hargrave</td>\n",
       "      <td>619</td>\n",
       "      <td>France</td>\n",
       "      <td>Female</td>\n",
       "      <td>42</td>\n",
       "      <td>2</td>\n",
       "      <td>0.00</td>\n",
       "      <td>1</td>\n",
       "      <td>1</td>\n",
       "      <td>1</td>\n",
       "      <td>101348.88</td>\n",
       "      <td>1</td>\n",
       "    </tr>\n",
       "    <tr>\n",
       "      <th>1</th>\n",
       "      <td>2</td>\n",
       "      <td>15647311</td>\n",
       "      <td>Hill</td>\n",
       "      <td>608</td>\n",
       "      <td>Spain</td>\n",
       "      <td>Female</td>\n",
       "      <td>41</td>\n",
       "      <td>1</td>\n",
       "      <td>83807.86</td>\n",
       "      <td>1</td>\n",
       "      <td>0</td>\n",
       "      <td>1</td>\n",
       "      <td>112542.58</td>\n",
       "      <td>0</td>\n",
       "    </tr>\n",
       "    <tr>\n",
       "      <th>2</th>\n",
       "      <td>3</td>\n",
       "      <td>15619304</td>\n",
       "      <td>Onio</td>\n",
       "      <td>502</td>\n",
       "      <td>France</td>\n",
       "      <td>Female</td>\n",
       "      <td>42</td>\n",
       "      <td>8</td>\n",
       "      <td>159660.80</td>\n",
       "      <td>3</td>\n",
       "      <td>1</td>\n",
       "      <td>0</td>\n",
       "      <td>113931.57</td>\n",
       "      <td>1</td>\n",
       "    </tr>\n",
       "    <tr>\n",
       "      <th>3</th>\n",
       "      <td>4</td>\n",
       "      <td>15701354</td>\n",
       "      <td>Boni</td>\n",
       "      <td>699</td>\n",
       "      <td>France</td>\n",
       "      <td>Female</td>\n",
       "      <td>39</td>\n",
       "      <td>1</td>\n",
       "      <td>0.00</td>\n",
       "      <td>2</td>\n",
       "      <td>0</td>\n",
       "      <td>0</td>\n",
       "      <td>93826.63</td>\n",
       "      <td>0</td>\n",
       "    </tr>\n",
       "    <tr>\n",
       "      <th>4</th>\n",
       "      <td>5</td>\n",
       "      <td>15737888</td>\n",
       "      <td>Mitchell</td>\n",
       "      <td>850</td>\n",
       "      <td>Spain</td>\n",
       "      <td>Female</td>\n",
       "      <td>43</td>\n",
       "      <td>2</td>\n",
       "      <td>125510.82</td>\n",
       "      <td>1</td>\n",
       "      <td>1</td>\n",
       "      <td>1</td>\n",
       "      <td>79084.10</td>\n",
       "      <td>0</td>\n",
       "    </tr>\n",
       "  </tbody>\n",
       "</table>\n",
       "</div>"
      ],
      "text/plain": [
       "   RowNumber  CustomerId   Surname  CreditScore Geography  Gender  Age  \\\n",
       "0          1    15634602  Hargrave          619    France  Female   42   \n",
       "1          2    15647311      Hill          608     Spain  Female   41   \n",
       "2          3    15619304      Onio          502    France  Female   42   \n",
       "3          4    15701354      Boni          699    France  Female   39   \n",
       "4          5    15737888  Mitchell          850     Spain  Female   43   \n",
       "\n",
       "   Tenure    Balance  NumOfProducts  HasCrCard  IsActiveMember  \\\n",
       "0       2       0.00              1          1               1   \n",
       "1       1   83807.86              1          0               1   \n",
       "2       8  159660.80              3          1               0   \n",
       "3       1       0.00              2          0               0   \n",
       "4       2  125510.82              1          1               1   \n",
       "\n",
       "   EstimatedSalary  Exited  \n",
       "0        101348.88       1  \n",
       "1        112542.58       0  \n",
       "2        113931.57       1  \n",
       "3         93826.63       0  \n",
       "4         79084.10       0  "
      ]
     },
     "execution_count": 84,
     "metadata": {},
     "output_type": "execute_result"
    }
   ],
   "source": [
    "# Data Imporataion\n",
    "dataset = pd.read_csv('Churn_Modelling.csv')\n",
    "dataset.head()"
   ]
  },
  {
   "cell_type": "code",
   "execution_count": 85,
   "metadata": {},
   "outputs": [
    {
     "data": {
      "text/plain": [
       "RowNumber          0\n",
       "CustomerId         0\n",
       "Surname            0\n",
       "CreditScore        0\n",
       "Geography          0\n",
       "Gender             0\n",
       "Age                0\n",
       "Tenure             0\n",
       "Balance            0\n",
       "NumOfProducts      0\n",
       "HasCrCard          0\n",
       "IsActiveMember     0\n",
       "EstimatedSalary    0\n",
       "Exited             0\n",
       "dtype: int64"
      ]
     },
     "execution_count": 85,
     "metadata": {},
     "output_type": "execute_result"
    }
   ],
   "source": [
    "# Data Cleaning\n",
    "\n",
    "dataset.isnull().sum()"
   ]
  },
  {
   "cell_type": "code",
   "execution_count": 86,
   "metadata": {},
   "outputs": [
    {
     "data": {
      "text/plain": [
       "RowNumber            int64\n",
       "CustomerId           int64\n",
       "Surname             object\n",
       "CreditScore          int64\n",
       "Geography           object\n",
       "Gender              object\n",
       "Age                  int64\n",
       "Tenure               int64\n",
       "Balance            float64\n",
       "NumOfProducts        int64\n",
       "HasCrCard            int64\n",
       "IsActiveMember       int64\n",
       "EstimatedSalary    float64\n",
       "Exited               int64\n",
       "dtype: object"
      ]
     },
     "execution_count": 86,
     "metadata": {},
     "output_type": "execute_result"
    }
   ],
   "source": [
    "X = dataset.iloc[:, 3:13]\n",
    "y = dataset.iloc[:, 13]\n",
    "\n",
    "# Data Visualization For Categorical Data\n",
    "\n",
    "\n",
    "dataset.dtypes"
   ]
  },
  {
   "cell_type": "code",
   "execution_count": 87,
   "metadata": {},
   "outputs": [
    {
     "name": "stdout",
     "output_type": "stream",
     "text": [
      "0    7963\n",
      "1    2037\n",
      "Name: Exited, dtype: int64\n"
     ]
    },
    {
     "name": "stderr",
     "output_type": "stream",
     "text": [
      "c:\\Users\\P52s\\.conda\\envs\\chat\\lib\\site-packages\\seaborn\\_decorators.py:43: FutureWarning: Pass the following variable as a keyword arg: x. From version 0.12, the only valid positional argument will be `data`, and passing other arguments without an explicit keyword will result in an error or misinterpretation.\n",
      "  FutureWarning\n"
     ]
    },
    {
     "data": {
      "image/png": "[encoded data removed]",
      "text/plain": [
       "<Figure size 432x288 with 1 Axes>"
      ]
     },
     "metadata": {},
     "output_type": "display_data"
    }
   ],
   "source": [
    "print(dataset.Exited.value_counts())\n",
    "sns.countplot(dataset[\"Exited\"]);"
   ]
  },
  {
   "cell_type": "code",
   "execution_count": 88,
   "metadata": {},
   "outputs": [
    {
     "data": {
      "image/png": "[encoded data removed]",
      "text/plain": [
       "<Figure size 1080x864 with 12 Axes>"
      ]
     },
     "metadata": {},
     "output_type": "display_data"
    }
   ],
   "source": [
    "dataset.hist(figsize=(15, 12), bins=15);"
   ]
  },
  {
   "cell_type": "code",
   "execution_count": 89,
   "metadata": {},
   "outputs": [
    {
     "data": {
      "image/png": "[encoded data removed]",
      "text/plain": [
       "<Figure size 1152x864 with 4 Axes>"
      ]
     },
     "metadata": {},
     "output_type": "display_data"
    }
   ],
   "source": [
    "cat_list = [\"Gender\", \"HasCrCard\", \"IsActiveMember\", \"Geography\"]\n",
    "index = 0\n",
    "plt.figure(figsize=(16, 12))\n",
    "for i in cat_list:\n",
    "    index += 1\n",
    "    plt.subplot(2, 2, index)\n",
    "    sns.countplot(data=dataset, x=i, hue=\"Exited\")"
   ]
  },
  {
   "cell_type": "code",
   "execution_count": 90,
   "metadata": {},
   "outputs": [
    {
     "name": "stderr",
     "output_type": "stream",
     "text": [
      "c:\\Users\\P52s\\.conda\\envs\\chat\\lib\\site-packages\\seaborn\\_decorators.py:43: FutureWarning: Pass the following variable as a keyword arg: x. From version 0.12, the only valid positional argument will be `data`, and passing other arguments without an explicit keyword will result in an error or misinterpretation.\n",
      "  FutureWarning\n"
     ]
    },
    {
     "data": {
      "image/png": "[encoded data removed]",
      "text/plain": [
       "<Figure size 1440x504 with 1 Axes>"
      ]
     },
     "metadata": {},
     "output_type": "display_data"
    }
   ],
   "source": [
    "plt.figure(figsize=(20, 7))\n",
    "sns.countplot(dataset.Age, hue=dataset.Exited);"
   ]
  },
  {
   "cell_type": "code",
   "execution_count": 91,
   "metadata": {},
   "outputs": [
    {
     "data": {
      "image/png": "[encoded data removed]",
      "text/plain": [
       "<Figure size 432x288 with 1 Axes>"
      ]
     },
     "metadata": {},
     "output_type": "display_data"
    }
   ],
   "source": [
    "dataset.corr()['Exited'][:-1].sort_values().plot.barh();"
   ]
  },
  {
   "cell_type": "code",
   "execution_count": 92,
   "metadata": {},
   "outputs": [
    {
     "data": {
      "text/html": [
       "<div>\n",
       "<style scoped>\n",
       "    .dataframe tbody tr th:only-of-type {\n",
       "        vertical-align: middle;\n",
       "    }\n",
       "\n",
       "    .dataframe tbody tr th {\n",
       "        vertical-align: top;\n",
       "    }\n",
       "\n",
       "    .dataframe thead th {\n",
       "        text-align: right;\n",
       "    }\n",
       "</style>\n",
       "<table border=\"1\" class=\"dataframe\">\n",
       "  <thead>\n",
       "    <tr style=\"text-align: right;\">\n",
       "      <th></th>\n",
       "      <th>CreditScore</th>\n",
       "      <th>Age</th>\n",
       "      <th>Tenure</th>\n",
       "      <th>Balance</th>\n",
       "      <th>NumOfProducts</th>\n",
       "      <th>HasCrCard</th>\n",
       "      <th>IsActiveMember</th>\n",
       "      <th>EstimatedSalary</th>\n",
       "      <th>Germany</th>\n",
       "      <th>Spain</th>\n",
       "      <th>Male</th>\n",
       "    </tr>\n",
       "  </thead>\n",
       "  <tbody>\n",
       "    <tr>\n",
       "      <th>0</th>\n",
       "      <td>619</td>\n",
       "      <td>42</td>\n",
       "      <td>2</td>\n",
       "      <td>0.00</td>\n",
       "      <td>1</td>\n",
       "      <td>1</td>\n",
       "      <td>1</td>\n",
       "      <td>101348.88</td>\n",
       "      <td>0</td>\n",
       "      <td>0</td>\n",
       "      <td>0</td>\n",
       "    </tr>\n",
       "    <tr>\n",
       "      <th>1</th>\n",
       "      <td>608</td>\n",
       "      <td>41</td>\n",
       "      <td>1</td>\n",
       "      <td>83807.86</td>\n",
       "      <td>1</td>\n",
       "      <td>0</td>\n",
       "      <td>1</td>\n",
       "      <td>112542.58</td>\n",
       "      <td>0</td>\n",
       "      <td>1</td>\n",
       "      <td>0</td>\n",
       "    </tr>\n",
       "    <tr>\n",
       "      <th>2</th>\n",
       "      <td>502</td>\n",
       "      <td>42</td>\n",
       "      <td>8</td>\n",
       "      <td>159660.80</td>\n",
       "      <td>3</td>\n",
       "      <td>1</td>\n",
       "      <td>0</td>\n",
       "      <td>113931.57</td>\n",
       "      <td>0</td>\n",
       "      <td>0</td>\n",
       "      <td>0</td>\n",
       "    </tr>\n",
       "    <tr>\n",
       "      <th>3</th>\n",
       "      <td>699</td>\n",
       "      <td>39</td>\n",
       "      <td>1</td>\n",
       "      <td>0.00</td>\n",
       "      <td>2</td>\n",
       "      <td>0</td>\n",
       "      <td>0</td>\n",
       "      <td>93826.63</td>\n",
       "      <td>0</td>\n",
       "      <td>0</td>\n",
       "      <td>0</td>\n",
       "    </tr>\n",
       "    <tr>\n",
       "      <th>4</th>\n",
       "      <td>850</td>\n",
       "      <td>43</td>\n",
       "      <td>2</td>\n",
       "      <td>125510.82</td>\n",
       "      <td>1</td>\n",
       "      <td>1</td>\n",
       "      <td>1</td>\n",
       "      <td>79084.10</td>\n",
       "      <td>0</td>\n",
       "      <td>1</td>\n",
       "      <td>0</td>\n",
       "    </tr>\n",
       "    <tr>\n",
       "      <th>...</th>\n",
       "      <td>...</td>\n",
       "      <td>...</td>\n",
       "      <td>...</td>\n",
       "      <td>...</td>\n",
       "      <td>...</td>\n",
       "      <td>...</td>\n",
       "      <td>...</td>\n",
       "      <td>...</td>\n",
       "      <td>...</td>\n",
       "      <td>...</td>\n",
       "      <td>...</td>\n",
       "    </tr>\n",
       "    <tr>\n",
       "      <th>9995</th>\n",
       "      <td>771</td>\n",
       "      <td>39</td>\n",
       "      <td>5</td>\n",
       "      <td>0.00</td>\n",
       "      <td>2</td>\n",
       "      <td>1</td>\n",
       "      <td>0</td>\n",
       "      <td>96270.64</td>\n",
       "      <td>0</td>\n",
       "      <td>0</td>\n",
       "      <td>1</td>\n",
       "    </tr>\n",
       "    <tr>\n",
       "      <th>9996</th>\n",
       "      <td>516</td>\n",
       "      <td>35</td>\n",
       "      <td>10</td>\n",
       "      <td>57369.61</td>\n",
       "      <td>1</td>\n",
       "      <td>1</td>\n",
       "      <td>1</td>\n",
       "      <td>101699.77</td>\n",
       "      <td>0</td>\n",
       "      <td>0</td>\n",
       "      <td>1</td>\n",
       "    </tr>\n",
       "    <tr>\n",
       "      <th>9997</th>\n",
       "      <td>709</td>\n",
       "      <td>36</td>\n",
       "      <td>7</td>\n",
       "      <td>0.00</td>\n",
       "      <td>1</td>\n",
       "      <td>0</td>\n",
       "      <td>1</td>\n",
       "      <td>42085.58</td>\n",
       "      <td>0</td>\n",
       "      <td>0</td>\n",
       "      <td>0</td>\n",
       "    </tr>\n",
       "    <tr>\n",
       "      <th>9998</th>\n",
       "      <td>772</td>\n",
       "      <td>42</td>\n",
       "      <td>3</td>\n",
       "      <td>75075.31</td>\n",
       "      <td>2</td>\n",
       "      <td>1</td>\n",
       "      <td>0</td>\n",
       "      <td>92888.52</td>\n",
       "      <td>1</td>\n",
       "      <td>0</td>\n",
       "      <td>1</td>\n",
       "    </tr>\n",
       "    <tr>\n",
       "      <th>9999</th>\n",
       "      <td>792</td>\n",
       "      <td>28</td>\n",
       "      <td>4</td>\n",
       "      <td>130142.79</td>\n",
       "      <td>1</td>\n",
       "      <td>1</td>\n",
       "      <td>0</td>\n",
       "      <td>38190.78</td>\n",
       "      <td>0</td>\n",
       "      <td>0</td>\n",
       "      <td>0</td>\n",
       "    </tr>\n",
       "  </tbody>\n",
       "</table>\n",
       "<p>10000 rows × 11 columns</p>\n",
       "</div>"
      ],
      "text/plain": [
       "      CreditScore  Age  Tenure    Balance  NumOfProducts  HasCrCard  \\\n",
       "0             619   42       2       0.00              1          1   \n",
       "1             608   41       1   83807.86              1          0   \n",
       "2             502   42       8  159660.80              3          1   \n",
       "3             699   39       1       0.00              2          0   \n",
       "4             850   43       2  125510.82              1          1   \n",
       "...           ...  ...     ...        ...            ...        ...   \n",
       "9995          771   39       5       0.00              2          1   \n",
       "9996          516   35      10   57369.61              1          1   \n",
       "9997          709   36       7       0.00              1          0   \n",
       "9998          772   42       3   75075.31              2          1   \n",
       "9999          792   28       4  130142.79              1          1   \n",
       "\n",
       "      IsActiveMember  EstimatedSalary  Germany  Spain  Male  \n",
       "0                  1        101348.88        0      0     0  \n",
       "1                  1        112542.58        0      1     0  \n",
       "2                  0        113931.57        0      0     0  \n",
       "3                  0         93826.63        0      0     0  \n",
       "4                  1         79084.10        0      1     0  \n",
       "...              ...              ...      ...    ...   ...  \n",
       "9995               0         96270.64        0      0     1  \n",
       "9996               1        101699.77        0      0     1  \n",
       "9997               1         42085.58        0      0     0  \n",
       "9998               0         92888.52        1      0     1  \n",
       "9999               0         38190.78        0      0     0  \n",
       "\n",
       "[10000 rows x 11 columns]"
      ]
     },
     "execution_count": 92,
     "metadata": {},
     "output_type": "execute_result"
    }
   ],
   "source": [
    "# Feature Engineering\n",
    "\n",
    "### Create dummy variables\n",
    "geography=pd.get_dummies(X[\"Geography\"],drop_first=True)\n",
    "gender=pd.get_dummies(X['Gender'],drop_first=True)\n",
    "\n",
    "## Concatenate the Data Frames\n",
    "X=pd.concat([X,geography,gender],axis=1)\n",
    "\n",
    "## Drop Unnecessary columns\n",
    "X=X.drop(['Geography','Gender'],axis=1)\n",
    "\n",
    "\n",
    "X"
   ]
  },
  {
   "cell_type": "code",
   "execution_count": 93,
   "metadata": {},
   "outputs": [
    {
     "data": {
      "text/plain": [
       "array([[ 0.16958176, -0.46460796,  0.00666099, ..., -0.5698444 ,\n",
       "         1.74309049, -1.09168714],\n",
       "       [-2.30455945,  0.30102557, -1.37744033, ...,  1.75486502,\n",
       "        -0.57369368,  0.91601335],\n",
       "       [-1.19119591, -0.94312892, -1.031415  , ..., -0.5698444 ,\n",
       "        -0.57369368, -1.09168714],\n",
       "       ...,\n",
       "       [ 0.9015152 , -0.36890377,  0.00666099, ..., -0.5698444 ,\n",
       "        -0.57369368,  0.91601335],\n",
       "       [-0.62420521, -0.08179119,  1.39076231, ..., -0.5698444 ,\n",
       "         1.74309049, -1.09168714],\n",
       "       [-0.28401079,  0.87525072, -1.37744033, ...,  1.75486502,\n",
       "        -0.57369368, -1.09168714]])"
      ]
     },
     "execution_count": 93,
     "metadata": {},
     "output_type": "execute_result"
    }
   ],
   "source": [
    "# Data Preparation and Preprocessing\n",
    "\n",
    "# Splitting the dataset into the Training set and Test set\n",
    "from sklearn.model_selection import train_test_split\n",
    "X_train, X_test, y_train, y_test = train_test_split(X, y, test_size = 0.2, random_state = 0)\n",
    "\n",
    "# Feature Scaling\n",
    "from sklearn.preprocessing import StandardScaler\n",
    "sc = StandardScaler()\n",
    "X_train = sc.fit_transform(X_train)\n",
    "X_test = sc.transform(X_test)\n",
    "\n",
    "X_train"
   ]
  },
  {
   "cell_type": "markdown",
   "metadata": {},
   "source": [
    "2. Créer le réseau de neurone adéquat"
   ]
  },
  {
   "cell_type": "code",
   "execution_count": 67,
   "metadata": {},
   "outputs": [],
   "source": [
    "# Initialising the ANN\n",
    "classifier = Sequential()"
   ]
  },
  {
   "cell_type": "code",
   "execution_count": 68,
   "metadata": {},
   "outputs": [],
   "source": [
    "# Adding the input layer and the first hidden layer\n",
    "classifier.add(Dense(units = 20, kernel_initializer = 'he_normal',activation='relu',input_dim = 11))\n",
    "classifier.add(Dropout(0.4))"
   ]
  },
  {
   "cell_type": "code",
   "execution_count": 69,
   "metadata": {},
   "outputs": [],
   "source": [
    "#2nd layer\n",
    "classifier.add(Dense(units = 15, kernel_initializer = 'he_normal',activation='relu'))\n",
    "classifier.add(Dropout(0.4))"
   ]
  },
  {
   "cell_type": "code",
   "execution_count": 71,
   "metadata": {},
   "outputs": [],
   "source": [
    "# Adding the output layer\n",
    "classifier.add(Dense(units = 1, kernel_initializer = 'glorot_uniform', activation = 'sigmoid'))"
   ]
  },
  {
   "cell_type": "markdown",
   "metadata": {},
   "source": [
    "3. Compiler le réseau de neurones en suivant les pratiques qu’il faut \n",
    "\n",
    "- Optimiser Choisie : Adam\n",
    "\n",
    "\n",
    " **Réponse 3  :** The Adam optimizer is a first-order gradient-based optimization method that is capable of adjusting the learning rate based on data characteristics, making it well-suited to learn time-variant processes such as speech data with dynamically changing noise conditions ¹. \n",
    "\n",
    "\n",
    "- Loss Function : Binary Cross Entropy\n",
    "\n",
    "\n",
    " **Réponse 2 :**  la fonction de perte binary_crossentropy est appropriée pour les problèmes de classification binaire, comme celui de la prédiction de résiliation de clients. Elle mesure la divergence entre les distributions de probabilité réelles et prédites, favorisant une convergence efficace du modèle dans le contexte de la classification binaire.\n",
    "\n",
    "\n"
   ]
  },
  {
   "cell_type": "code",
   "execution_count": 72,
   "metadata": {},
   "outputs": [],
   "source": [
    "#Compiling the ANN\n",
    "classifier.compile(optimizer = 'adam', loss = 'binary_crossentropy', metrics = ['accuracy'])"
   ]
  },
  {
   "cell_type": "markdown",
   "metadata": {},
   "source": [
    "4. Utilisant 100 Epoche allons Entrainer ce Modèle"
   ]
  },
  {
   "cell_type": "code",
   "execution_count": 73,
   "metadata": {},
   "outputs": [
    {
     "name": "stdout",
     "output_type": "stream",
     "text": [
      "Epoch 1/100\n",
      "536/536 [==============================] - 4s 5ms/step - loss: 0.6070 - accuracy: 0.7324 - val_loss: 0.4882 - val_accuracy: 0.7955\n",
      "Epoch 2/100\n",
      "536/536 [==============================] - 3s 5ms/step - loss: 0.5208 - accuracy: 0.7863 - val_loss: 0.4676 - val_accuracy: 0.7955\n",
      "Epoch 3/100\n",
      "536/536 [==============================] - 2s 4ms/step - loss: 0.4892 - accuracy: 0.7960 - val_loss: 0.4524 - val_accuracy: 0.7967\n",
      "Epoch 4/100\n",
      "536/536 [==============================] - 2s 5ms/step - loss: 0.4730 - accuracy: 0.7977 - val_loss: 0.4449 - val_accuracy: 0.7974\n",
      "Epoch 5/100\n",
      "536/536 [==============================] - 2s 5ms/step - loss: 0.4633 - accuracy: 0.8015 - val_loss: 0.4348 - val_accuracy: 0.8065\n",
      "Epoch 6/100\n",
      "536/536 [==============================] - 2s 4ms/step - loss: 0.4535 - accuracy: 0.8048 - val_loss: 0.4268 - val_accuracy: 0.8092\n",
      "Epoch 7/100\n",
      "536/536 [==============================] - 3s 5ms/step - loss: 0.4521 - accuracy: 0.8095 - val_loss: 0.4259 - val_accuracy: 0.8103\n",
      "Epoch 8/100\n",
      "536/536 [==============================] - 3s 5ms/step - loss: 0.4474 - accuracy: 0.8084 - val_loss: 0.4216 - val_accuracy: 0.8088\n",
      "Epoch 9/100\n",
      "536/536 [==============================] - 2s 4ms/step - loss: 0.4333 - accuracy: 0.8151 - val_loss: 0.4142 - val_accuracy: 0.8111\n",
      "Epoch 10/100\n",
      "536/536 [==============================] - 3s 5ms/step - loss: 0.4317 - accuracy: 0.8166 - val_loss: 0.4089 - val_accuracy: 0.8190\n",
      "Epoch 11/100\n",
      "536/536 [==============================] - 3s 5ms/step - loss: 0.4276 - accuracy: 0.8203 - val_loss: 0.4080 - val_accuracy: 0.8224\n",
      "Epoch 12/100\n",
      "536/536 [==============================] - 3s 5ms/step - loss: 0.4177 - accuracy: 0.8259 - val_loss: 0.4023 - val_accuracy: 0.8194\n",
      "Epoch 13/100\n",
      "536/536 [==============================] - 3s 5ms/step - loss: 0.4125 - accuracy: 0.8281 - val_loss: 0.3956 - val_accuracy: 0.8273\n",
      "Epoch 14/100\n",
      "536/536 [==============================] - 3s 5ms/step - loss: 0.4099 - accuracy: 0.8296 - val_loss: 0.3933 - val_accuracy: 0.8224\n",
      "Epoch 15/100\n",
      "536/536 [==============================] - 2s 4ms/step - loss: 0.4108 - accuracy: 0.8334 - val_loss: 0.3895 - val_accuracy: 0.8296\n",
      "Epoch 16/100\n",
      "536/536 [==============================] - 3s 5ms/step - loss: 0.4043 - accuracy: 0.8337 - val_loss: 0.3863 - val_accuracy: 0.8262\n",
      "Epoch 17/100\n",
      "536/536 [==============================] - 3s 5ms/step - loss: 0.4007 - accuracy: 0.8362 - val_loss: 0.3861 - val_accuracy: 0.8239\n",
      "Epoch 18/100\n",
      "536/536 [==============================] - 2s 4ms/step - loss: 0.3995 - accuracy: 0.8339 - val_loss: 0.3844 - val_accuracy: 0.8315\n",
      "Epoch 19/100\n",
      "536/536 [==============================] - 3s 5ms/step - loss: 0.3960 - accuracy: 0.8365 - val_loss: 0.3791 - val_accuracy: 0.8353\n",
      "Epoch 20/100\n",
      "536/536 [==============================] - 2s 5ms/step - loss: 0.3928 - accuracy: 0.8371 - val_loss: 0.3831 - val_accuracy: 0.8281\n",
      "Epoch 21/100\n",
      "536/536 [==============================] - 3s 5ms/step - loss: 0.3924 - accuracy: 0.8332 - val_loss: 0.3803 - val_accuracy: 0.8338\n",
      "Epoch 22/100\n",
      "536/536 [==============================] - 3s 5ms/step - loss: 0.3880 - accuracy: 0.8384 - val_loss: 0.3793 - val_accuracy: 0.8300\n",
      "Epoch 23/100\n",
      "536/536 [==============================] - 2s 4ms/step - loss: 0.3825 - accuracy: 0.8429 - val_loss: 0.3779 - val_accuracy: 0.8319\n",
      "Epoch 24/100\n",
      "536/536 [==============================] - 2s 4ms/step - loss: 0.3875 - accuracy: 0.8442 - val_loss: 0.3776 - val_accuracy: 0.8292\n",
      "Epoch 25/100\n",
      "536/536 [==============================] - 3s 5ms/step - loss: 0.3880 - accuracy: 0.8360 - val_loss: 0.3797 - val_accuracy: 0.8345\n",
      "Epoch 26/100\n",
      "536/536 [==============================] - 2s 4ms/step - loss: 0.3799 - accuracy: 0.8427 - val_loss: 0.3762 - val_accuracy: 0.8334\n",
      "Epoch 27/100\n",
      "536/536 [==============================] - 2s 4ms/step - loss: 0.3754 - accuracy: 0.8405 - val_loss: 0.3730 - val_accuracy: 0.8364\n",
      "Epoch 28/100\n",
      "536/536 [==============================] - 3s 5ms/step - loss: 0.3857 - accuracy: 0.8418 - val_loss: 0.3739 - val_accuracy: 0.8368\n",
      "Epoch 29/100\n",
      "536/536 [==============================] - 2s 5ms/step - loss: 0.3766 - accuracy: 0.8436 - val_loss: 0.3736 - val_accuracy: 0.8360\n",
      "Epoch 30/100\n",
      "536/536 [==============================] - 2s 5ms/step - loss: 0.3817 - accuracy: 0.8386 - val_loss: 0.3725 - val_accuracy: 0.8391\n",
      "Epoch 31/100\n",
      "536/536 [==============================] - 3s 5ms/step - loss: 0.3787 - accuracy: 0.8434 - val_loss: 0.3740 - val_accuracy: 0.8360\n",
      "Epoch 32/100\n",
      "536/536 [==============================] - 2s 4ms/step - loss: 0.3778 - accuracy: 0.8412 - val_loss: 0.3742 - val_accuracy: 0.8349\n",
      "Epoch 33/100\n",
      "536/536 [==============================] - 3s 5ms/step - loss: 0.3773 - accuracy: 0.8390 - val_loss: 0.3733 - val_accuracy: 0.8387\n",
      "Epoch 34/100\n",
      "536/536 [==============================] - 3s 6ms/step - loss: 0.3738 - accuracy: 0.8434 - val_loss: 0.3674 - val_accuracy: 0.8432\n",
      "Epoch 35/100\n",
      "536/536 [==============================] - 2s 4ms/step - loss: 0.3757 - accuracy: 0.8446 - val_loss: 0.3753 - val_accuracy: 0.8326\n",
      "Epoch 36/100\n",
      "536/536 [==============================] - 2s 4ms/step - loss: 0.3805 - accuracy: 0.8412 - val_loss: 0.3736 - val_accuracy: 0.8334\n",
      "Epoch 37/100\n",
      "536/536 [==============================] - 3s 5ms/step - loss: 0.3774 - accuracy: 0.8446 - val_loss: 0.3688 - val_accuracy: 0.8429\n",
      "Epoch 38/100\n",
      "536/536 [==============================] - 2s 5ms/step - loss: 0.3727 - accuracy: 0.8451 - val_loss: 0.3663 - val_accuracy: 0.8444\n",
      "Epoch 39/100\n",
      "536/536 [==============================] - 4s 8ms/step - loss: 0.3765 - accuracy: 0.8442 - val_loss: 0.3645 - val_accuracy: 0.8451\n",
      "Epoch 40/100\n",
      "536/536 [==============================] - 4s 7ms/step - loss: 0.3746 - accuracy: 0.8447 - val_loss: 0.3654 - val_accuracy: 0.8429\n",
      "Epoch 41/100\n",
      "536/536 [==============================] - 2s 4ms/step - loss: 0.3696 - accuracy: 0.8457 - val_loss: 0.3656 - val_accuracy: 0.8444\n",
      "Epoch 42/100\n",
      "536/536 [==============================] - 2s 5ms/step - loss: 0.3693 - accuracy: 0.8433 - val_loss: 0.3681 - val_accuracy: 0.8357\n",
      "Epoch 43/100\n",
      "536/536 [==============================] - 3s 5ms/step - loss: 0.3746 - accuracy: 0.8434 - val_loss: 0.3685 - val_accuracy: 0.8402\n",
      "Epoch 44/100\n",
      "536/536 [==============================] - 2s 5ms/step - loss: 0.3738 - accuracy: 0.8461 - val_loss: 0.3700 - val_accuracy: 0.8334\n",
      "Epoch 45/100\n",
      "536/536 [==============================] - 2s 5ms/step - loss: 0.3732 - accuracy: 0.8427 - val_loss: 0.3651 - val_accuracy: 0.8440\n",
      "Epoch 46/100\n",
      "536/536 [==============================] - 3s 5ms/step - loss: 0.3772 - accuracy: 0.8405 - val_loss: 0.3694 - val_accuracy: 0.8376\n",
      "Epoch 47/100\n",
      "536/536 [==============================] - 2s 5ms/step - loss: 0.3716 - accuracy: 0.8447 - val_loss: 0.3662 - val_accuracy: 0.8432\n",
      "Epoch 48/100\n",
      "536/536 [==============================] - 3s 5ms/step - loss: 0.3667 - accuracy: 0.8503 - val_loss: 0.3662 - val_accuracy: 0.8444\n",
      "Epoch 49/100\n",
      "536/536 [==============================] - 3s 5ms/step - loss: 0.3664 - accuracy: 0.8412 - val_loss: 0.3683 - val_accuracy: 0.8410\n",
      "Epoch 50/100\n",
      "536/536 [==============================] - 3s 5ms/step - loss: 0.3657 - accuracy: 0.8447 - val_loss: 0.3654 - val_accuracy: 0.8455\n",
      "Epoch 51/100\n",
      "536/536 [==============================] - 3s 5ms/step - loss: 0.3755 - accuracy: 0.8418 - val_loss: 0.3648 - val_accuracy: 0.8432\n",
      "Epoch 52/100\n",
      "536/536 [==============================] - 2s 5ms/step - loss: 0.3723 - accuracy: 0.8455 - val_loss: 0.3677 - val_accuracy: 0.8425\n",
      "Epoch 53/100\n",
      "536/536 [==============================] - 2s 5ms/step - loss: 0.3714 - accuracy: 0.8429 - val_loss: 0.3674 - val_accuracy: 0.8417\n",
      "Epoch 54/100\n",
      "536/536 [==============================] - 3s 5ms/step - loss: 0.3652 - accuracy: 0.8479 - val_loss: 0.3691 - val_accuracy: 0.8429\n",
      "Epoch 55/100\n",
      "536/536 [==============================] - 2s 5ms/step - loss: 0.3648 - accuracy: 0.8468 - val_loss: 0.3686 - val_accuracy: 0.8410\n",
      "Epoch 56/100\n",
      "536/536 [==============================] - 2s 5ms/step - loss: 0.3670 - accuracy: 0.8444 - val_loss: 0.3641 - val_accuracy: 0.8459\n",
      "Epoch 57/100\n",
      "536/536 [==============================] - 3s 5ms/step - loss: 0.3652 - accuracy: 0.8483 - val_loss: 0.3660 - val_accuracy: 0.8451\n",
      "Epoch 58/100\n",
      "536/536 [==============================] - 2s 4ms/step - loss: 0.3603 - accuracy: 0.8507 - val_loss: 0.3634 - val_accuracy: 0.8478\n",
      "Epoch 59/100\n",
      "536/536 [==============================] - 3s 5ms/step - loss: 0.3664 - accuracy: 0.8442 - val_loss: 0.3668 - val_accuracy: 0.8470\n",
      "Epoch 60/100\n",
      "536/536 [==============================] - 3s 5ms/step - loss: 0.3677 - accuracy: 0.8444 - val_loss: 0.3643 - val_accuracy: 0.8474\n",
      "Epoch 61/100\n",
      "536/536 [==============================] - 2s 4ms/step - loss: 0.3635 - accuracy: 0.8515 - val_loss: 0.3652 - val_accuracy: 0.8448\n",
      "Epoch 62/100\n",
      "536/536 [==============================] - 2s 5ms/step - loss: 0.3701 - accuracy: 0.8449 - val_loss: 0.3631 - val_accuracy: 0.8459\n",
      "Epoch 63/100\n",
      "536/536 [==============================] - 3s 5ms/step - loss: 0.3669 - accuracy: 0.8446 - val_loss: 0.3655 - val_accuracy: 0.8440\n",
      "Epoch 64/100\n",
      "536/536 [==============================] - 3s 5ms/step - loss: 0.3664 - accuracy: 0.8464 - val_loss: 0.3665 - val_accuracy: 0.8444\n",
      "Epoch 65/100\n",
      "536/536 [==============================] - 3s 5ms/step - loss: 0.3609 - accuracy: 0.8487 - val_loss: 0.3633 - val_accuracy: 0.8482\n",
      "Epoch 66/100\n",
      "536/536 [==============================] - 3s 5ms/step - loss: 0.3710 - accuracy: 0.8451 - val_loss: 0.3641 - val_accuracy: 0.8485\n",
      "Epoch 67/100\n",
      "536/536 [==============================] - 3s 5ms/step - loss: 0.3703 - accuracy: 0.8459 - val_loss: 0.3679 - val_accuracy: 0.8421\n",
      "Epoch 68/100\n",
      "536/536 [==============================] - 3s 5ms/step - loss: 0.3664 - accuracy: 0.8451 - val_loss: 0.3658 - val_accuracy: 0.8466\n",
      "Epoch 69/100\n",
      "536/536 [==============================] - 3s 5ms/step - loss: 0.3631 - accuracy: 0.8498 - val_loss: 0.3656 - val_accuracy: 0.8470\n",
      "Epoch 70/100\n",
      "536/536 [==============================] - 3s 5ms/step - loss: 0.3692 - accuracy: 0.8462 - val_loss: 0.3658 - val_accuracy: 0.8466\n",
      "Epoch 71/100\n",
      "536/536 [==============================] - 3s 5ms/step - loss: 0.3700 - accuracy: 0.8457 - val_loss: 0.3686 - val_accuracy: 0.8429\n",
      "Epoch 72/100\n",
      "536/536 [==============================] - 2s 5ms/step - loss: 0.3656 - accuracy: 0.8475 - val_loss: 0.3676 - val_accuracy: 0.8451\n",
      "Epoch 73/100\n",
      "536/536 [==============================] - 3s 5ms/step - loss: 0.3688 - accuracy: 0.8433 - val_loss: 0.3659 - val_accuracy: 0.8463\n",
      "Epoch 74/100\n",
      "536/536 [==============================] - 3s 5ms/step - loss: 0.3651 - accuracy: 0.8481 - val_loss: 0.3669 - val_accuracy: 0.8448\n",
      "Epoch 75/100\n",
      "536/536 [==============================] - 2s 5ms/step - loss: 0.3702 - accuracy: 0.8461 - val_loss: 0.3635 - val_accuracy: 0.8485\n",
      "Epoch 76/100\n",
      "536/536 [==============================] - 3s 5ms/step - loss: 0.3647 - accuracy: 0.8468 - val_loss: 0.3636 - val_accuracy: 0.8489\n",
      "Epoch 77/100\n",
      "536/536 [==============================] - 3s 5ms/step - loss: 0.3625 - accuracy: 0.8503 - val_loss: 0.3655 - val_accuracy: 0.8463\n",
      "Epoch 78/100\n",
      "536/536 [==============================] - 3s 5ms/step - loss: 0.3592 - accuracy: 0.8481 - val_loss: 0.3630 - val_accuracy: 0.8485\n",
      "Epoch 79/100\n",
      "536/536 [==============================] - 3s 5ms/step - loss: 0.3627 - accuracy: 0.8475 - val_loss: 0.3650 - val_accuracy: 0.8489\n",
      "Epoch 80/100\n",
      "536/536 [==============================] - 3s 5ms/step - loss: 0.3598 - accuracy: 0.8490 - val_loss: 0.3673 - val_accuracy: 0.8429\n",
      "Epoch 81/100\n",
      "536/536 [==============================] - 2s 4ms/step - loss: 0.3636 - accuracy: 0.8475 - val_loss: 0.3665 - val_accuracy: 0.8459\n",
      "Epoch 82/100\n",
      "536/536 [==============================] - 3s 6ms/step - loss: 0.3614 - accuracy: 0.8462 - val_loss: 0.3682 - val_accuracy: 0.8432\n",
      "Epoch 83/100\n",
      "536/536 [==============================] - 2s 5ms/step - loss: 0.3629 - accuracy: 0.8466 - val_loss: 0.3667 - val_accuracy: 0.8478\n",
      "Epoch 84/100\n",
      "536/536 [==============================] - 2s 5ms/step - loss: 0.3610 - accuracy: 0.8438 - val_loss: 0.3656 - val_accuracy: 0.8470\n",
      "Epoch 85/100\n",
      "536/536 [==============================] - 3s 5ms/step - loss: 0.3645 - accuracy: 0.8481 - val_loss: 0.3679 - val_accuracy: 0.8432\n",
      "Epoch 86/100\n",
      "536/536 [==============================] - 2s 5ms/step - loss: 0.3584 - accuracy: 0.8517 - val_loss: 0.3637 - val_accuracy: 0.8501\n",
      "Epoch 87/100\n",
      "536/536 [==============================] - 2s 5ms/step - loss: 0.3652 - accuracy: 0.8451 - val_loss: 0.3626 - val_accuracy: 0.8501\n",
      "Epoch 88/100\n",
      "536/536 [==============================] - 3s 6ms/step - loss: 0.3629 - accuracy: 0.8479 - val_loss: 0.3670 - val_accuracy: 0.8485\n",
      "Epoch 89/100\n",
      "536/536 [==============================] - 3s 5ms/step - loss: 0.3593 - accuracy: 0.8496 - val_loss: 0.3642 - val_accuracy: 0.8489\n",
      "Epoch 90/100\n",
      "536/536 [==============================] - 2s 4ms/step - loss: 0.3606 - accuracy: 0.8498 - val_loss: 0.3687 - val_accuracy: 0.8466\n",
      "Epoch 91/100\n",
      "536/536 [==============================] - 3s 5ms/step - loss: 0.3599 - accuracy: 0.8513 - val_loss: 0.3659 - val_accuracy: 0.8501\n",
      "Epoch 92/100\n",
      "536/536 [==============================] - 2s 4ms/step - loss: 0.3613 - accuracy: 0.8487 - val_loss: 0.3653 - val_accuracy: 0.8497\n",
      "Epoch 93/100\n",
      "536/536 [==============================] - 2s 4ms/step - loss: 0.3626 - accuracy: 0.8474 - val_loss: 0.3648 - val_accuracy: 0.8493\n",
      "Epoch 94/100\n",
      "536/536 [==============================] - 3s 6ms/step - loss: 0.3604 - accuracy: 0.8520 - val_loss: 0.3657 - val_accuracy: 0.8448\n",
      "Epoch 95/100\n",
      "536/536 [==============================] - 3s 5ms/step - loss: 0.3544 - accuracy: 0.8552 - val_loss: 0.3653 - val_accuracy: 0.8493\n",
      "Epoch 96/100\n",
      "536/536 [==============================] - 2s 4ms/step - loss: 0.3577 - accuracy: 0.8526 - val_loss: 0.3680 - val_accuracy: 0.8474\n",
      "Epoch 97/100\n",
      "536/536 [==============================] - 3s 5ms/step - loss: 0.3622 - accuracy: 0.8479 - val_loss: 0.3678 - val_accuracy: 0.8485\n",
      "Epoch 98/100\n",
      "536/536 [==============================] - 3s 5ms/step - loss: 0.3625 - accuracy: 0.8494 - val_loss: 0.3676 - val_accuracy: 0.8478\n",
      "Epoch 99/100\n",
      "536/536 [==============================] - 3s 5ms/step - loss: 0.3586 - accuracy: 0.8502 - val_loss: 0.3653 - val_accuracy: 0.8493\n",
      "Epoch 100/100\n",
      "536/536 [==============================] - 3s 5ms/step - loss: 0.3570 - accuracy: 0.8520 - val_loss: 0.3625 - val_accuracy: 0.8508\n"
     ]
    }
   ],
   "source": [
    "\n",
    "\n",
    "model_history = classifier.fit(X_train, y_train, validation_split=0.33, batch_size=10, epochs=100)\n"
   ]
  },
  {
   "cell_type": "markdown",
   "metadata": {},
   "source": [
    "5. Calculant la matrice de confusion"
   ]
  },
  {
   "cell_type": "code",
   "execution_count": 94,
   "metadata": {},
   "outputs": [
    {
     "name": "stdout",
     "output_type": "stream",
     "text": [
      "[[1568   27]\n",
      " [ 238  167]]\n"
     ]
    }
   ],
   "source": [
    "# Calcule de Matrix de Confusion\n",
    "y_pred=classifier.predict(X_test)\n",
    "y_pred=(y_pred>0.5)\n",
    "\n",
    "from sklearn.metrics import confusion_matrix,classification_report,accuracy_score\n",
    "print(confusion_matrix(y_test,y_pred))"
   ]
  },
  {
   "cell_type": "code",
   "execution_count": 95,
   "metadata": {},
   "outputs": [
    {
     "name": "stdout",
     "output_type": "stream",
     "text": [
      "Precision: [0.86082474]\n",
      "Recall: [0.41234568]\n",
      "F1 Score: [0.55759599]\n",
      "Accuracy: [0.8675]\n",
      "True Positive: [167]\n",
      "True Negative: [1568]\n",
      "False Positive: [27]\n",
      "False Negative: [238]\n"
     ]
    }
   ],
   "source": [
    "def calculate_classification_metrics(y_true, y_pred):\n",
    "    true_positive = sum((true == 1 and pred == 1) for true, pred in zip(y_true, y_pred))\n",
    "    true_negative = sum((true == 0 and pred == 0) for true, pred in zip(y_true, y_pred))\n",
    "    false_positive = sum((true == 0 and pred == 1) for true, pred in zip(y_true, y_pred))\n",
    "    false_negative = sum((true == 1 and pred == 0) for true, pred in zip(y_true, y_pred))\n",
    "\n",
    "    precision = true_positive / (true_positive + false_positive) if (true_positive + false_positive) != 0 else 0\n",
    "    recall = true_positive / (true_positive + false_negative) if (true_positive + false_negative) != 0 else 0\n",
    "    f1_score = 2 * (precision * recall) / (precision + recall) if (precision + recall) != 0 else 0\n",
    "\n",
    "    accuracy = (true_positive + true_negative) / len(y_true)\n",
    "    \n",
    "    return {\n",
    "        'precision': precision,\n",
    "        'recall': recall,\n",
    "        'f1_score': f1_score,\n",
    "        'accuracy': accuracy,\n",
    "        'true_positive': true_positive,\n",
    "        'true_negative': true_negative,\n",
    "        'false_positive': false_positive,\n",
    "        'false_negative': false_negative,\n",
    "    }\n",
    "\n",
    "\n",
    "metrics = calculate_classification_metrics(y_test, y_pred)\n",
    "\n",
    "# Print the classification report\n",
    "print(\"Precision:\", metrics['precision'])\n",
    "print(\"Recall:\", metrics['recall'])\n",
    "print(\"F1 Score:\", metrics['f1_score'])\n",
    "print(\"Accuracy:\", metrics['accuracy'])\n",
    "print(\"True Positive:\", metrics['true_positive'])\n",
    "print(\"True Negative:\", metrics['true_negative'])\n",
    "print(\"False Positive:\", metrics['false_positive'])\n",
    "print(\"False Negative:\", metrics['false_negative'])\n"
   ]
  },
  {
   "cell_type": "code",
   "execution_count": 96,
   "metadata": {},
   "outputs": [
    {
     "name": "stdout",
     "output_type": "stream",
     "text": [
      "              precision    recall  f1-score   support\n",
      "\n",
      "           0       0.87      0.98      0.92      1595\n",
      "           1       0.86      0.41      0.56       405\n",
      "\n",
      "    accuracy                           0.87      2000\n",
      "   macro avg       0.86      0.70      0.74      2000\n",
      "weighted avg       0.87      0.87      0.85      2000\n",
      "\n"
     ]
    }
   ],
   "source": [
    "print(classification_report(y_test,y_pred))"
   ]
  },
  {
   "cell_type": "markdown",
   "metadata": {},
   "source": [
    "6. Mesurer l'accuracy du modèle"
   ]
  },
  {
   "cell_type": "code",
   "execution_count": 76,
   "metadata": {},
   "outputs": [
    {
     "name": "stdout",
     "output_type": "stream",
     "text": [
      "0.8675\n"
     ]
    }
   ],
   "source": [
    "print(accuracy_score(y_test,y_pred))"
   ]
  },
  {
   "cell_type": "markdown",
   "metadata": {},
   "source": [
    "7. Prédiction d'un Nouveau client"
   ]
  },
  {
   "cell_type": "code",
   "execution_count": 1,
   "metadata": {},
   "outputs": [
    {
     "ename": "NameError",
     "evalue": "name 'classifier' is not defined",
     "output_type": "error",
     "traceback": [
      "\u001b[1;31m---------------------------------------------------------------------------\u001b[0m",
      "\u001b[1;31mNameError\u001b[0m                                 Traceback (most recent call last)",
      "\u001b[1;32m<ipython-input-1-2a65901af46a>\u001b[0m in \u001b[0;36m<module>\u001b[1;34m\u001b[0m\n\u001b[0;32m     46\u001b[0m \u001b[1;33m\u001b[0m\u001b[0m\n\u001b[0;32m     47\u001b[0m \u001b[1;31m# Assuming 'classifier' and 'scaler' are already defined\u001b[0m\u001b[1;33m\u001b[0m\u001b[1;33m\u001b[0m\u001b[1;33m\u001b[0m\u001b[0m\n\u001b[1;32m---> 48\u001b[1;33m \u001b[0mprediction_result\u001b[0m \u001b[1;33m=\u001b[0m \u001b[0mpredict_customer_churn\u001b[0m\u001b[1;33m(\u001b[0m\u001b[1;36m600\u001b[0m\u001b[1;33m,\u001b[0m \u001b[1;36m40\u001b[0m\u001b[1;33m,\u001b[0m \u001b[1;36m3\u001b[0m\u001b[1;33m,\u001b[0m \u001b[1;36m60000\u001b[0m\u001b[1;33m,\u001b[0m \u001b[1;36m2\u001b[0m\u001b[1;33m,\u001b[0m \u001b[1;36m1\u001b[0m\u001b[1;33m,\u001b[0m \u001b[1;36m1\u001b[0m\u001b[1;33m,\u001b[0m \u001b[1;36m50000\u001b[0m\u001b[1;33m,\u001b[0m \u001b[1;36m1\u001b[0m\u001b[1;33m,\u001b[0m \u001b[1;36m1\u001b[0m\u001b[1;33m,\u001b[0m \u001b[0mclassifier\u001b[0m\u001b[1;33m,\u001b[0m \u001b[0msc\u001b[0m\u001b[1;33m)\u001b[0m\u001b[1;33m\u001b[0m\u001b[1;33m\u001b[0m\u001b[0m\n\u001b[0m\u001b[0;32m     49\u001b[0m \u001b[0mprint\u001b[0m\u001b[1;33m(\u001b[0m\u001b[1;34m\"Prediction:\"\u001b[0m\u001b[1;33m,\u001b[0m \u001b[0mprediction_result\u001b[0m\u001b[1;33m)\u001b[0m\u001b[1;33m\u001b[0m\u001b[1;33m\u001b[0m\u001b[0m\n",
      "\u001b[1;31mNameError\u001b[0m: name 'classifier' is not defined"
     ]
    }
   ],
   "source": [
    "credit_score = 600\n",
    "age = 40\n",
    "tenure = 3\n",
    "balance = 60000\n",
    "num_of_products = 2\n",
    "has_credit_card = 1  # Oui\n",
    "is_active_member = 1  # Oui\n",
    "estimated_salary = 50000\n",
    "is_in_france = 1  # France\n",
    "is_male = 1  # Masculin\n",
    "\n",
    "def predict_customer_churn(credit_score, age, tenure, balance, num_of_products, has_credit_card, is_active_member, estimated_salary, is_in_france, is_male, classifier, scaler):\n",
    "    \"\"\"\n",
    "    Predicts customer churn using a trained classifier.\n",
    "\n",
    "    Parameters:\n",
    "    - credit_score: Customer's credit score.\n",
    "    - age: Customer's age.\n",
    "    - tenure: Number of years the customer has been with the bank.\n",
    "    - balance: Customer's account balance.\n",
    "    - num_of_products: Number of bank products the customer uses.\n",
    "    - has_credit_card: Whether the customer has a credit card (1 for Yes, 0 for No).\n",
    "    - is_active_member: Whether the customer is an active member (1 for Yes, 0 for No).\n",
    "    - estimated_salary: Customer's estimated salary.\n",
    "    - is_in_france: Whether the customer is in France (1 for Yes, 0 for No).\n",
    "    - is_male: Whether the customer is male (1 for Yes, 0 for No).\n",
    "    - classifier: Trained classifier for predicting customer churn.\n",
    "    - scaler: StandardScaler used for feature scaling.\n",
    "\n",
    "    Returns:\n",
    "    - Prediction result (True for Churn, False for No Churn).\n",
    "    \"\"\"\n",
    "\n",
    "    # Create a new observation\n",
    "    new_data = np.array([[credit_score, age, tenure, balance, num_of_products, has_credit_card, is_active_member, estimated_salary, 0, not is_in_france, is_male]])\n",
    "\n",
    "    # Scale the new observation\n",
    "    new_data_scaled = scaler.transform(new_data)\n",
    "\n",
    "    # Make the prediction\n",
    "    y_pred = classifier.predict(new_data_scaled)\n",
    "    y_pred = (y_pred > 0.5)\n",
    "\n",
    "    return y_pred[0]\n",
    "\n",
    "\n",
    "# Assuming 'classifier' and 'scaler' are already defined\n",
    "prediction_result = predict_customer_churn(600, 40, 3, 60000, 2, 1, 1, 50000, 1, 1, classifier, sc)\n",
    "print(\"Prediction:\", prediction_result)\n"
   ]
  },
  {
   "cell_type": "code",
   "execution_count": null,
   "metadata": {},
   "outputs": [],
   "source": []
  }
 ],
 "metadata": {
  "kernelspec": {
   "display_name": "chat",
   "language": "python",
   "name": "python3"
  },
  "language_info": {
   "codemirror_mode": {
    "name": "ipython",
    "version": 3
   },
   "file_extension": ".py",
   "mimetype": "text/x-python",
   "name": "python",
   "nbconvert_exporter": "python",
   "pygments_lexer": "ipython3",
   "version": "3.6.13"
  }
 },
 "nbformat": 4,
 "nbformat_minor": 2
}
