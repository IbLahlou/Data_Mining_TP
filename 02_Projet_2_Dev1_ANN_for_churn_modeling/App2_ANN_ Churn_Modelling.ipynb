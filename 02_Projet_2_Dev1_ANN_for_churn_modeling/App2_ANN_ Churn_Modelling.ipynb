{
 "cells": [
  {
   "cell_type": "code",
   "execution_count": 1,
   "metadata": {},
   "outputs": [
    {
     "data": {
      "text/plain": [
       "'c:\\\\Users\\\\P52s\\\\Documents\\\\Obsidian\\\\Semestre 1 IDSCC5\\\\5eme année\\\\Data mining\\\\TPs\\\\data'"
      ]
     },
     "execution_count": 1,
     "metadata": {},
     "output_type": "execute_result"
    }
   ],
   "source": [
    "# Execute this just once or restart the kernel to avoid errors\n",
    "import os \n",
    "\n",
    "os.chdir(\"../data\")\n",
    "%pwd"
   ]
  },
  {
   "cell_type": "code",
   "execution_count": 2,
   "metadata": {},
   "outputs": [
    {
     "name": "stdout",
     "output_type": "stream",
     "text": [
      "Name: tensorflow\n",
      "Version: 2.6.2\n",
      "Summary: TensorFlow is an open source machine learning framework for everyone.\n",
      "Home-page: https://www.tensorflow.org/\n",
      "Author: Google Inc.\n",
      "Author-email: packages@tensorflow.org\n",
      "License: Apache 2.0\n",
      "Location: c:\\users\\p52s\\.conda\\envs\\chat\\lib\\site-packages\n",
      "Requires: absl-py, astunparse, clang, flatbuffers, gast, google-pasta, grpcio, h5py, keras, keras-preprocessing, numpy, opt-einsum, protobuf, six, tensorboard, tensorflow-estimator, termcolor, typing-extensions, wheel, wrapt\n",
      "Required-by: \n"
     ]
    }
   ],
   "source": [
    "!pip show tensorflow"
   ]
  },
  {
   "cell_type": "code",
   "execution_count": 5,
   "metadata": {},
   "outputs": [
    {
     "name": "stdout",
     "output_type": "stream",
     "text": [
      "Num GPUs Available:  0\n"
     ]
    }
   ],
   "source": [
    "# Configuration adding GPU\n",
    "\n",
    "import tensorflow as tf\n",
    "\n",
    "print(\"Num GPUs Available: \", len(tf.config.experimental.list_physical_devices('GPU')))\n"
   ]
  },
  {
   "cell_type": "code",
   "execution_count": 6,
   "metadata": {},
   "outputs": [
    {
     "name": "stdout",
     "output_type": "stream",
     "text": [
      "Setup Completed\n"
     ]
    }
   ],
   "source": [
    "# La Suite \n",
    "\n",
    "#Import the libraries\n",
    "import numpy as np\n",
    "import pandas as pd \n",
    "import plotly.express as px\n",
    "\n",
    "# Importing the Keras libraries and packages\n",
    "import keras\n",
    "from keras.models import Sequential\n",
    "from keras.layers import Dense\n",
    "from keras.layers import LeakyReLU,PReLU,ELU\n",
    "from keras.layers import Dropout\n",
    "from keras.wrappers.scikit_learn import KerasClassifier\n",
    "from sklearn.model_selection import cross_val_score\n",
    "from sklearn.model_selection import StratifiedKFold\n",
    "\n",
    "\n",
    "\n",
    "print(\"Setup Completed\")"
   ]
  },
  {
   "cell_type": "code",
   "execution_count": 18,
   "metadata": {},
   "outputs": [],
   "source": [
    "def create_model(): \n",
    "    model=Sequential() \n",
    "    h_layer1=Dense(units = 20, kernel_initializer = 'he_normal',activation='relu',input_dim = 11)\n",
    "    h_layer2=Dense(units = 15, kernel_initializer = 'he_normal',activation='relu') \n",
    "    output_layer=Dense(units = 1, kernel_initializer = 'glorot_uniform', activation = 'sigmoid')\n",
    "    model.add(h_layer1) \n",
    "    model.add(h_layer2) \n",
    "    model.add(output_layer) \n",
    "    model.compile(optimizer = 'Adam', loss = 'binary_crossentropy', metrics = ['accuracy']) \n",
    "    \n",
    "    return model\n",
    "\n"
   ]
  },
  {
   "cell_type": "code",
   "execution_count": 8,
   "metadata": {},
   "outputs": [],
   "source": [
    "# Création du modèle KerasClassifier\n",
    "model = KerasClassifier(build_fn=create_model, epochs=100, batch_size=10, verbose=0)\n",
    "\n"
   ]
  },
  {
   "cell_type": "code",
   "execution_count": 9,
   "metadata": {},
   "outputs": [],
   "source": [
    "# Définition de la validation croisée\n",
    "kfold = StratifiedKFold(n_splits=5, shuffle=True, random_state=42)"
   ]
  },
  {
   "cell_type": "code",
   "execution_count": 10,
   "metadata": {},
   "outputs": [],
   "source": [
    "from sklearn.preprocessing import StandardScaler\n",
    "from tqdm import tqdm\n",
    "# Évaluation du modèle avec cross_val_score\n",
    "dataset = pd.read_csv('Churn_Modelling.csv')\n",
    "X = dataset.iloc[:, 3:13]\n",
    "y = dataset.iloc[:, 13]\n",
    "geography=pd.get_dummies(X[\"Geography\"],drop_first=True)\n",
    "gender=pd.get_dummies(X['Gender'],drop_first=True)\n",
    "X=pd.concat([X,geography,gender],axis=1)\n",
    "X=X.drop(['Geography','Gender'],axis=1)\n",
    "\n",
    "\n",
    "# Mise à l'échelle des caractéristiques\n",
    "scaler = StandardScaler()\n",
    "X_scaled = scaler.fit_transform(X)\n",
    "\n",
    "results = cross_val_score(model, X, y, cv=kfold)\n"
   ]
  },
  {
   "cell_type": "code",
   "execution_count": 11,
   "metadata": {},
   "outputs": [
    {
     "name": "stdout",
     "output_type": "stream",
     "text": [
      "Accuracy moyenne : 78.50%\n",
      "Écart-type de l'accuracy : 2.03%\n"
     ]
    }
   ],
   "source": [
    "# Affichage des résultats\n",
    "print(\"Accuracy moyenne : %.2f%%\" % (results.mean() * 100))\n",
    "print(\"Écart-type de l'accuracy : %.2f%%\" % (results.std() * 100))\n"
   ]
  },
  {
   "cell_type": "code",
   "execution_count": 12,
   "metadata": {},
   "outputs": [
    {
     "name": "stdout",
     "output_type": "stream",
     "text": [
      "Variance faible.\n"
     ]
    }
   ],
   "source": [
    "# Interprétation des résultats\n",
    "if results.std() < 0.05:\n",
    "    print(\"Variance faible.\")\n",
    "else:\n",
    "    print(\"Variance élevée.\")"
   ]
  },
  {
   "cell_type": "code",
   "execution_count": 20,
   "metadata": {},
   "outputs": [
    {
     "name": "stdout",
     "output_type": "stream",
     "text": [
      "Best Parameters (100-200): {'batch_size': 30, 'epochs': 100}\n",
      "Best Score (100-200): 0.8571000000000002\n"
     ]
    }
   ],
   "source": [
    "from sklearn.model_selection import GridSearchCV\n",
    "\n",
    "# Create the KerasClassifier with the custom model function\n",
    "model = KerasClassifier(build_fn=create_model, batch_size=10, verbose=0)\n",
    "\n",
    "# Define the hyperparameters to search for the first range (100-200 epochs)\n",
    "parameters_100_200 = {'batch_size': [25, 30], 'epochs': [100, 200]}\n",
    "\n",
    "# Perform grid search for the first range\n",
    "grid_search_100_200 = GridSearchCV(estimator=model, param_grid=parameters_100_200, scoring='accuracy', cv=kfold)\n",
    "grid_result_100_200 = grid_search_100_200.fit(X_scaled, y)\n",
    "\n",
    "# Display the best parameters and best score for the first range\n",
    "best_params_100_200 = grid_result_100_200.best_params_\n",
    "best_score_100_200 = grid_result_100_200.best_score_\n",
    "print(\"Best Parameters (100-200):\", best_params_100_200)\n",
    "print(\"Best Score (100-200):\", best_score_100_200)\n"
   ]
  },
  {
   "cell_type": "code",
   "execution_count": null,
   "metadata": {},
   "outputs": [],
   "source": [
    "# Define the hyperparameters to search for the third range (300-400 epochs)\n",
    "parameters_300_400 = {'batch_size': [25, 30], 'epochs': [300, 400]}\n",
    "\n",
    "# Perform grid search for the third range\n",
    "grid_search_300_400 = GridSearchCV(estimator=model, param_grid=parameters_300_400, scoring='accuracy', cv=kfold)\n",
    "grid_result_300_400 = grid_search_300_400.fit(X_scaled, y)\n",
    "\n",
    "# Display the best parameters and best score for the third range\n",
    "best_params_300_400 = grid_result_300_400.best_params_\n",
    "best_score_300_400 = grid_result_300_400.best_score_\n",
    "print(\"Best Parameters (300-400):\", best_params_300_400)\n",
    "print(\"Best Score (300-400):\", best_score_300_400)\n"
   ]
  },
  {
   "cell_type": "code",
   "execution_count": null,
   "metadata": {},
   "outputs": [],
   "source": [
    "# Define the hyperparameters to search for the third range (400-500 epochs)\n",
    "parameters_400_500 = {'batch_size': [25, 30], 'epochs': [400, 500]}\n",
    "\n",
    "# Perform grid search for the third range\n",
    "grid_search_400_500 = GridSearchCV(estimator=model, param_grid=parameters_400_500, scoring='accuracy', cv=kfold)\n",
    "grid_result_400_500 = grid_search_400_500.fit(X_scaled, y)\n",
    "\n",
    "# Display the best parameters and best score for the third range\n",
    "best_params_400_500 = grid_result_400_500.best_params_\n",
    "best_score_400_500 = grid_result_400_500.best_score_\n",
    "print(\"Best Parameters (400-500):\", best_params_400_500)\n",
    "print(\"Best Score (400-500):\", best_score_400_500)\n"
   ]
  }
 ],
 "metadata": {
  "kernelspec": {
   "display_name": "chat",
   "language": "python",
   "name": "python3"
  },
  "language_info": {
   "codemirror_mode": {
    "name": "ipython",
    "version": 3
   },
   "file_extension": ".py",
   "mimetype": "text/x-python",
   "name": "python",
   "nbconvert_exporter": "python",
   "pygments_lexer": "ipython3",
   "version": "3.6.13"
  }
 },
 "nbformat": 4,
 "nbformat_minor": 2
}
