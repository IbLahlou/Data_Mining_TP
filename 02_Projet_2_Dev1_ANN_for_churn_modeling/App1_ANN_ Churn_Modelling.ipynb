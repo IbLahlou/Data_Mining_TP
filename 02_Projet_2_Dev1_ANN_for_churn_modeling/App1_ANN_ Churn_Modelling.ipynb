{
 "cells": [
  {
   "cell_type": "markdown",
   "metadata": {},
   "source": [
    "## Objectif\n",
    "\n",
    "Entraîner notre premier réseau neuronal pour prédire la résiliation de clients\n",
    "Dans ce notebook, notre objectif principal est d’acquérir une expérience pratique des réseaux neuronaux et de leur application à la résolution de problèmes réels. Nous travaillerons avec un ensemble de données de résiliation de clients, visant à comprendre les fondamentaux de la création et de l’entraînement d’un réseau neuronal pour la modélisation prédictive.\n",
    "\n",
    "### Objectifs clés :\n",
    "- Prétraiter et explorer l’ensemble de données de résiliation de clients.\n",
    "- Apprendre les bases de l’architecture des réseaux neuronaux.\n",
    "- Entraîner un modèle de réseau neuronal pour prédire la résiliation de clients.\n",
    "- Évaluer l’exactitude et les performances du modèle.\n",
    "- Prédire si le client suivant va abandonner ou non la banque "
   ]
  },
  {
   "cell_type": "code",
   "execution_count": 3,
   "metadata": {},
   "outputs": [
    {
     "data": {
      "text/plain": [
       "'c:\\\\Users\\\\P52s\\\\Documents\\\\Obsidian\\\\Semestre 1 IDSCC5\\\\5eme année\\\\Data mining\\\\TPs\\\\data'"
      ]
     },
     "execution_count": 3,
     "metadata": {},
     "output_type": "execute_result"
    }
   ],
   "source": [
    "# Execute this just once or restart the kernel to avoid errors\n",
    "import os \n",
    "\n",
    "os.chdir(\"../data\")\n",
    "%pwd"
   ]
  },
  {
   "cell_type": "code",
   "execution_count": 4,
   "metadata": {},
   "outputs": [
    {
     "name": "stdout",
     "output_type": "stream",
     "text": [
      "Setup Completed\n"
     ]
    }
   ],
   "source": [
    "#Import the libraries\n",
    "import numpy as np\n",
    "import pandas as pd \n",
    "\n",
    "# Importing the Keras libraries and packages\n",
    "import keras\n",
    "from keras.models import Sequential\n",
    "from keras.layers import Dense\n",
    "from keras.layers import LeakyReLU,PReLU,ELU\n",
    "from keras.layers import Dropout\n",
    "\n",
    "import seaborn as sns\n",
    "import matplotlib.pyplot as plt\n",
    "\n",
    "print(\"Setup Completed\")"
   ]
  },
  {
   "cell_type": "markdown",
   "metadata": {},
   "source": [
    "1. Préparer le dataset \n",
    "\n",
    "- Data Importation\n",
    "- Data Cleaning\n",
    "- Data Visualization\n",
    "- Feature Engineering\n",
    "- Data Preparation and Preprocessing "
   ]
  },
  {
   "cell_type": "code",
   "execution_count": 5,
   "metadata": {},
   "outputs": [
    {
     "data": {
      "text/html": [
       "<div>\n",
       "<style scoped>\n",
       "    .dataframe tbody tr th:only-of-type {\n",
       "        vertical-align: middle;\n",
       "    }\n",
       "\n",
       "    .dataframe tbody tr th {\n",
       "        vertical-align: top;\n",
       "    }\n",
       "\n",
       "    .dataframe thead th {\n",
       "        text-align: right;\n",
       "    }\n",
       "</style>\n",
       "<table border=\"1\" class=\"dataframe\">\n",
       "  <thead>\n",
       "    <tr style=\"text-align: right;\">\n",
       "      <th></th>\n",
       "      <th>RowNumber</th>\n",
       "      <th>CustomerId</th>\n",
       "      <th>Surname</th>\n",
       "      <th>CreditScore</th>\n",
       "      <th>Geography</th>\n",
       "      <th>Gender</th>\n",
       "      <th>Age</th>\n",
       "      <th>Tenure</th>\n",
       "      <th>Balance</th>\n",
       "      <th>NumOfProducts</th>\n",
       "      <th>HasCrCard</th>\n",
       "      <th>IsActiveMember</th>\n",
       "      <th>EstimatedSalary</th>\n",
       "      <th>Exited</th>\n",
       "    </tr>\n",
       "  </thead>\n",
       "  <tbody>\n",
       "    <tr>\n",
       "      <th>0</th>\n",
       "      <td>1</td>\n",
       "      <td>15634602</td>\n",
       "      <td>Hargrave</td>\n",
       "      <td>619</td>\n",
       "      <td>France</td>\n",
       "      <td>Female</td>\n",
       "      <td>42</td>\n",
       "      <td>2</td>\n",
       "      <td>0.00</td>\n",
       "      <td>1</td>\n",
       "      <td>1</td>\n",
       "      <td>1</td>\n",
       "      <td>101348.88</td>\n",
       "      <td>1</td>\n",
       "    </tr>\n",
       "    <tr>\n",
       "      <th>1</th>\n",
       "      <td>2</td>\n",
       "      <td>15647311</td>\n",
       "      <td>Hill</td>\n",
       "      <td>608</td>\n",
       "      <td>Spain</td>\n",
       "      <td>Female</td>\n",
       "      <td>41</td>\n",
       "      <td>1</td>\n",
       "      <td>83807.86</td>\n",
       "      <td>1</td>\n",
       "      <td>0</td>\n",
       "      <td>1</td>\n",
       "      <td>112542.58</td>\n",
       "      <td>0</td>\n",
       "    </tr>\n",
       "    <tr>\n",
       "      <th>2</th>\n",
       "      <td>3</td>\n",
       "      <td>15619304</td>\n",
       "      <td>Onio</td>\n",
       "      <td>502</td>\n",
       "      <td>France</td>\n",
       "      <td>Female</td>\n",
       "      <td>42</td>\n",
       "      <td>8</td>\n",
       "      <td>159660.80</td>\n",
       "      <td>3</td>\n",
       "      <td>1</td>\n",
       "      <td>0</td>\n",
       "      <td>113931.57</td>\n",
       "      <td>1</td>\n",
       "    </tr>\n",
       "    <tr>\n",
       "      <th>3</th>\n",
       "      <td>4</td>\n",
       "      <td>15701354</td>\n",
       "      <td>Boni</td>\n",
       "      <td>699</td>\n",
       "      <td>France</td>\n",
       "      <td>Female</td>\n",
       "      <td>39</td>\n",
       "      <td>1</td>\n",
       "      <td>0.00</td>\n",
       "      <td>2</td>\n",
       "      <td>0</td>\n",
       "      <td>0</td>\n",
       "      <td>93826.63</td>\n",
       "      <td>0</td>\n",
       "    </tr>\n",
       "    <tr>\n",
       "      <th>4</th>\n",
       "      <td>5</td>\n",
       "      <td>15737888</td>\n",
       "      <td>Mitchell</td>\n",
       "      <td>850</td>\n",
       "      <td>Spain</td>\n",
       "      <td>Female</td>\n",
       "      <td>43</td>\n",
       "      <td>2</td>\n",
       "      <td>125510.82</td>\n",
       "      <td>1</td>\n",
       "      <td>1</td>\n",
       "      <td>1</td>\n",
       "      <td>79084.10</td>\n",
       "      <td>0</td>\n",
       "    </tr>\n",
       "  </tbody>\n",
       "</table>\n",
       "</div>"
      ],
      "text/plain": [
       "   RowNumber  CustomerId   Surname  CreditScore Geography  Gender  Age  \\\n",
       "0          1    15634602  Hargrave          619    France  Female   42   \n",
       "1          2    15647311      Hill          608     Spain  Female   41   \n",
       "2          3    15619304      Onio          502    France  Female   42   \n",
       "3          4    15701354      Boni          699    France  Female   39   \n",
       "4          5    15737888  Mitchell          850     Spain  Female   43   \n",
       "\n",
       "   Tenure    Balance  NumOfProducts  HasCrCard  IsActiveMember  \\\n",
       "0       2       0.00              1          1               1   \n",
       "1       1   83807.86              1          0               1   \n",
       "2       8  159660.80              3          1               0   \n",
       "3       1       0.00              2          0               0   \n",
       "4       2  125510.82              1          1               1   \n",
       "\n",
       "   EstimatedSalary  Exited  \n",
       "0        101348.88       1  \n",
       "1        112542.58       0  \n",
       "2        113931.57       1  \n",
       "3         93826.63       0  \n",
       "4         79084.10       0  "
      ]
     },
     "execution_count": 5,
     "metadata": {},
     "output_type": "execute_result"
    }
   ],
   "source": [
    "# Data Imporataion\n",
    "dataset = pd.read_csv('Churn_Modelling.csv')\n",
    "dataset.head()"
   ]
  },
  {
   "cell_type": "code",
   "execution_count": 6,
   "metadata": {},
   "outputs": [
    {
     "data": {
      "text/plain": [
       "RowNumber          0\n",
       "CustomerId         0\n",
       "Surname            0\n",
       "CreditScore        0\n",
       "Geography          0\n",
       "Gender             0\n",
       "Age                0\n",
       "Tenure             0\n",
       "Balance            0\n",
       "NumOfProducts      0\n",
       "HasCrCard          0\n",
       "IsActiveMember     0\n",
       "EstimatedSalary    0\n",
       "Exited             0\n",
       "dtype: int64"
      ]
     },
     "execution_count": 6,
     "metadata": {},
     "output_type": "execute_result"
    }
   ],
   "source": [
    "# Data Cleaning\n",
    "\n",
    "dataset.isnull().sum()"
   ]
  },
  {
   "cell_type": "code",
   "execution_count": 7,
   "metadata": {},
   "outputs": [
    {
     "data": {
      "text/plain": [
       "RowNumber            int64\n",
       "CustomerId           int64\n",
       "Surname             object\n",
       "CreditScore          int64\n",
       "Geography           object\n",
       "Gender              object\n",
       "Age                  int64\n",
       "Tenure               int64\n",
       "Balance            float64\n",
       "NumOfProducts        int64\n",
       "HasCrCard            int64\n",
       "IsActiveMember       int64\n",
       "EstimatedSalary    float64\n",
       "Exited               int64\n",
       "dtype: object"
      ]
     },
     "execution_count": 7,
     "metadata": {},
     "output_type": "execute_result"
    }
   ],
   "source": [
    "X = dataset.iloc[:, 3:13]\n",
    "y = dataset.iloc[:, 13]\n",
    "\n",
    "# Data Visualization For Categorical Data\n",
    "\n",
    "\n",
    "dataset.dtypes"
   ]
  },
  {
   "cell_type": "code",
   "execution_count": 8,
   "metadata": {},
   "outputs": [
    {
     "name": "stdout",
     "output_type": "stream",
     "text": [
      "0    7963\n",
      "1    2037\n",
      "Name: Exited, dtype: int64\n"
     ]
    },
    {
     "name": "stderr",
     "output_type": "stream",
     "text": [
      "c:\\Users\\P52s\\.conda\\envs\\chat\\lib\\site-packages\\seaborn\\_decorators.py:43: FutureWarning: Pass the following variable as a keyword arg: x. From version 0.12, the only valid positional argument will be `data`, and passing other arguments without an explicit keyword will result in an error or misinterpretation.\n",
      "  FutureWarning\n"
     ]
    },
    {
     "data": {
      "image/png": "[encoded data removed]",
      "text/plain": [
       "<Figure size 432x288 with 1 Axes>"
      ]
     },
     "metadata": {
      "needs_background": "light"
     },
     "output_type": "display_data"
    }
   ],
   "source": [
    "print(dataset.Exited.value_counts())\n",
    "sns.countplot(dataset[\"Exited\"]);"
   ]
  },
  {
   "cell_type": "code",
   "execution_count": 9,
   "metadata": {},
   "outputs": [
    {
     "data": {
      "image/png": "[encoded data removed]",
      "text/plain": [
       "<Figure size 1080x864 with 12 Axes>"
      ]
     },
     "metadata": {
      "needs_background": "light"
     },
     "output_type": "display_data"
    }
   ],
   "source": [
    "dataset.hist(figsize=(15, 12), bins=15);"
   ]
  },
  {
   "cell_type": "code",
   "execution_count": 10,
   "metadata": {},
   "outputs": [
    {
     "data": {
      "image/png": "[encoded data removed]",
      "text/plain": [
       "<Figure size 1152x864 with 4 Axes>"
      ]
     },
     "metadata": {
      "needs_background": "light"
     },
     "output_type": "display_data"
    }
   ],
   "source": [
    "cat_list = [\"Gender\", \"HasCrCard\", \"IsActiveMember\", \"Geography\"]\n",
    "index = 0\n",
    "plt.figure(figsize=(16, 12))\n",
    "for i in cat_list:\n",
    "    index += 1\n",
    "    plt.subplot(2, 2, index)\n",
    "    sns.countplot(data=dataset, x=i, hue=\"Exited\")"
   ]
  },
  {
   "cell_type": "code",
   "execution_count": 11,
   "metadata": {},
   "outputs": [
    {
     "name": "stderr",
     "output_type": "stream",
     "text": [
      "c:\\Users\\P52s\\.conda\\envs\\chat\\lib\\site-packages\\seaborn\\_decorators.py:43: FutureWarning: Pass the following variable as a keyword arg: x. From version 0.12, the only valid positional argument will be `data`, and passing other arguments without an explicit keyword will result in an error or misinterpretation.\n",
      "  FutureWarning\n"
     ]
    },
    {
     "data": {
      "image/png": "[encoded data removed]",
      "text/plain": [
       "<Figure size 1440x504 with 1 Axes>"
      ]
     },
     "metadata": {
      "needs_background": "light"
     },
     "output_type": "display_data"
    }
   ],
   "source": [
    "plt.figure(figsize=(20, 7))\n",
    "sns.countplot(dataset.Age, hue=dataset.Exited);"
   ]
  },
  {
   "cell_type": "code",
   "execution_count": 12,
   "metadata": {},
   "outputs": [
    {
     "data": {
      "image/png": "[encoded data removed]",
      "text/plain": [
       "<Figure size 432x288 with 1 Axes>"
      ]
     },
     "metadata": {
      "needs_background": "light"
     },
     "output_type": "display_data"
    }
   ],
   "source": [
    "dataset.corr()['Exited'][:-1].sort_values().plot.barh();"
   ]
  },
  {
   "cell_type": "code",
   "execution_count": 13,
   "metadata": {},
   "outputs": [
    {
     "data": {
      "text/html": [
       "<div>\n",
       "<style scoped>\n",
       "    .dataframe tbody tr th:only-of-type {\n",
       "        vertical-align: middle;\n",
       "    }\n",
       "\n",
       "    .dataframe tbody tr th {\n",
       "        vertical-align: top;\n",
       "    }\n",
       "\n",
       "    .dataframe thead th {\n",
       "        text-align: right;\n",
       "    }\n",
       "</style>\n",
       "<table border=\"1\" class=\"dataframe\">\n",
       "  <thead>\n",
       "    <tr style=\"text-align: right;\">\n",
       "      <th></th>\n",
       "      <th>CreditScore</th>\n",
       "      <th>Age</th>\n",
       "      <th>Tenure</th>\n",
       "      <th>Balance</th>\n",
       "      <th>NumOfProducts</th>\n",
       "      <th>HasCrCard</th>\n",
       "      <th>IsActiveMember</th>\n",
       "      <th>EstimatedSalary</th>\n",
       "      <th>Germany</th>\n",
       "      <th>Spain</th>\n",
       "      <th>Male</th>\n",
       "    </tr>\n",
       "  </thead>\n",
       "  <tbody>\n",
       "    <tr>\n",
       "      <th>0</th>\n",
       "      <td>619</td>\n",
       "      <td>42</td>\n",
       "      <td>2</td>\n",
       "      <td>0.00</td>\n",
       "      <td>1</td>\n",
       "      <td>1</td>\n",
       "      <td>1</td>\n",
       "      <td>101348.88</td>\n",
       "      <td>0</td>\n",
       "      <td>0</td>\n",
       "      <td>0</td>\n",
       "    </tr>\n",
       "    <tr>\n",
       "      <th>1</th>\n",
       "      <td>608</td>\n",
       "      <td>41</td>\n",
       "      <td>1</td>\n",
       "      <td>83807.86</td>\n",
       "      <td>1</td>\n",
       "      <td>0</td>\n",
       "      <td>1</td>\n",
       "      <td>112542.58</td>\n",
       "      <td>0</td>\n",
       "      <td>1</td>\n",
       "      <td>0</td>\n",
       "    </tr>\n",
       "    <tr>\n",
       "      <th>2</th>\n",
       "      <td>502</td>\n",
       "      <td>42</td>\n",
       "      <td>8</td>\n",
       "      <td>159660.80</td>\n",
       "      <td>3</td>\n",
       "      <td>1</td>\n",
       "      <td>0</td>\n",
       "      <td>113931.57</td>\n",
       "      <td>0</td>\n",
       "      <td>0</td>\n",
       "      <td>0</td>\n",
       "    </tr>\n",
       "    <tr>\n",
       "      <th>3</th>\n",
       "      <td>699</td>\n",
       "      <td>39</td>\n",
       "      <td>1</td>\n",
       "      <td>0.00</td>\n",
       "      <td>2</td>\n",
       "      <td>0</td>\n",
       "      <td>0</td>\n",
       "      <td>93826.63</td>\n",
       "      <td>0</td>\n",
       "      <td>0</td>\n",
       "      <td>0</td>\n",
       "    </tr>\n",
       "    <tr>\n",
       "      <th>4</th>\n",
       "      <td>850</td>\n",
       "      <td>43</td>\n",
       "      <td>2</td>\n",
       "      <td>125510.82</td>\n",
       "      <td>1</td>\n",
       "      <td>1</td>\n",
       "      <td>1</td>\n",
       "      <td>79084.10</td>\n",
       "      <td>0</td>\n",
       "      <td>1</td>\n",
       "      <td>0</td>\n",
       "    </tr>\n",
       "    <tr>\n",
       "      <th>...</th>\n",
       "      <td>...</td>\n",
       "      <td>...</td>\n",
       "      <td>...</td>\n",
       "      <td>...</td>\n",
       "      <td>...</td>\n",
       "      <td>...</td>\n",
       "      <td>...</td>\n",
       "      <td>...</td>\n",
       "      <td>...</td>\n",
       "      <td>...</td>\n",
       "      <td>...</td>\n",
       "    </tr>\n",
       "    <tr>\n",
       "      <th>9995</th>\n",
       "      <td>771</td>\n",
       "      <td>39</td>\n",
       "      <td>5</td>\n",
       "      <td>0.00</td>\n",
       "      <td>2</td>\n",
       "      <td>1</td>\n",
       "      <td>0</td>\n",
       "      <td>96270.64</td>\n",
       "      <td>0</td>\n",
       "      <td>0</td>\n",
       "      <td>1</td>\n",
       "    </tr>\n",
       "    <tr>\n",
       "      <th>9996</th>\n",
       "      <td>516</td>\n",
       "      <td>35</td>\n",
       "      <td>10</td>\n",
       "      <td>57369.61</td>\n",
       "      <td>1</td>\n",
       "      <td>1</td>\n",
       "      <td>1</td>\n",
       "      <td>101699.77</td>\n",
       "      <td>0</td>\n",
       "      <td>0</td>\n",
       "      <td>1</td>\n",
       "    </tr>\n",
       "    <tr>\n",
       "      <th>9997</th>\n",
       "      <td>709</td>\n",
       "      <td>36</td>\n",
       "      <td>7</td>\n",
       "      <td>0.00</td>\n",
       "      <td>1</td>\n",
       "      <td>0</td>\n",
       "      <td>1</td>\n",
       "      <td>42085.58</td>\n",
       "      <td>0</td>\n",
       "      <td>0</td>\n",
       "      <td>0</td>\n",
       "    </tr>\n",
       "    <tr>\n",
       "      <th>9998</th>\n",
       "      <td>772</td>\n",
       "      <td>42</td>\n",
       "      <td>3</td>\n",
       "      <td>75075.31</td>\n",
       "      <td>2</td>\n",
       "      <td>1</td>\n",
       "      <td>0</td>\n",
       "      <td>92888.52</td>\n",
       "      <td>1</td>\n",
       "      <td>0</td>\n",
       "      <td>1</td>\n",
       "    </tr>\n",
       "    <tr>\n",
       "      <th>9999</th>\n",
       "      <td>792</td>\n",
       "      <td>28</td>\n",
       "      <td>4</td>\n",
       "      <td>130142.79</td>\n",
       "      <td>1</td>\n",
       "      <td>1</td>\n",
       "      <td>0</td>\n",
       "      <td>38190.78</td>\n",
       "      <td>0</td>\n",
       "      <td>0</td>\n",
       "      <td>0</td>\n",
       "    </tr>\n",
       "  </tbody>\n",
       "</table>\n",
       "<p>10000 rows × 11 columns</p>\n",
       "</div>"
      ],
      "text/plain": [
       "      CreditScore  Age  Tenure    Balance  NumOfProducts  HasCrCard  \\\n",
       "0             619   42       2       0.00              1          1   \n",
       "1             608   41       1   83807.86              1          0   \n",
       "2             502   42       8  159660.80              3          1   \n",
       "3             699   39       1       0.00              2          0   \n",
       "4             850   43       2  125510.82              1          1   \n",
       "...           ...  ...     ...        ...            ...        ...   \n",
       "9995          771   39       5       0.00              2          1   \n",
       "9996          516   35      10   57369.61              1          1   \n",
       "9997          709   36       7       0.00              1          0   \n",
       "9998          772   42       3   75075.31              2          1   \n",
       "9999          792   28       4  130142.79              1          1   \n",
       "\n",
       "      IsActiveMember  EstimatedSalary  Germany  Spain  Male  \n",
       "0                  1        101348.88        0      0     0  \n",
       "1                  1        112542.58        0      1     0  \n",
       "2                  0        113931.57        0      0     0  \n",
       "3                  0         93826.63        0      0     0  \n",
       "4                  1         79084.10        0      1     0  \n",
       "...              ...              ...      ...    ...   ...  \n",
       "9995               0         96270.64        0      0     1  \n",
       "9996               1        101699.77        0      0     1  \n",
       "9997               1         42085.58        0      0     0  \n",
       "9998               0         92888.52        1      0     1  \n",
       "9999               0         38190.78        0      0     0  \n",
       "\n",
       "[10000 rows x 11 columns]"
      ]
     },
     "execution_count": 13,
     "metadata": {},
     "output_type": "execute_result"
    }
   ],
   "source": [
    "# Feature Engineering\n",
    "\n",
    "### Create dummy variables\n",
    "geography=pd.get_dummies(X[\"Geography\"],drop_first=True)\n",
    "gender=pd.get_dummies(X['Gender'],drop_first=True)\n",
    "\n",
    "## Concatenate the Data Frames\n",
    "X=pd.concat([X,geography,gender],axis=1)\n",
    "\n",
    "## Drop Unnecessary columns\n",
    "X=X.drop(['Geography','Gender'],axis=1)\n",
    "\n",
    "\n",
    "X"
   ]
  },
  {
   "cell_type": "code",
   "execution_count": 16,
   "metadata": {},
   "outputs": [],
   "source": [
    "X.to_csv(\"Phurn_data_modeling_Features.csv\", index=False)\n",
    "\n",
    "y.to_csv(\"Phurn_data_modeling_target.csv\", index=False)"
   ]
  },
  {
   "cell_type": "code",
   "execution_count": null,
   "metadata": {},
   "outputs": [
    {
     "data": {
      "text/plain": [
       "array([[ 0.16958176, -0.46460796,  0.00666099, ..., -0.5698444 ,\n",
       "         1.74309049, -1.09168714],\n",
       "       [-2.30455945,  0.30102557, -1.37744033, ...,  1.75486502,\n",
       "        -0.57369368,  0.91601335],\n",
       "       [-1.19119591, -0.94312892, -1.031415  , ..., -0.5698444 ,\n",
       "        -0.57369368, -1.09168714],\n",
       "       ...,\n",
       "       [ 0.9015152 , -0.36890377,  0.00666099, ..., -0.5698444 ,\n",
       "        -0.57369368,  0.91601335],\n",
       "       [-0.62420521, -0.08179119,  1.39076231, ..., -0.5698444 ,\n",
       "         1.74309049, -1.09168714],\n",
       "       [-0.28401079,  0.87525072, -1.37744033, ...,  1.75486502,\n",
       "        -0.57369368, -1.09168714]])"
      ]
     },
     "execution_count": 12,
     "metadata": {},
     "output_type": "execute_result"
    }
   ],
   "source": [
    "# Data Preparation and Preprocessing\n",
    "\n",
    "# Splitting the dataset into the Training set and Test set\n",
    "from sklearn.model_selection import train_test_split\n",
    "X_train, X_test, y_train, y_test = train_test_split(X, y, test_size = 0.2, random_state = 0)\n",
    "\n",
    "# Feature Scaling\n",
    "from sklearn.preprocessing import StandardScaler\n",
    "sc = StandardScaler()\n",
    "X_train = sc.fit_transform(X_train)\n",
    "X_test = sc.transform(X_test)\n",
    "\n",
    "X_train"
   ]
  },
  {
   "cell_type": "markdown",
   "metadata": {},
   "source": [
    "2. Créer le réseau de neurone adéquat\n",
    "\n",
    "Sans Dropout et des initialisateurs "
   ]
  },
  {
   "cell_type": "code",
   "execution_count": 50,
   "metadata": {},
   "outputs": [],
   "source": [
    "# Initialising the ANN\n",
    "classifier1 = Sequential()"
   ]
  },
  {
   "cell_type": "code",
   "execution_count": 51,
   "metadata": {},
   "outputs": [],
   "source": [
    "# Adding the input layer and the first hidden layer\n",
    "classifier1.add(Dense(units = 7,activation='relu',input_dim = 11))\n"
   ]
  },
  {
   "cell_type": "code",
   "execution_count": 52,
   "metadata": {},
   "outputs": [],
   "source": [
    "#2nd layer\n",
    "classifier1.add(Dense(units = 3,activation='relu'))\n"
   ]
  },
  {
   "cell_type": "code",
   "execution_count": 53,
   "metadata": {},
   "outputs": [],
   "source": [
    "# Adding the output layer\n",
    "classifier1.add(Dense(units = 1, activation = 'sigmoid'))"
   ]
  },
  {
   "cell_type": "markdown",
   "metadata": {},
   "source": [
    "Avec Dropout"
   ]
  },
  {
   "cell_type": "code",
   "execution_count": 54,
   "metadata": {},
   "outputs": [],
   "source": [
    "# Initialising the ANN\n",
    "classifier2 = Sequential()"
   ]
  },
  {
   "cell_type": "code",
   "execution_count": 55,
   "metadata": {},
   "outputs": [],
   "source": [
    "# Adding the input layer and the first hidden layer\n",
    "classifier2.add(Dense(units = 20, kernel_initializer = 'he_normal',activation='relu',input_dim = 11))\n",
    "classifier2.add(Dropout(0.4))"
   ]
  },
  {
   "cell_type": "code",
   "execution_count": 56,
   "metadata": {},
   "outputs": [],
   "source": [
    "#2nd layer\n",
    "classifier2.add(Dense(units = 15, kernel_initializer = 'he_normal',activation='relu'))\n",
    "classifier2.add(Dropout(0.4))"
   ]
  },
  {
   "cell_type": "code",
   "execution_count": 57,
   "metadata": {},
   "outputs": [],
   "source": [
    "# Adding the output layer\n",
    "classifier2.add(Dense(units = 1, kernel_initializer = 'glorot_uniform', activation = 'sigmoid'))"
   ]
  },
  {
   "cell_type": "markdown",
   "metadata": {},
   "source": [
    "3. Compiler le réseau de neurones en suivant les pratiques qu’il faut \n",
    "\n",
    "- Optimiser Choisie : Adam\n",
    "\n",
    "\n",
    " **Réponse 3  :** The Adam optimizer is a first-order gradient-based optimization method that is capable of adjusting the learning rate based on data characteristics, making it well-suited to learn time-variant processes such as speech data with dynamically changing noise conditions ¹. \n",
    "\n",
    "\n",
    "- Loss Function : Binary Cross Entropy\n",
    "\n",
    "\n",
    " **Réponse 2 :**  la fonction de perte binary_crossentropy est appropriée pour les problèmes de classification binaire, comme celui de la prédiction de résiliation de clients. Elle mesure la divergence entre les distributions de probabilité réelles et prédites, favorisant une convergence efficace du modèle dans le contexte de la classification binaire.\n",
    "\n",
    "\n"
   ]
  },
  {
   "cell_type": "code",
   "execution_count": 58,
   "metadata": {},
   "outputs": [],
   "source": [
    "#Compiling the ANN\n",
    "classifier1.compile(optimizer = 'adam', loss = 'binary_crossentropy', metrics = ['accuracy'])"
   ]
  },
  {
   "cell_type": "code",
   "execution_count": 59,
   "metadata": {},
   "outputs": [
    {
     "name": "stdout",
     "output_type": "stream",
     "text": [
      "Epoch 1/100\n",
      "536/536 [==============================] - 5s 6ms/step - loss: 0.4980 - accuracy: 0.7962 - val_loss: 0.4748 - val_accuracy: 0.7955\n",
      "Epoch 2/100\n",
      "536/536 [==============================] - 3s 5ms/step - loss: 0.4459 - accuracy: 0.7962 - val_loss: 0.4460 - val_accuracy: 0.7955\n",
      "Epoch 3/100\n",
      "536/536 [==============================] - 2s 4ms/step - loss: 0.4297 - accuracy: 0.7962 - val_loss: 0.4354 - val_accuracy: 0.7955\n",
      "Epoch 4/100\n",
      "536/536 [==============================] - 3s 5ms/step - loss: 0.4234 - accuracy: 0.8001 - val_loss: 0.4312 - val_accuracy: 0.8133\n",
      "Epoch 5/100\n",
      "536/536 [==============================] - 3s 6ms/step - loss: 0.4198 - accuracy: 0.8184 - val_loss: 0.4279 - val_accuracy: 0.8183\n",
      "Epoch 6/100\n",
      "536/536 [==============================] - 3s 5ms/step - loss: 0.4169 - accuracy: 0.8214 - val_loss: 0.4253 - val_accuracy: 0.8220\n",
      "Epoch 7/100\n",
      "536/536 [==============================] - 3s 5ms/step - loss: 0.4148 - accuracy: 0.8248 - val_loss: 0.4231 - val_accuracy: 0.8262\n",
      "Epoch 8/100\n",
      "536/536 [==============================] - 3s 5ms/step - loss: 0.4126 - accuracy: 0.8263 - val_loss: 0.4200 - val_accuracy: 0.8285\n",
      "Epoch 9/100\n",
      "536/536 [==============================] - 3s 5ms/step - loss: 0.4097 - accuracy: 0.8298 - val_loss: 0.4168 - val_accuracy: 0.8349\n",
      "Epoch 10/100\n",
      "536/536 [==============================] - 2s 4ms/step - loss: 0.4063 - accuracy: 0.8304 - val_loss: 0.4145 - val_accuracy: 0.8349\n",
      "Epoch 11/100\n",
      "536/536 [==============================] - 2s 4ms/step - loss: 0.4034 - accuracy: 0.8337 - val_loss: 0.4134 - val_accuracy: 0.8307\n",
      "Epoch 12/100\n",
      "536/536 [==============================] - 3s 6ms/step - loss: 0.4009 - accuracy: 0.8380 - val_loss: 0.4116 - val_accuracy: 0.8300\n",
      "Epoch 13/100\n",
      "536/536 [==============================] - 3s 6ms/step - loss: 0.3988 - accuracy: 0.8375 - val_loss: 0.4113 - val_accuracy: 0.8311\n",
      "Epoch 14/100\n",
      "536/536 [==============================] - 2s 4ms/step - loss: 0.3972 - accuracy: 0.8388 - val_loss: 0.4100 - val_accuracy: 0.8292\n",
      "Epoch 15/100\n",
      "536/536 [==============================] - 3s 5ms/step - loss: 0.3958 - accuracy: 0.8386 - val_loss: 0.4096 - val_accuracy: 0.8304\n",
      "Epoch 16/100\n",
      "536/536 [==============================] - 3s 6ms/step - loss: 0.3946 - accuracy: 0.8386 - val_loss: 0.4077 - val_accuracy: 0.8292\n",
      "Epoch 17/100\n",
      "536/536 [==============================] - 3s 5ms/step - loss: 0.3934 - accuracy: 0.8401 - val_loss: 0.4070 - val_accuracy: 0.8304\n",
      "Epoch 18/100\n",
      "536/536 [==============================] - 2s 4ms/step - loss: 0.3926 - accuracy: 0.8401 - val_loss: 0.4063 - val_accuracy: 0.8315\n",
      "Epoch 19/100\n",
      "536/536 [==============================] - 3s 5ms/step - loss: 0.3913 - accuracy: 0.8397 - val_loss: 0.4061 - val_accuracy: 0.8326\n",
      "Epoch 20/100\n",
      "536/536 [==============================] - 3s 6ms/step - loss: 0.3906 - accuracy: 0.8401 - val_loss: 0.4044 - val_accuracy: 0.8353\n",
      "Epoch 21/100\n",
      "536/536 [==============================] - 3s 5ms/step - loss: 0.3893 - accuracy: 0.8397 - val_loss: 0.4039 - val_accuracy: 0.8349\n",
      "Epoch 22/100\n",
      "536/536 [==============================] - 3s 6ms/step - loss: 0.3881 - accuracy: 0.8399 - val_loss: 0.4014 - val_accuracy: 0.8353\n",
      "Epoch 23/100\n",
      "536/536 [==============================] - 3s 6ms/step - loss: 0.3866 - accuracy: 0.8433 - val_loss: 0.3993 - val_accuracy: 0.8353\n",
      "Epoch 24/100\n",
      "536/536 [==============================] - 3s 5ms/step - loss: 0.3853 - accuracy: 0.8406 - val_loss: 0.3986 - val_accuracy: 0.8349\n",
      "Epoch 25/100\n",
      "536/536 [==============================] - 2s 5ms/step - loss: 0.3840 - accuracy: 0.8429 - val_loss: 0.3974 - val_accuracy: 0.8383\n",
      "Epoch 26/100\n",
      "536/536 [==============================] - 3s 5ms/step - loss: 0.3827 - accuracy: 0.8425 - val_loss: 0.3958 - val_accuracy: 0.8379\n",
      "Epoch 27/100\n",
      "536/536 [==============================] - 3s 6ms/step - loss: 0.3812 - accuracy: 0.8438 - val_loss: 0.3948 - val_accuracy: 0.8376\n",
      "Epoch 28/100\n",
      "536/536 [==============================] - 2s 5ms/step - loss: 0.3800 - accuracy: 0.8449 - val_loss: 0.3942 - val_accuracy: 0.8391\n",
      "Epoch 29/100\n",
      "536/536 [==============================] - 3s 5ms/step - loss: 0.3787 - accuracy: 0.8453 - val_loss: 0.3938 - val_accuracy: 0.8368\n",
      "Epoch 30/100\n",
      "536/536 [==============================] - 3s 6ms/step - loss: 0.3781 - accuracy: 0.8446 - val_loss: 0.3925 - val_accuracy: 0.8391\n",
      "Epoch 31/100\n",
      "536/536 [==============================] - 3s 6ms/step - loss: 0.3769 - accuracy: 0.8451 - val_loss: 0.3931 - val_accuracy: 0.8364\n",
      "Epoch 32/100\n",
      "536/536 [==============================] - 3s 5ms/step - loss: 0.3766 - accuracy: 0.8453 - val_loss: 0.3921 - val_accuracy: 0.8368\n",
      "Epoch 33/100\n",
      "536/536 [==============================] - 3s 5ms/step - loss: 0.3764 - accuracy: 0.8447 - val_loss: 0.3905 - val_accuracy: 0.8391\n",
      "Epoch 34/100\n",
      "536/536 [==============================] - 3s 6ms/step - loss: 0.3752 - accuracy: 0.8470 - val_loss: 0.3902 - val_accuracy: 0.8387\n",
      "Epoch 35/100\n",
      "536/536 [==============================] - 3s 5ms/step - loss: 0.3744 - accuracy: 0.8455 - val_loss: 0.3904 - val_accuracy: 0.8395\n",
      "Epoch 36/100\n",
      "536/536 [==============================] - 2s 4ms/step - loss: 0.3730 - accuracy: 0.8470 - val_loss: 0.3895 - val_accuracy: 0.8391\n",
      "Epoch 37/100\n",
      "536/536 [==============================] - 3s 5ms/step - loss: 0.3729 - accuracy: 0.8457 - val_loss: 0.3897 - val_accuracy: 0.8387\n",
      "Epoch 38/100\n",
      "536/536 [==============================] - 3s 6ms/step - loss: 0.3728 - accuracy: 0.8462 - val_loss: 0.3889 - val_accuracy: 0.8383\n",
      "Epoch 39/100\n",
      "536/536 [==============================] - 3s 5ms/step - loss: 0.3716 - accuracy: 0.8453 - val_loss: 0.3887 - val_accuracy: 0.8376\n",
      "Epoch 40/100\n",
      "536/536 [==============================] - 2s 4ms/step - loss: 0.3708 - accuracy: 0.8459 - val_loss: 0.3893 - val_accuracy: 0.8357\n",
      "Epoch 41/100\n",
      "536/536 [==============================] - 3s 5ms/step - loss: 0.3708 - accuracy: 0.8436 - val_loss: 0.3894 - val_accuracy: 0.8376\n",
      "Epoch 42/100\n",
      "536/536 [==============================] - 3s 6ms/step - loss: 0.3709 - accuracy: 0.8449 - val_loss: 0.3883 - val_accuracy: 0.8357\n",
      "Epoch 43/100\n",
      "536/536 [==============================] - 3s 5ms/step - loss: 0.3697 - accuracy: 0.8457 - val_loss: 0.3879 - val_accuracy: 0.8379\n",
      "Epoch 44/100\n",
      "536/536 [==============================] - 3s 6ms/step - loss: 0.3699 - accuracy: 0.8453 - val_loss: 0.3904 - val_accuracy: 0.8357\n",
      "Epoch 45/100\n",
      "536/536 [==============================] - 3s 6ms/step - loss: 0.3694 - accuracy: 0.8431 - val_loss: 0.3874 - val_accuracy: 0.8379\n",
      "Epoch 46/100\n",
      "536/536 [==============================] - 3s 6ms/step - loss: 0.3693 - accuracy: 0.8444 - val_loss: 0.3883 - val_accuracy: 0.8379\n",
      "Epoch 47/100\n",
      "536/536 [==============================] - 3s 5ms/step - loss: 0.3684 - accuracy: 0.8442 - val_loss: 0.3873 - val_accuracy: 0.8402\n",
      "Epoch 48/100\n",
      "536/536 [==============================] - 3s 5ms/step - loss: 0.3692 - accuracy: 0.8442 - val_loss: 0.3872 - val_accuracy: 0.8402\n",
      "Epoch 49/100\n",
      "536/536 [==============================] - 3s 6ms/step - loss: 0.3687 - accuracy: 0.8436 - val_loss: 0.3878 - val_accuracy: 0.8383\n",
      "Epoch 50/100\n",
      "536/536 [==============================] - 3s 6ms/step - loss: 0.3682 - accuracy: 0.8444 - val_loss: 0.3871 - val_accuracy: 0.8391\n",
      "Epoch 51/100\n",
      "536/536 [==============================] - 3s 5ms/step - loss: 0.3683 - accuracy: 0.8447 - val_loss: 0.3876 - val_accuracy: 0.8395\n",
      "Epoch 52/100\n",
      "536/536 [==============================] - 3s 5ms/step - loss: 0.3681 - accuracy: 0.8444 - val_loss: 0.3878 - val_accuracy: 0.8398\n",
      "Epoch 53/100\n",
      "536/536 [==============================] - 3s 5ms/step - loss: 0.3682 - accuracy: 0.8461 - val_loss: 0.3872 - val_accuracy: 0.8387\n",
      "Epoch 54/100\n",
      "536/536 [==============================] - 3s 5ms/step - loss: 0.3673 - accuracy: 0.8419 - val_loss: 0.3870 - val_accuracy: 0.8383\n",
      "Epoch 55/100\n",
      "536/536 [==============================] - 3s 6ms/step - loss: 0.3675 - accuracy: 0.8442 - val_loss: 0.3876 - val_accuracy: 0.8376\n",
      "Epoch 56/100\n",
      "536/536 [==============================] - 3s 6ms/step - loss: 0.3667 - accuracy: 0.8425 - val_loss: 0.3882 - val_accuracy: 0.8395\n",
      "Epoch 57/100\n",
      "536/536 [==============================] - 3s 6ms/step - loss: 0.3672 - accuracy: 0.8429 - val_loss: 0.3866 - val_accuracy: 0.8398\n",
      "Epoch 58/100\n",
      "536/536 [==============================] - 3s 5ms/step - loss: 0.3671 - accuracy: 0.8453 - val_loss: 0.3868 - val_accuracy: 0.8395\n",
      "Epoch 59/100\n",
      "536/536 [==============================] - 3s 5ms/step - loss: 0.3671 - accuracy: 0.8447 - val_loss: 0.3874 - val_accuracy: 0.8391\n",
      "Epoch 60/100\n",
      "536/536 [==============================] - 3s 6ms/step - loss: 0.3669 - accuracy: 0.8455 - val_loss: 0.3885 - val_accuracy: 0.8391\n",
      "Epoch 61/100\n",
      "536/536 [==============================] - 3s 5ms/step - loss: 0.3664 - accuracy: 0.8444 - val_loss: 0.3898 - val_accuracy: 0.8372\n",
      "Epoch 62/100\n",
      "536/536 [==============================] - 2s 4ms/step - loss: 0.3663 - accuracy: 0.8472 - val_loss: 0.3885 - val_accuracy: 0.8376\n",
      "Epoch 63/100\n",
      "536/536 [==============================] - 3s 5ms/step - loss: 0.3662 - accuracy: 0.8449 - val_loss: 0.3873 - val_accuracy: 0.8391\n",
      "Epoch 64/100\n",
      "536/536 [==============================] - 3s 6ms/step - loss: 0.3654 - accuracy: 0.8449 - val_loss: 0.3880 - val_accuracy: 0.8398\n",
      "Epoch 65/100\n",
      "536/536 [==============================] - 3s 6ms/step - loss: 0.3661 - accuracy: 0.8461 - val_loss: 0.3884 - val_accuracy: 0.8387\n",
      "Epoch 66/100\n",
      "536/536 [==============================] - 3s 5ms/step - loss: 0.3657 - accuracy: 0.8457 - val_loss: 0.3872 - val_accuracy: 0.8391\n",
      "Epoch 67/100\n",
      "536/536 [==============================] - 4s 7ms/step - loss: 0.3657 - accuracy: 0.8462 - val_loss: 0.3889 - val_accuracy: 0.8421\n",
      "Epoch 68/100\n",
      "536/536 [==============================] - 3s 6ms/step - loss: 0.3658 - accuracy: 0.8444 - val_loss: 0.3880 - val_accuracy: 0.8398\n",
      "Epoch 69/100\n",
      "536/536 [==============================] - 3s 5ms/step - loss: 0.3652 - accuracy: 0.8474 - val_loss: 0.3883 - val_accuracy: 0.8383\n",
      "Epoch 70/100\n",
      "536/536 [==============================] - 3s 6ms/step - loss: 0.3655 - accuracy: 0.8468 - val_loss: 0.3877 - val_accuracy: 0.8376\n",
      "Epoch 71/100\n",
      "536/536 [==============================] - 3s 6ms/step - loss: 0.3644 - accuracy: 0.8457 - val_loss: 0.3872 - val_accuracy: 0.8410\n",
      "Epoch 72/100\n",
      "536/536 [==============================] - 3s 5ms/step - loss: 0.3645 - accuracy: 0.8466 - val_loss: 0.3884 - val_accuracy: 0.8379\n",
      "Epoch 73/100\n",
      "536/536 [==============================] - 2s 4ms/step - loss: 0.3650 - accuracy: 0.8447 - val_loss: 0.3881 - val_accuracy: 0.8395\n",
      "Epoch 74/100\n",
      "536/536 [==============================] - 2s 4ms/step - loss: 0.3645 - accuracy: 0.8459 - val_loss: 0.3886 - val_accuracy: 0.8391\n",
      "Epoch 75/100\n",
      "536/536 [==============================] - 3s 6ms/step - loss: 0.3637 - accuracy: 0.8446 - val_loss: 0.3885 - val_accuracy: 0.8376\n",
      "Epoch 76/100\n",
      "536/536 [==============================] - 3s 6ms/step - loss: 0.3639 - accuracy: 0.8472 - val_loss: 0.3885 - val_accuracy: 0.8410\n",
      "Epoch 77/100\n",
      "536/536 [==============================] - 3s 5ms/step - loss: 0.3647 - accuracy: 0.8453 - val_loss: 0.3873 - val_accuracy: 0.8391\n",
      "Epoch 78/100\n",
      "536/536 [==============================] - 3s 5ms/step - loss: 0.3638 - accuracy: 0.8462 - val_loss: 0.3884 - val_accuracy: 0.8391\n",
      "Epoch 79/100\n",
      "536/536 [==============================] - 3s 6ms/step - loss: 0.3642 - accuracy: 0.8457 - val_loss: 0.3869 - val_accuracy: 0.8402\n",
      "Epoch 80/100\n",
      "536/536 [==============================] - 3s 5ms/step - loss: 0.3634 - accuracy: 0.8455 - val_loss: 0.3879 - val_accuracy: 0.8379\n",
      "Epoch 81/100\n",
      "536/536 [==============================] - 2s 4ms/step - loss: 0.3632 - accuracy: 0.8457 - val_loss: 0.3886 - val_accuracy: 0.8383\n",
      "Epoch 82/100\n",
      "536/536 [==============================] - 3s 5ms/step - loss: 0.3630 - accuracy: 0.8472 - val_loss: 0.3876 - val_accuracy: 0.8398\n",
      "Epoch 83/100\n",
      "536/536 [==============================] - 3s 6ms/step - loss: 0.3627 - accuracy: 0.8464 - val_loss: 0.3874 - val_accuracy: 0.8417\n",
      "Epoch 84/100\n",
      "536/536 [==============================] - 3s 5ms/step - loss: 0.3629 - accuracy: 0.8462 - val_loss: 0.3874 - val_accuracy: 0.8368\n",
      "Epoch 85/100\n",
      "536/536 [==============================] - 3s 5ms/step - loss: 0.3628 - accuracy: 0.8474 - val_loss: 0.3876 - val_accuracy: 0.8383\n",
      "Epoch 86/100\n",
      "536/536 [==============================] - 3s 6ms/step - loss: 0.3628 - accuracy: 0.8446 - val_loss: 0.3884 - val_accuracy: 0.8383\n",
      "Epoch 87/100\n",
      "536/536 [==============================] - 3s 6ms/step - loss: 0.3622 - accuracy: 0.8459 - val_loss: 0.3871 - val_accuracy: 0.8379\n",
      "Epoch 88/100\n",
      "536/536 [==============================] - 3s 5ms/step - loss: 0.3620 - accuracy: 0.8468 - val_loss: 0.3873 - val_accuracy: 0.8391\n",
      "Epoch 89/100\n",
      "536/536 [==============================] - 2s 4ms/step - loss: 0.3619 - accuracy: 0.8457 - val_loss: 0.3867 - val_accuracy: 0.8395\n",
      "Epoch 90/100\n",
      "536/536 [==============================] - 3s 6ms/step - loss: 0.3612 - accuracy: 0.8466 - val_loss: 0.3882 - val_accuracy: 0.8398\n",
      "Epoch 91/100\n",
      "536/536 [==============================] - 3s 6ms/step - loss: 0.3616 - accuracy: 0.8464 - val_loss: 0.3870 - val_accuracy: 0.8383\n",
      "Epoch 92/100\n",
      "536/536 [==============================] - 2s 5ms/step - loss: 0.3613 - accuracy: 0.8449 - val_loss: 0.3870 - val_accuracy: 0.8391\n",
      "Epoch 93/100\n",
      "536/536 [==============================] - 3s 5ms/step - loss: 0.3609 - accuracy: 0.8457 - val_loss: 0.3865 - val_accuracy: 0.8406\n",
      "Epoch 94/100\n",
      "536/536 [==============================] - 3s 5ms/step - loss: 0.3615 - accuracy: 0.8451 - val_loss: 0.3868 - val_accuracy: 0.8413\n",
      "Epoch 95/100\n",
      "536/536 [==============================] - 2s 5ms/step - loss: 0.3605 - accuracy: 0.8451 - val_loss: 0.3882 - val_accuracy: 0.8391\n",
      "Epoch 96/100\n",
      "536/536 [==============================] - 2s 4ms/step - loss: 0.3606 - accuracy: 0.8464 - val_loss: 0.3865 - val_accuracy: 0.8421\n",
      "Epoch 97/100\n",
      "536/536 [==============================] - 2s 5ms/step - loss: 0.3607 - accuracy: 0.8431 - val_loss: 0.3850 - val_accuracy: 0.8417\n",
      "Epoch 98/100\n",
      "536/536 [==============================] - 3s 6ms/step - loss: 0.3604 - accuracy: 0.8459 - val_loss: 0.3855 - val_accuracy: 0.8391\n",
      "Epoch 99/100\n",
      "536/536 [==============================] - 3s 5ms/step - loss: 0.3601 - accuracy: 0.8436 - val_loss: 0.3862 - val_accuracy: 0.8387\n",
      "Epoch 100/100\n",
      "536/536 [==============================] - 3s 5ms/step - loss: 0.3602 - accuracy: 0.8429 - val_loss: 0.3879 - val_accuracy: 0.8357\n"
     ]
    }
   ],
   "source": [
    "# Entraîner le modèle et enregistrer l'historique\n",
    "model_history = classifier1.fit(X_train, y_train, validation_split=0.33, batch_size=10, epochs=100)"
   ]
  },
  {
   "cell_type": "markdown",
   "metadata": {},
   "source": [
    "4. Utilisant 100 Epoche allons Entrainer ce Modèle"
   ]
  },
  {
   "cell_type": "code",
   "execution_count": 60,
   "metadata": {},
   "outputs": [
    {
     "data": {
      "image/png": "[encoded data removed]",
      "text/plain": [
       "<Figure size 432x288 with 1 Axes>"
      ]
     },
     "metadata": {
      "needs_background": "light"
     },
     "output_type": "display_data"
    }
   ],
   "source": [
    "# Extraire les données d'historique\n",
    "loss = model_history.history['loss']\n",
    "val_loss = model_history.history['val_loss']\n",
    "\n",
    "# Créer un graphique de perte et de validation\n",
    "plt.plot(loss, label='Loss')\n",
    "plt.plot(val_loss, label='Validation Loss')\n",
    "plt.xlabel('Epochs')\n",
    "plt.ylabel('Loss')\n",
    "plt.title('Training and Validation Loss over Epochs')\n",
    "plt.legend()\n",
    "plt.show()"
   ]
  },
  {
   "cell_type": "code",
   "execution_count": 61,
   "metadata": {},
   "outputs": [
    {
     "data": {
      "image/png": "[encoded data removed]",
      "text/plain": [
       "<Figure size 432x288 with 1 Axes>"
      ]
     },
     "metadata": {
      "needs_background": "light"
     },
     "output_type": "display_data"
    }
   ],
   "source": [
    "# Extract the accuracy data from the history\n",
    "accuracy = model_history.history['accuracy']\n",
    "val_accuracy = model_history.history['val_accuracy']\n",
    "\n",
    "# Create a plot for training and validation accuracy\n",
    "plt.plot(accuracy, label='Accuracy')\n",
    "plt.plot(val_accuracy, label='Validation Accuracy')\n",
    "plt.xlabel('Epochs')\n",
    "plt.ylabel('Accuracy')\n",
    "plt.title('Training and Validation Accuracy over Epochs')\n",
    "plt.legend()\n",
    "plt.show()"
   ]
  },
  {
   "cell_type": "code",
   "execution_count": 72,
   "metadata": {},
   "outputs": [
    {
     "name": "stdout",
     "output_type": "stream",
     "text": [
      "Layer Name: dense_14\n",
      "Weights: [array([[ 0.08698893,  0.01760029,  0.03194153,  0.03562619, -0.00537762,\n",
      "        -0.05232663,  0.07210758],\n",
      "       [-1.0138779 , -0.9125295 , -0.4140261 , -0.03307297,  0.66824543,\n",
      "        -0.8828141 , -0.67248917],\n",
      "       [ 0.11564755,  0.09585759,  0.07896814, -0.07888403,  0.08874426,\n",
      "        -0.23703194,  0.22827643],\n",
      "       [-0.11513142, -0.13682102, -1.3042156 , -1.4013981 , -0.11268874,\n",
      "        -0.11876868,  0.4397985 ],\n",
      "       [-0.2413151 , -0.08496008, -1.3698595 , -0.4559984 , -0.14669257,\n",
      "         0.132098  ,  0.03886547],\n",
      "       [-0.02132913, -0.01617162, -0.04797248, -0.03546228,  0.08372331,\n",
      "        -0.10200096,  0.15023294],\n",
      "       [-0.18788782,  0.5993352 ,  0.16886425, -0.01530173,  0.9921212 ,\n",
      "         0.01414983, -0.00813502],\n",
      "       [-0.03874426, -0.09149013,  0.09290935,  0.07860934,  0.04799599,\n",
      "        -0.06818323, -0.00542377],\n",
      "       [-0.86300707,  0.32481498,  0.12440456,  0.31215042, -0.09972362,\n",
      "        -0.00280703,  0.852189  ],\n",
      "       [-1.288511  ,  1.0285224 ,  0.2084021 ,  0.3046383 , -0.13834545,\n",
      "        -0.89906734,  0.896213  ],\n",
      "       [ 0.15037857,  0.3115861 ,  0.1364953 ,  0.11720688,  0.04649989,\n",
      "        -0.15552674,  0.02156569]], dtype=float32), array([ 0.5093667 ,  0.45343813, -0.46495235, -0.0761869 , -0.44572884,\n",
      "        0.35708493,  0.43544272], dtype=float32)]\n",
      "Layer Name: dense_15\n",
      "Weights: [array([[-0.096172  ,  0.9069818 , -0.52756184],\n",
      "       [ 0.9123652 ,  0.09265424, -0.30356655],\n",
      "       [-0.35753193, -0.6807529 ,  0.8820412 ],\n",
      "       [ 1.2491448 ,  0.05066264, -0.41005063],\n",
      "       [ 0.55363876,  0.7552938 , -0.29521737],\n",
      "       [ 0.44455937, -0.31305256, -0.4164915 ],\n",
      "       [ 0.38593373, -1.6193534 , -0.64568377]], dtype=float32), array([-0.01614675,  0.12186947,  1.3736283 ], dtype=float32)]\n",
      "Layer Name: dense_16\n",
      "Weights: [array([[-0.7575288],\n",
      "       [-1.4094936],\n",
      "       [ 2.1069596]], dtype=float32), array([0.3090205], dtype=float32)]\n"
     ]
    }
   ],
   "source": [
    "# Accéder aux couches du modèle\n",
    "layers = classifier1.layers\n",
    "\n",
    "# Parcourir les couches et afficher les poids\n",
    "for layer in layers:\n",
    "    weights = layer.get_weights()\n",
    "    if weights:\n",
    "        print(\"Layer Name:\", layer.name)\n",
    "        print(\"Weights:\", weights)"
   ]
  },
  {
   "cell_type": "code",
   "execution_count": 69,
   "metadata": {},
   "outputs": [],
   "source": [
    "classifier1.save(\"model_classifier_1.h5\")"
   ]
  },
  {
   "cell_type": "code",
   "execution_count": 66,
   "metadata": {},
   "outputs": [],
   "source": [
    "#Compiling the ANN\n",
    "classifier2.compile(optimizer = 'adam', loss = 'binary_crossentropy', metrics = ['accuracy'])"
   ]
  },
  {
   "cell_type": "code",
   "execution_count": 67,
   "metadata": {},
   "outputs": [
    {
     "name": "stdout",
     "output_type": "stream",
     "text": [
      "Epoch 1/100\n",
      "536/536 [==============================] - 6s 7ms/step - loss: 0.6097 - accuracy: 0.7270 - val_loss: 0.4835 - val_accuracy: 0.7952\n",
      "Epoch 2/100\n",
      "536/536 [==============================] - 3s 5ms/step - loss: 0.5163 - accuracy: 0.7845 - val_loss: 0.4648 - val_accuracy: 0.7952\n",
      "Epoch 3/100\n",
      "536/536 [==============================] - 3s 6ms/step - loss: 0.4892 - accuracy: 0.7916 - val_loss: 0.4529 - val_accuracy: 0.7955\n",
      "Epoch 4/100\n",
      "536/536 [==============================] - 3s 6ms/step - loss: 0.4807 - accuracy: 0.7934 - val_loss: 0.4464 - val_accuracy: 0.7959\n",
      "Epoch 5/100\n",
      "536/536 [==============================] - 3s 5ms/step - loss: 0.4693 - accuracy: 0.7964 - val_loss: 0.4433 - val_accuracy: 0.7967\n",
      "Epoch 6/100\n",
      "536/536 [==============================] - 3s 6ms/step - loss: 0.4534 - accuracy: 0.7988 - val_loss: 0.4341 - val_accuracy: 0.8001\n",
      "Epoch 7/100\n",
      "536/536 [==============================] - 3s 6ms/step - loss: 0.4492 - accuracy: 0.8009 - val_loss: 0.4308 - val_accuracy: 0.8039\n",
      "Epoch 8/100\n",
      "536/536 [==============================] - 3s 5ms/step - loss: 0.4452 - accuracy: 0.8039 - val_loss: 0.4274 - val_accuracy: 0.8099\n",
      "Epoch 9/100\n",
      "536/536 [==============================] - 3s 5ms/step - loss: 0.4399 - accuracy: 0.8087 - val_loss: 0.4231 - val_accuracy: 0.8160\n",
      "Epoch 10/100\n",
      "536/536 [==============================] - 3s 6ms/step - loss: 0.4377 - accuracy: 0.8061 - val_loss: 0.4204 - val_accuracy: 0.8160\n",
      "Epoch 11/100\n",
      "536/536 [==============================] - 3s 6ms/step - loss: 0.4374 - accuracy: 0.8078 - val_loss: 0.4179 - val_accuracy: 0.8156\n",
      "Epoch 12/100\n",
      "536/536 [==============================] - 3s 6ms/step - loss: 0.4255 - accuracy: 0.8164 - val_loss: 0.4135 - val_accuracy: 0.8228\n",
      "Epoch 13/100\n",
      "536/536 [==============================] - 2s 4ms/step - loss: 0.4186 - accuracy: 0.8265 - val_loss: 0.4054 - val_accuracy: 0.8262\n",
      "Epoch 14/100\n",
      "536/536 [==============================] - 3s 6ms/step - loss: 0.4156 - accuracy: 0.8231 - val_loss: 0.4007 - val_accuracy: 0.8315\n",
      "Epoch 15/100\n",
      "536/536 [==============================] - 3s 5ms/step - loss: 0.4109 - accuracy: 0.8300 - val_loss: 0.3961 - val_accuracy: 0.8379\n",
      "Epoch 16/100\n",
      "536/536 [==============================] - 3s 5ms/step - loss: 0.3993 - accuracy: 0.8334 - val_loss: 0.3911 - val_accuracy: 0.8357\n",
      "Epoch 17/100\n",
      "536/536 [==============================] - 3s 5ms/step - loss: 0.4098 - accuracy: 0.8293 - val_loss: 0.3896 - val_accuracy: 0.8372\n",
      "Epoch 18/100\n",
      "536/536 [==============================] - 3s 6ms/step - loss: 0.4024 - accuracy: 0.8285 - val_loss: 0.3851 - val_accuracy: 0.8402\n",
      "Epoch 19/100\n",
      "536/536 [==============================] - 3s 6ms/step - loss: 0.4066 - accuracy: 0.8257 - val_loss: 0.3862 - val_accuracy: 0.8425\n",
      "Epoch 20/100\n",
      "536/536 [==============================] - 3s 6ms/step - loss: 0.4037 - accuracy: 0.8293 - val_loss: 0.3857 - val_accuracy: 0.8364\n",
      "Epoch 21/100\n",
      "536/536 [==============================] - 3s 6ms/step - loss: 0.3975 - accuracy: 0.8313 - val_loss: 0.3830 - val_accuracy: 0.8413\n",
      "Epoch 22/100\n",
      "536/536 [==============================] - 3s 5ms/step - loss: 0.4009 - accuracy: 0.8336 - val_loss: 0.3827 - val_accuracy: 0.8417\n",
      "Epoch 23/100\n",
      "536/536 [==============================] - 3s 5ms/step - loss: 0.3968 - accuracy: 0.8343 - val_loss: 0.3807 - val_accuracy: 0.8421\n",
      "Epoch 24/100\n",
      "536/536 [==============================] - 3s 6ms/step - loss: 0.3913 - accuracy: 0.8384 - val_loss: 0.3796 - val_accuracy: 0.8410\n",
      "Epoch 25/100\n",
      "536/536 [==============================] - 3s 5ms/step - loss: 0.3898 - accuracy: 0.8378 - val_loss: 0.3750 - val_accuracy: 0.8440\n",
      "Epoch 26/100\n",
      "536/536 [==============================] - 3s 5ms/step - loss: 0.3900 - accuracy: 0.8442 - val_loss: 0.3754 - val_accuracy: 0.8436\n",
      "Epoch 27/100\n",
      "536/536 [==============================] - 3s 6ms/step - loss: 0.3922 - accuracy: 0.8395 - val_loss: 0.3765 - val_accuracy: 0.8455\n",
      "Epoch 28/100\n",
      "536/536 [==============================] - 3s 6ms/step - loss: 0.3920 - accuracy: 0.8382 - val_loss: 0.3747 - val_accuracy: 0.8421\n",
      "Epoch 29/100\n",
      "536/536 [==============================] - 3s 6ms/step - loss: 0.3828 - accuracy: 0.8427 - val_loss: 0.3750 - val_accuracy: 0.8436\n",
      "Epoch 30/100\n",
      "536/536 [==============================] - 3s 5ms/step - loss: 0.3875 - accuracy: 0.8365 - val_loss: 0.3740 - val_accuracy: 0.8429\n",
      "Epoch 31/100\n",
      "536/536 [==============================] - 3s 6ms/step - loss: 0.3846 - accuracy: 0.8382 - val_loss: 0.3728 - val_accuracy: 0.8425\n",
      "Epoch 32/100\n",
      "536/536 [==============================] - 3s 6ms/step - loss: 0.3847 - accuracy: 0.8401 - val_loss: 0.3711 - val_accuracy: 0.8432\n",
      "Epoch 33/100\n",
      "536/536 [==============================] - 3s 5ms/step - loss: 0.3827 - accuracy: 0.8395 - val_loss: 0.3681 - val_accuracy: 0.8429\n",
      "Epoch 34/100\n",
      "536/536 [==============================] - 4s 7ms/step - loss: 0.3792 - accuracy: 0.8423 - val_loss: 0.3684 - val_accuracy: 0.8440\n",
      "Epoch 35/100\n",
      "536/536 [==============================] - 3s 6ms/step - loss: 0.3870 - accuracy: 0.8371 - val_loss: 0.3681 - val_accuracy: 0.8432\n",
      "Epoch 36/100\n",
      "536/536 [==============================] - 3s 5ms/step - loss: 0.3873 - accuracy: 0.8427 - val_loss: 0.3699 - val_accuracy: 0.8383\n",
      "Epoch 37/100\n",
      "536/536 [==============================] - 3s 6ms/step - loss: 0.3835 - accuracy: 0.8397 - val_loss: 0.3699 - val_accuracy: 0.8410\n",
      "Epoch 38/100\n",
      "536/536 [==============================] - 3s 6ms/step - loss: 0.3767 - accuracy: 0.8419 - val_loss: 0.3667 - val_accuracy: 0.8372\n",
      "Epoch 39/100\n",
      "536/536 [==============================] - 3s 5ms/step - loss: 0.3783 - accuracy: 0.8444 - val_loss: 0.3652 - val_accuracy: 0.8436\n",
      "Epoch 40/100\n",
      "536/536 [==============================] - 3s 6ms/step - loss: 0.3726 - accuracy: 0.8451 - val_loss: 0.3656 - val_accuracy: 0.8478\n",
      "Epoch 41/100\n",
      "536/536 [==============================] - 4s 7ms/step - loss: 0.3780 - accuracy: 0.8449 - val_loss: 0.3646 - val_accuracy: 0.8474\n",
      "Epoch 42/100\n",
      "536/536 [==============================] - 3s 6ms/step - loss: 0.3753 - accuracy: 0.8464 - val_loss: 0.3664 - val_accuracy: 0.8455\n",
      "Epoch 43/100\n",
      "536/536 [==============================] - 3s 5ms/step - loss: 0.3804 - accuracy: 0.8423 - val_loss: 0.3650 - val_accuracy: 0.8485\n",
      "Epoch 44/100\n",
      "536/536 [==============================] - 3s 6ms/step - loss: 0.3756 - accuracy: 0.8447 - val_loss: 0.3637 - val_accuracy: 0.8440\n",
      "Epoch 45/100\n",
      "536/536 [==============================] - 3s 6ms/step - loss: 0.3778 - accuracy: 0.8442 - val_loss: 0.3630 - val_accuracy: 0.8482\n",
      "Epoch 46/100\n",
      "536/536 [==============================] - 2s 5ms/step - loss: 0.3793 - accuracy: 0.8354 - val_loss: 0.3631 - val_accuracy: 0.8459\n",
      "Epoch 47/100\n",
      "536/536 [==============================] - 2s 5ms/step - loss: 0.3714 - accuracy: 0.8462 - val_loss: 0.3638 - val_accuracy: 0.8459\n",
      "Epoch 48/100\n",
      "536/536 [==============================] - 3s 6ms/step - loss: 0.3697 - accuracy: 0.8485 - val_loss: 0.3649 - val_accuracy: 0.8459\n"
     ]
    }
   ],
   "source": [
    "import tensorflow as tf\n",
    "from tensorflow.keras.callbacks import EarlyStopping\n",
    "\n",
    "# Définir la fonction d'arrêt précoce\n",
    "early_stopping = EarlyStopping(monitor='val_loss', patience=3)\n",
    "\n",
    "# Entraîner le modèle en utilisant l'arrêt précoce\n",
    "model_history2 = classifier2.fit(X_train, y_train, validation_split=0.33, batch_size=10, epochs=100, callbacks=[early_stopping])\n"
   ]
  },
  {
   "cell_type": "code",
   "execution_count": 68,
   "metadata": {},
   "outputs": [
    {
     "data": {
      "image/png": "[encoded data removed]",
      "text/plain": [
       "<Figure size 432x288 with 1 Axes>"
      ]
     },
     "metadata": {
      "needs_background": "light"
     },
     "output_type": "display_data"
    }
   ],
   "source": [
    "# Extraire les données d'historique\n",
    "loss2 = model_history2.history['loss']\n",
    "val_loss2 = model_history2.history['val_loss']\n",
    "\n",
    "# Créer un graphique de perte et de validation\n",
    "plt.plot(loss, label='Loss')\n",
    "plt.plot(val_loss, label='Validation Loss')\n",
    "plt.xlabel('Epochs')\n",
    "plt.ylabel('Loss')\n",
    "plt.title('Training and Validation Loss over Epochs')\n",
    "plt.legend()\n",
    "plt.show()"
   ]
  },
  {
   "cell_type": "code",
   "execution_count": 73,
   "metadata": {},
   "outputs": [
    {
     "data": {
      "image/png": "[encoded data removed]",
      "text/plain": [
       "<Figure size 432x288 with 1 Axes>"
      ]
     },
     "metadata": {
      "needs_background": "light"
     },
     "output_type": "display_data"
    }
   ],
   "source": [
    "# Extract the accuracy data from the history\n",
    "accuracy2 = model_history2.history['accuracy']\n",
    "val_accuracy2 = model_history2.history['val_accuracy']\n",
    "\n",
    "# Create a plot for training and validation accuracy\n",
    "plt.plot(accuracy, label='Accuracy')\n",
    "plt.plot(val_accuracy, label='Validation Accuracy')\n",
    "plt.xlabel('Epochs')\n",
    "plt.ylabel('Accuracy')\n",
    "plt.title('Training and Validation Accuracy over Epochs')\n",
    "plt.legend()\n",
    "plt.show()"
   ]
  },
  {
   "cell_type": "code",
   "execution_count": 74,
   "metadata": {},
   "outputs": [
    {
     "name": "stdout",
     "output_type": "stream",
     "text": [
      "Layer Name: dense_17\n",
      "Weights: [array([[ 5.97334914e-02, -7.41466954e-02,  2.45760065e-02,\n",
      "         2.28862353e-02,  9.85922515e-02,  6.75751865e-02,\n",
      "         7.67956600e-02,  1.74288318e-01, -1.73366159e-01,\n",
      "         5.48255324e-01, -1.39244422e-01,  7.96795189e-01,\n",
      "        -3.63393761e-02, -3.45928594e-02,  4.27142940e-02,\n",
      "        -1.60486951e-01,  1.37143731e-01, -1.37967259e-01,\n",
      "         2.97341701e-02, -3.03560756e-02],\n",
      "       [ 4.30983305e-01,  1.27073973e-01,  3.80046219e-01,\n",
      "         1.61282048e-01,  3.92882496e-01, -1.66997686e-01,\n",
      "        -7.38549411e-01,  8.79816532e-01,  1.03403524e-01,\n",
      "        -6.03565156e-01, -1.00272393e+00, -1.21773732e+00,\n",
      "        -5.59537172e-01, -7.03208521e-02,  3.70978117e-01,\n",
      "        -1.16073954e+00, -1.03004146e+00, -8.76272559e-01,\n",
      "        -5.03651917e-01, -4.98118609e-01],\n",
      "       [-4.67031226e-02, -2.44694576e-03,  3.92432846e-02,\n",
      "         1.94499925e-01,  1.27491221e-01,  2.23624602e-01,\n",
      "         6.13472797e-03, -1.97218060e-01,  1.24472938e-01,\n",
      "         2.31128350e-01,  1.33389875e-01, -1.36449665e-01,\n",
      "        -1.30656520e-02,  2.72297505e-02, -7.70949246e-03,\n",
      "        -1.70039117e-01,  5.28446049e-04,  2.17036873e-01,\n",
      "        -1.76518094e-02,  4.29030687e-01],\n",
      "       [-2.40426481e-01,  2.69165605e-01,  4.21990931e-01,\n",
      "        -9.99990776e-02, -1.07912738e-02, -6.25119090e-01,\n",
      "        -1.25902086e-01,  5.85940540e-01, -7.14203775e-01,\n",
      "        -2.45852187e-01, -4.72901046e-01, -1.62472308e-01,\n",
      "        -3.40651944e-02,  9.59953889e-02, -2.43774444e-01,\n",
      "        -1.69969033e-02, -2.67605297e-02, -9.71892476e-02,\n",
      "        -1.05391098e-02, -9.29113775e-02],\n",
      "       [-1.68316647e-01,  1.07258081e+00,  8.06361318e-01,\n",
      "        -3.56877632e-02,  1.70516133e-01,  9.07831788e-01,\n",
      "         1.15914971e-01,  8.09125125e-01, -9.27574039e-01,\n",
      "        -4.58296128e-02,  1.99639753e-01,  3.72340918e-01,\n",
      "         2.43940830e-01,  9.53108311e-01, -4.82482791e-01,\n",
      "         2.41377845e-01, -5.96931495e-04,  2.95922667e-01,\n",
      "         4.95897055e-01, -4.41009440e-02],\n",
      "       [-9.63964760e-02,  6.85040653e-02, -6.11388013e-02,\n",
      "         7.40531981e-02,  1.02990344e-02,  2.69668419e-02,\n",
      "        -1.37393042e-01, -2.61371940e-01, -4.62639928e-02,\n",
      "         1.98175535e-01, -4.08596307e-01,  1.58829764e-01,\n",
      "         9.11180496e-01,  2.52708551e-02, -1.44787401e-01,\n",
      "         1.67760164e-01, -1.85763285e-01, -2.28342459e-01,\n",
      "        -1.38882726e-01,  1.34327158e-01],\n",
      "       [ 8.09715748e-01, -1.01499937e-01, -4.05957252e-01,\n",
      "         7.47064054e-01,  5.94985604e-01,  2.60002941e-01,\n",
      "         5.10015450e-02, -5.16397119e-01, -1.17162392e-01,\n",
      "         1.98346540e-01,  9.95763317e-02, -3.29262793e-01,\n",
      "         1.68158501e-01,  9.22629312e-02, -6.87759936e-01,\n",
      "         3.59183043e-01,  3.91317643e-02,  3.06196570e-01,\n",
      "         1.13613993e-01,  4.03048038e-01],\n",
      "       [-1.33275971e-01,  1.50646549e-02,  4.15405482e-02,\n",
      "        -5.99539988e-02, -5.91587275e-02,  9.31009501e-02,\n",
      "        -1.02553561e-01, -1.03075236e-01,  1.77490979e-01,\n",
      "        -6.13338873e-02, -4.87224311e-01,  2.65610218e-01,\n",
      "         9.47614200e-03, -5.85606731e-02, -3.71673219e-02,\n",
      "         4.96845663e-01, -4.02785875e-02, -1.68825001e-01,\n",
      "         3.82302031e-02, -5.58492541e-01],\n",
      "       [-2.46060267e-01, -8.46980810e-02, -2.97168285e-01,\n",
      "        -1.62894949e-01, -2.32206926e-01,  1.78299144e-01,\n",
      "        -3.56667966e-01, -9.48894303e-03, -5.06426692e-02,\n",
      "        -5.65338612e-01, -7.23892301e-02, -3.64758104e-01,\n",
      "         1.55507133e-03,  8.73319898e-03,  2.11784557e-01,\n",
      "        -3.70155841e-01, -1.95694864e-01, -3.00438076e-01,\n",
      "        -1.93524405e-01, -5.71465969e-01],\n",
      "       [ 5.82817569e-02,  1.63714528e-01,  5.04777320e-02,\n",
      "         1.59500107e-01,  7.41457045e-02,  9.51497182e-02,\n",
      "        -1.20895855e-01, -1.23920828e-01, -1.81791391e-02,\n",
      "        -4.33643281e-01,  9.94349793e-02, -4.36832547e-01,\n",
      "         1.76328886e-02, -1.02072442e-02,  5.33192605e-02,\n",
      "        -1.75321057e-01, -1.73324030e-02,  3.64720523e-02,\n",
      "        -1.01392293e+00,  3.68109971e-01],\n",
      "       [ 2.79991180e-01, -4.95354757e-02,  6.92413673e-02,\n",
      "         2.43442863e-01,  8.73922929e-02,  1.24219216e-01,\n",
      "         1.67718485e-01, -6.25018701e-02, -5.47523759e-02,\n",
      "         4.20678556e-01,  1.84846848e-01,  5.34087718e-01,\n",
      "        -3.98441330e-02, -1.04559839e-01,  1.02003634e-01,\n",
      "         4.67239916e-01,  1.23305561e-03,  7.02443898e-01,\n",
      "        -2.51456816e-02, -1.10047042e-01]], dtype=float32), array([-0.7777956 , -1.3674169 , -0.99747694, -0.2351653 , -0.7714745 ,\n",
      "       -0.10111344,  0.53824663, -0.87795013, -0.69661903,  0.0244102 ,\n",
      "       -0.02215295,  0.17483854,  0.04755123, -0.5170132 , -0.8629046 ,\n",
      "        0.204606  ,  0.5471044 ,  0.26798296,  0.01797768,  0.04576713],\n",
      "      dtype=float32)]\n",
      "Layer Name: dense_18\n",
      "Weights: [array([[ 6.99259043e-02, -4.21953142e-01, -8.26643407e-02,\n",
      "        -3.36654127e-01, -3.36018950e-01, -1.47694930e-01,\n",
      "         1.23010516e-01,  1.72824308e-01, -6.01198077e-01,\n",
      "        -6.63663208e-01, -3.55349094e-01, -1.03420883e-01,\n",
      "        -1.63006321e-01, -2.09757149e-01, -7.28862286e-02],\n",
      "       [-1.05240560e+00, -1.08277428e+00, -7.72582114e-01,\n",
      "         5.88594913e-01, -1.15744674e+00, -8.35004866e-01,\n",
      "        -7.69020855e-01, -1.17277837e+00, -1.66355953e-01,\n",
      "         7.84440994e-01,  6.28707767e-01,  3.96601437e-03,\n",
      "        -5.21238863e-01,  4.01358873e-01, -1.04455376e+00],\n",
      "       [-3.18125248e-01, -7.48153865e-01, -7.15975642e-01,\n",
      "         4.19907808e-01, -5.28024077e-01, -5.67554176e-01,\n",
      "        -3.46937209e-01, -4.02492642e-01,  3.49215180e-01,\n",
      "         2.89146602e-01,  3.61932158e-01, -4.04320151e-01,\n",
      "        -4.26915854e-01,  3.38573977e-02, -3.67219776e-01],\n",
      "       [ 2.32604295e-01,  1.39920413e-01, -2.66026139e-01,\n",
      "        -1.58353746e-01,  8.71902518e-03,  2.04796895e-01,\n",
      "         2.18639240e-01,  3.46911341e-01, -7.36465633e-01,\n",
      "        -5.92659116e-01, -2.06543893e-01, -4.47099626e-01,\n",
      "        -4.48382825e-01, -2.15811908e-01,  2.68398553e-01],\n",
      "       [ 9.39221680e-01,  1.66979760e-01, -1.22326523e-01,\n",
      "         1.32448137e-01, -3.60237360e-01, -3.35618407e-01,\n",
      "         4.49654609e-01,  5.96369207e-01, -6.89954340e-01,\n",
      "        -2.90739089e-01,  1.02664195e-01, -5.35063148e-01,\n",
      "         3.69135439e-02, -7.53271401e-01, -2.76328862e-01],\n",
      "       [ 2.69151121e-01,  3.71257693e-01,  1.22952312e-01,\n",
      "         3.31646383e-01,  1.70774132e-01,  3.42477590e-01,\n",
      "         2.76391625e-01,  2.30991185e-01, -4.40095127e-01,\n",
      "         1.66295961e-01,  2.75025368e-01, -3.58124852e-01,\n",
      "         1.48128659e-01, -5.17598271e-01,  4.66055721e-01],\n",
      "       [ 2.58442909e-01,  2.90892065e-01,  3.83235067e-01,\n",
      "        -7.82953203e-02,  1.78291067e-01,  8.27675387e-02,\n",
      "         9.75815579e-02,  3.32234830e-01, -3.57417017e-01,\n",
      "        -5.95113516e-01, -1.31937847e-01, -7.91235685e-01,\n",
      "         1.98691428e-01, -3.56531799e-01, -3.89663398e-01],\n",
      "       [ 4.26180363e-02, -9.39960480e-01, -2.81017512e-01,\n",
      "         1.68032482e-01, -2.59670615e-01, -5.98502696e-01,\n",
      "        -2.61304583e-02, -3.59547772e-02,  3.13308500e-02,\n",
      "         6.16506487e-02,  1.75116271e-01, -3.04665510e-02,\n",
      "        -4.63324487e-01,  1.96144413e-02, -8.20210934e-01],\n",
      "       [-6.88871801e-01, -6.87399983e-01, -4.90276694e-01,\n",
      "        -6.07847154e-01, -6.09126925e-01, -5.14316440e-01,\n",
      "        -7.04300761e-01, -7.81484067e-01,  1.11974061e-01,\n",
      "         2.35655084e-01,  3.45042467e-01, -6.43913209e-01,\n",
      "        -3.62573743e-01,  3.90736610e-01, -4.88452524e-01],\n",
      "       [-2.35567406e-01,  1.04945153e-01,  2.32911140e-01,\n",
      "        -2.01441705e-01,  2.35144556e-01,  1.07838474e-01,\n",
      "        -8.61639231e-02,  2.64901798e-02, -6.90188169e-01,\n",
      "        -3.38333935e-01, -1.85243964e-01, -3.62712473e-01,\n",
      "         2.44379073e-01, -7.84226879e-02, -1.83962230e-02],\n",
      "       [ 1.37461498e-01, -7.91868195e-02,  2.77463049e-01,\n",
      "        -1.90825522e-01,  1.09789200e-01, -1.52404144e-01,\n",
      "         1.89284861e-01,  2.29171395e-01, -6.37812734e-01,\n",
      "        -4.69559014e-01, -1.86489925e-01, -6.29078150e-01,\n",
      "         1.13137774e-02, -3.36184740e-01,  9.51077491e-02],\n",
      "       [ 2.38143921e-01,  2.63799965e-01, -1.76383793e-01,\n",
      "         1.90210138e-02,  1.09963663e-01,  5.93012795e-02,\n",
      "         8.57155472e-02,  2.14040294e-01, -3.42348963e-01,\n",
      "        -1.82767540e-01, -3.66661102e-02, -2.70849615e-01,\n",
      "        -1.25814185e-01, -7.12048948e-01,  2.35290125e-01],\n",
      "       [ 4.62458730e-02,  1.41546741e-01,  4.11464691e-01,\n",
      "         5.39098382e-02,  6.56327233e-02,  2.70221263e-01,\n",
      "         4.67941053e-02,  1.18134901e-01, -2.67579228e-01,\n",
      "        -2.51798213e-01,  1.78450476e-02, -1.41927570e-01,\n",
      "         6.65703714e-02, -2.89205253e-01,  1.60689011e-01],\n",
      "       [-3.12904745e-01,  2.34640688e-01,  1.72184318e-01,\n",
      "         4.37391400e-01,  9.14110318e-02, -1.69256553e-01,\n",
      "        -1.76504359e-01,  1.84839107e-02, -1.07059824e+00,\n",
      "         1.93763167e-01,  4.28330868e-01, -9.09336627e-01,\n",
      "         8.75394121e-02, -8.62892330e-01, -9.87224653e-02],\n",
      "       [-3.08245540e-01, -1.04342890e+00, -4.49218631e-01,\n",
      "        -5.65098226e-01, -4.52281982e-01, -6.52294457e-01,\n",
      "        -3.93222243e-01, -5.50656915e-01,  2.11003050e-01,\n",
      "         1.97687894e-01,  6.85076714e-01,  2.60618180e-01,\n",
      "        -4.51798320e-01,  2.67633557e-01, -7.75398970e-01],\n",
      "       [ 1.93969950e-01,  1.34672120e-01,  2.42219374e-01,\n",
      "        -9.69405845e-02,  1.93258464e-01, -1.50489494e-01,\n",
      "         1.68007001e-01,  6.03301823e-02, -3.94135982e-01,\n",
      "        -3.46675426e-01,  2.89687030e-02, -2.93878138e-01,\n",
      "        -2.39212755e-02, -2.31801242e-01,  1.52312726e-01],\n",
      "       [ 8.67713913e-02, -8.03009123e-02, -4.79771167e-01,\n",
      "        -2.71424145e-01,  1.87493160e-01,  5.51135205e-02,\n",
      "        -3.76704335e-02,  2.55702913e-01, -2.21574783e-01,\n",
      "        -6.82820261e-01, -2.66117007e-01, -4.64665085e-01,\n",
      "         1.59845337e-01, -6.05620265e-01, -9.56047792e-04],\n",
      "       [ 3.09684515e-01,  2.17214346e-01, -3.54313642e-01,\n",
      "         4.15669009e-02,  3.84217113e-01,  2.36991972e-01,\n",
      "         1.33421838e-01,  6.39514551e-02, -3.24261367e-01,\n",
      "        -2.66369551e-01,  7.29443319e-03, -6.70025110e-01,\n",
      "         4.81959522e-01, -2.99364895e-01, -7.12031871e-02],\n",
      "       [ 1.91963580e-03, -2.60640886e-02,  1.94728807e-01,\n",
      "         1.66169047e-01,  1.05561845e-01,  1.18929297e-01,\n",
      "         2.47854337e-01,  2.15024397e-01, -1.02710855e+00,\n",
      "        -4.84851934e-02,  6.00989386e-02, -7.64764547e-01,\n",
      "        -9.88926925e-03, -1.07769477e+00,  1.28799379e-01],\n",
      "       [-1.19030379e-01,  2.05563143e-01, -9.72630456e-04,\n",
      "        -1.81438938e-01,  1.59634128e-01,  7.69968927e-02,\n",
      "         1.64361969e-01, -2.94414554e-02, -2.35340029e-01,\n",
      "        -4.05017495e-01, -2.07607850e-01, -3.76646429e-01,\n",
      "        -2.87788033e-01, -4.86576371e-02,  1.60401270e-01]], dtype=float32), array([ 0.03499468,  0.23485678,  0.08864618, -0.795572  ,  0.20805353,\n",
      "        0.05600891,  0.0737424 ,  0.06598698,  0.5473218 ,  0.20224632,\n",
      "       -0.647836  ,  0.7666693 ,  0.03773515,  0.7607823 ,  0.01178161],\n",
      "      dtype=float32)]\n",
      "Layer Name: dense_19\n",
      "Weights: [array([[-0.11892997],\n",
      "       [-0.17302541],\n",
      "       [-0.16389425],\n",
      "       [ 0.70926917],\n",
      "       [-0.14723633],\n",
      "       [-0.16626424],\n",
      "       [-0.2019329 ],\n",
      "       [-0.09233538],\n",
      "       [ 0.5554281 ],\n",
      "       [ 0.60670453],\n",
      "       [ 0.64139783],\n",
      "       [ 0.64643127],\n",
      "       [-0.16971971],\n",
      "       [ 0.41201645],\n",
      "       [-0.1951656 ]], dtype=float32), array([-1.070705], dtype=float32)]\n"
     ]
    }
   ],
   "source": [
    "# Accéder aux couches du modèle\n",
    "layers = classifier2.layers\n",
    "\n",
    "# Parcourir les couches et afficher les poids\n",
    "for layer in layers:\n",
    "    weights = layer.get_weights()\n",
    "    if weights:\n",
    "        print(\"Layer Name:\", layer.name)\n",
    "        print(\"Weights:\", weights)"
   ]
  },
  {
   "cell_type": "markdown",
   "metadata": {},
   "source": [
    "5. Calculant la matrice de confusion"
   ]
  },
  {
   "cell_type": "code",
   "execution_count": 75,
   "metadata": {},
   "outputs": [
    {
     "name": "stdout",
     "output_type": "stream",
     "text": [
      "[[1500   95]\n",
      " [ 221  184]]\n"
     ]
    }
   ],
   "source": [
    "# Calcule de Matrix de Confusion\n",
    "y_pred1=classifier1.predict(X_test)\n",
    "y_pred1=(y_pred1>0.5)\n",
    "\n",
    "from sklearn.metrics import confusion_matrix,classification_report,accuracy_score\n",
    "print(confusion_matrix(y_test,y_pred1))"
   ]
  },
  {
   "cell_type": "code",
   "execution_count": 76,
   "metadata": {},
   "outputs": [
    {
     "data": {
      "image/png": "[encoded data removed]",
      "text/plain": [
       "<Figure size 576x432 with 2 Axes>"
      ]
     },
     "metadata": {
      "needs_background": "light"
     },
     "output_type": "display_data"
    }
   ],
   "source": [
    "# Calcul de la matrice de confusion\n",
    "cm = confusion_matrix(y_test, y_pred1)\n",
    "\n",
    "# Création de la heatmap\n",
    "plt.figure(figsize=(8, 6))\n",
    "sns.heatmap(cm, annot=True, cmap='Blues', fmt='g', xticklabels=['Predicted Negative', 'Predicted Positive'], yticklabels=['Actual Negative', 'Actual Positive'])\n",
    "plt.xlabel('Predicted label')\n",
    "plt.ylabel('True label')\n",
    "plt.title('Confusion Matrix')\n",
    "plt.show()"
   ]
  },
  {
   "cell_type": "code",
   "execution_count": 79,
   "metadata": {},
   "outputs": [
    {
     "name": "stdout",
     "output_type": "stream",
     "text": [
      "[[1550   45]\n",
      " [ 227  178]]\n"
     ]
    }
   ],
   "source": [
    "# Calcule de Matrix de Confusion\n",
    "y_pred2=classifier2.predict(X_test)\n",
    "y_pred2=(y_pred2>0.5)\n",
    "\n",
    "from sklearn.metrics import confusion_matrix,classification_report,accuracy_score\n",
    "print(confusion_matrix(y_test,y_pred2))"
   ]
  },
  {
   "cell_type": "code",
   "execution_count": 80,
   "metadata": {},
   "outputs": [
    {
     "data": {
      "image/png": "[encoded data removed]",
      "text/plain": [
       "<Figure size 576x432 with 2 Axes>"
      ]
     },
     "metadata": {
      "needs_background": "light"
     },
     "output_type": "display_data"
    }
   ],
   "source": [
    "# Calcul de la matrice de confusion\n",
    "cm = confusion_matrix(y_test, y_pred2)\n",
    "\n",
    "# Création de la heatmap\n",
    "plt.figure(figsize=(8, 6))\n",
    "sns.heatmap(cm, annot=True, cmap='Blues', fmt='g', xticklabels=['Predicted Negative', 'Predicted Positive'], yticklabels=['Actual Negative', 'Actual Positive'])\n",
    "plt.xlabel('Predicted label')\n",
    "plt.ylabel('True label')\n",
    "plt.title('Confusion Matrix')\n",
    "plt.show()"
   ]
  },
  {
   "cell_type": "code",
   "execution_count": 23,
   "metadata": {},
   "outputs": [
    {
     "name": "stdout",
     "output_type": "stream",
     "text": [
      "Precision: [0.80603448]\n",
      "Recall: [0.4617284]\n",
      "F1 Score: [0.58712716]\n",
      "Accuracy: [0.8685]\n",
      "True Positive: [187]\n",
      "True Negative: [1550]\n",
      "False Positive: [45]\n",
      "False Negative: [218]\n"
     ]
    }
   ],
   "source": [
    "def calculate_classification_metrics(y_true, y_pred):\n",
    "    true_positive = sum((true == 1 and pred == 1) for true, pred in zip(y_true, y_pred))\n",
    "    true_negative = sum((true == 0 and pred == 0) for true, pred in zip(y_true, y_pred))\n",
    "    false_positive = sum((true == 0 and pred == 1) for true, pred in zip(y_true, y_pred))\n",
    "    false_negative = sum((true == 1 and pred == 0) for true, pred in zip(y_true, y_pred))\n",
    "\n",
    "    precision = true_positive / (true_positive + false_positive) if (true_positive + false_positive) != 0 else 0\n",
    "    recall = true_positive / (true_positive + false_negative) if (true_positive + false_negative) != 0 else 0\n",
    "    f1_score = 2 * (precision * recall) / (precision + recall) if (precision + recall) != 0 else 0\n",
    "\n",
    "    accuracy = (true_positive + true_negative) / len(y_true)\n",
    "    \n",
    "    return {\n",
    "        'precision': precision,\n",
    "        'recall': recall,\n",
    "        'f1_score': f1_score,\n",
    "        'accuracy': accuracy,\n",
    "        'true_positive': true_positive,\n",
    "        'true_negative': true_negative,\n",
    "        'false_positive': false_positive,\n",
    "        'false_negative': false_negative,\n",
    "    }\n",
    "\n",
    "\n"
   ]
  },
  {
   "cell_type": "code",
   "execution_count": 81,
   "metadata": {},
   "outputs": [
    {
     "name": "stdout",
     "output_type": "stream",
     "text": [
      "Precision: [0.65949821]\n",
      "Recall: [0.45432099]\n",
      "F1 Score: [0.5380117]\n",
      "Accuracy: [0.842]\n",
      "True Positive: [184]\n",
      "True Negative: [1500]\n",
      "False Positive: [95]\n",
      "False Negative: [221]\n"
     ]
    }
   ],
   "source": [
    "\n",
    "metrics = calculate_classification_metrics(y_test, y_pred1)\n",
    "\n",
    "# Print the classification report\n",
    "print(\"Precision:\", metrics['precision'])\n",
    "print(\"Recall:\", metrics['recall'])\n",
    "print(\"F1 Score:\", metrics['f1_score'])\n",
    "print(\"Accuracy:\", metrics['accuracy'])\n",
    "print(\"True Positive:\", metrics['true_positive'])\n",
    "print(\"True Negative:\", metrics['true_negative'])\n",
    "print(\"False Positive:\", metrics['false_positive'])\n",
    "print(\"False Negative:\", metrics['false_negative'])"
   ]
  },
  {
   "cell_type": "code",
   "execution_count": 82,
   "metadata": {},
   "outputs": [
    {
     "name": "stdout",
     "output_type": "stream",
     "text": [
      "              precision    recall  f1-score   support\n",
      "\n",
      "           0       0.87      0.94      0.90      1595\n",
      "           1       0.66      0.45      0.54       405\n",
      "\n",
      "    accuracy                           0.84      2000\n",
      "   macro avg       0.77      0.70      0.72      2000\n",
      "weighted avg       0.83      0.84      0.83      2000\n",
      "\n"
     ]
    }
   ],
   "source": [
    "print(classification_report(y_test,y_pred1))"
   ]
  },
  {
   "cell_type": "code",
   "execution_count": 83,
   "metadata": {},
   "outputs": [
    {
     "name": "stdout",
     "output_type": "stream",
     "text": [
      "Precision: [0.79820628]\n",
      "Recall: [0.43950617]\n",
      "F1 Score: [0.56687898]\n",
      "Accuracy: [0.864]\n",
      "True Positive: [178]\n",
      "True Negative: [1550]\n",
      "False Positive: [45]\n",
      "False Negative: [227]\n"
     ]
    }
   ],
   "source": [
    "\n",
    "metrics = calculate_classification_metrics(y_test, y_pred2)\n",
    "\n",
    "# Print the classification report\n",
    "print(\"Precision:\", metrics['precision'])\n",
    "print(\"Recall:\", metrics['recall'])\n",
    "print(\"F1 Score:\", metrics['f1_score'])\n",
    "print(\"Accuracy:\", metrics['accuracy'])\n",
    "print(\"True Positive:\", metrics['true_positive'])\n",
    "print(\"True Negative:\", metrics['true_negative'])\n",
    "print(\"False Positive:\", metrics['false_positive'])\n",
    "print(\"False Negative:\", metrics['false_negative'])"
   ]
  },
  {
   "cell_type": "code",
   "execution_count": 84,
   "metadata": {},
   "outputs": [
    {
     "name": "stdout",
     "output_type": "stream",
     "text": [
      "              precision    recall  f1-score   support\n",
      "\n",
      "           0       0.87      0.97      0.92      1595\n",
      "           1       0.80      0.44      0.57       405\n",
      "\n",
      "    accuracy                           0.86      2000\n",
      "   macro avg       0.84      0.71      0.74      2000\n",
      "weighted avg       0.86      0.86      0.85      2000\n",
      "\n"
     ]
    }
   ],
   "source": [
    "print(classification_report(y_test,y_pred2))"
   ]
  },
  {
   "cell_type": "markdown",
   "metadata": {},
   "source": [
    "6. Mesurer l'accuracy du modèle"
   ]
  },
  {
   "cell_type": "code",
   "execution_count": 85,
   "metadata": {},
   "outputs": [
    {
     "name": "stdout",
     "output_type": "stream",
     "text": [
      "0.842\n"
     ]
    }
   ],
   "source": [
    "print(accuracy_score(y_test,y_pred1))"
   ]
  },
  {
   "cell_type": "code",
   "execution_count": 86,
   "metadata": {},
   "outputs": [
    {
     "name": "stdout",
     "output_type": "stream",
     "text": [
      "0.864\n"
     ]
    }
   ],
   "source": [
    "print(accuracy_score(y_test,y_pred2))"
   ]
  },
  {
   "cell_type": "markdown",
   "metadata": {},
   "source": [
    "7. Prédiction d'un Nouveau client"
   ]
  },
  {
   "cell_type": "code",
   "execution_count": 88,
   "metadata": {},
   "outputs": [],
   "source": [
    "credit_score = 600\n",
    "age = 40\n",
    "tenure = 3\n",
    "balance = 60000\n",
    "num_of_products = 2\n",
    "has_credit_card = 1  # Oui\n",
    "is_active_member = 1  # Oui\n",
    "estimated_salary = 50000\n",
    "is_in_france = 1  # France\n",
    "is_male = 1  # Masculin\n",
    "\n",
    "def predict_customer_churn(credit_score, age, tenure, balance, num_of_products, has_credit_card, is_active_member, estimated_salary, is_in_france, is_male, classifier, scaler):\n",
    "    \"\"\"\n",
    "    Predicts customer churn using a trained classifier.\n",
    "\n",
    "    Parameters:\n",
    "    - credit_score: Customer's credit score.\n",
    "    - age: Customer's age.\n",
    "    - tenure: Number of years the customer has been with the bank.\n",
    "    - balance: Customer's account balance.\n",
    "    - num_of_products: Number of bank products the customer uses.\n",
    "    - has_credit_card: Whether the customer has a credit card (1 for Yes, 0 for No).\n",
    "    - is_active_member: Whether the customer is an active member (1 for Yes, 0 for No).\n",
    "    - estimated_salary: Customer's estimated salary.\n",
    "    - is_in_france: Whether the customer is in France (1 for Yes, 0 for No).\n",
    "    - is_male: Whether the customer is male (1 for Yes, 0 for No).\n",
    "    - classifier: Trained classifier for predicting customer churn.\n",
    "    - scaler: StandardScaler used for feature scaling.\n",
    "\n",
    "    Returns:\n",
    "    - Prediction result (True for Churn, False for No Churn).\n",
    "    \"\"\"\n",
    "\n",
    "    # Create a new observation\n",
    "    new_data = np.array([[credit_score, age, tenure, balance, num_of_products, has_credit_card, is_active_member, estimated_salary, 0, not is_in_france, is_male]])\n",
    "\n",
    "    # Scale the new observation\n",
    "    new_data_scaled = scaler.transform(new_data)\n",
    "\n",
    "    # Make the prediction\n",
    "    y_pred = classifier.predict(new_data_scaled)\n",
    "    y_pred = (y_pred > 0.5)\n",
    "\n",
    "    return y_pred[0]\n",
    "\n",
    "\n",
    "\n"
   ]
  },
  {
   "cell_type": "code",
   "execution_count": 87,
   "metadata": {},
   "outputs": [
    {
     "name": "stdout",
     "output_type": "stream",
     "text": [
      "Prediction: [False]\n"
     ]
    }
   ],
   "source": [
    "\n",
    "prediction_result = predict_customer_churn(600, 40, 3, 60000, 2, 1, 1, 50000, 1, 1, classifier1, sc)\n",
    "print(\"Prediction:\", prediction_result)"
   ]
  },
  {
   "cell_type": "code",
   "execution_count": 89,
   "metadata": {},
   "outputs": [
    {
     "name": "stdout",
     "output_type": "stream",
     "text": [
      "Prediction: [False]\n"
     ]
    }
   ],
   "source": [
    "\n",
    "prediction_result = predict_customer_churn(600, 40, 3, 60000, 2, 1, 1, 50000, 1, 1, classifier2, sc)\n",
    "print(\"Prediction:\", prediction_result)"
   ]
  },
  {
   "cell_type": "code",
   "execution_count": 90,
   "metadata": {},
   "outputs": [],
   "source": [
    "classifier1.save(\"model_classifier_1.h5\")"
   ]
  },
  {
   "cell_type": "code",
   "execution_count": null,
   "metadata": {},
   "outputs": [],
   "source": []
  }
 ],
 "metadata": {
  "kernelspec": {
   "display_name": "chat",
   "language": "python",
   "name": "python3"
  },
  "language_info": {
   "codemirror_mode": {
    "name": "ipython",
    "version": 3
   },
   "file_extension": ".py",
   "mimetype": "text/x-python",
   "name": "python",
   "nbconvert_exporter": "python",
   "pygments_lexer": "ipython3",
   "version": "3.6.13"
  }
 },
 "nbformat": 4,
 "nbformat_minor": 2
}
