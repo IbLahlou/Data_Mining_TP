{
 "cells": [
  {
   "cell_type": "markdown",
   "metadata": {},
   "source": [
    "## KNN pour les données Géospatial \n",
    "\n",
    "Soit $X$ l'ensemble des données d'entraînement avec des coordonnées géospatiales, $Y$ les étiquettes correspondantes, et $x$ un point de test. La fonction de distance euclidienne est notée $d(\\cdot, \\cdot)$.\n",
    "\n",
    "La fonction de prédiction $\\hat{y}$ pour un point de test $x$ avec $k$ voisins les plus proches peut être représentée comme suit :\n",
    "\n",
    "$$\\forall x \\in X, \\hat{y}(x) = \\arg\\max_{y_j} \\left( \\sum_{i=1}^{k} \\delta(y_i, y_j) \\right)$$\n",
    "\n",
    "Où $\\delta(\\cdot, \\cdot)$ est la fonction delta de Kronecker qui vaut 1 si les deux arguments sont égaux et 0 sinon.\n",
    "\n",
    "\n",
    "\n",
    "Cela indique que, pour tout point $x$ dans l'ensemble $X$, la prédiction $\\hat{y}(x)$ est la classe ayant la fréquence maximale parmi les $k$ voisins les plus proches.\n",
    "\n",
    "    "
   ]
  },
  {
   "cell_type": "markdown",
   "metadata": {},
   "source": []
  }
 ],
 "metadata": {
  "language_info": {
   "name": "python"
  }
 },
 "nbformat": 4,
 "nbformat_minor": 2
}
